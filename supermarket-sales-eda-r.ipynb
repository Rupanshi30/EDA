



{
 "cells": [
  {
   "cell_type": "code",
   "execution_count": 1,
   "id": "e45540d0",
   "metadata": {
    "_cell_guid": "b1076dfc-b9ad-4769-8c92-a6c4dae69d19",
    "_uuid": "8f2839f25d086af736a60e9eeb907d3b93b6e0e5",
    "execution": {
     "iopub.execute_input": "2022-12-09T17:21:15.123085Z",
     "iopub.status.busy": "2022-12-09T17:21:15.122560Z",
     "iopub.status.idle": "2022-12-09T17:21:16.398911Z",
     "shell.execute_reply": "2022-12-09T17:21:16.397902Z"
    },
    "papermill": {
     "duration": 1.317753,
     "end_time": "2022-12-09T17:21:16.401892",
     "exception": false,
     "start_time": "2022-12-09T17:21:15.084139",
     "status": "completed"
    },
    "tags": []
   },
   "outputs": [
    {
     "name": "stdout",
     "output_type": "stream",
     "text": [
      "/kaggle/input/supermarket-sales/supermarket_sales - Sheet1.csv\n"
     ]
    }
   ],
   "source": [
    "# This Python 3 environment comes with many helpful analytics libraries installed\n",
    "# It is defined by the kaggle/python Docker image: https://github.com/kaggle/docker-python\n",
    "# For example, here's several helpful packages to load\n",
    "\n",
    "import numpy as np # linear algebra\n",
    "import pandas as pd # data processing, CSV file I/O (e.g. pd.read_csv)\n",
    "import seaborn as sns\n",
    "import matplotlib.pyplot as plt\n",
    "# Input data files are available in the read-only \"../input/\" directory\n",
    "# For example, running this (by clicking run or pressing Shift+Enter) will list all files under the input directory\n",
    "\n",
    "import os\n",
    "for dirname, _, filenames in os.walk('/kaggle/input'):\n",
    "    for filename in filenames:\n",
    "        print(os.path.join(dirname, filename))\n",
    "\n",
    "# You can write up to 20GB to the current directory (/kaggle/working/) that gets preserved as output when you create a version using \"Save & Run All\" \n",
    "# You can also write temporary files to /kaggle/temp/, but they won't be saved outside of the current session"
   ]
  },
  {
   "cell_type": "markdown",
   "id": "102bf13b",
   "metadata": {
    "papermill": {
     "duration": 0.03375,
     "end_time": "2022-12-09T17:21:16.472402",
     "exception": false,
     "start_time": "2022-12-09T17:21:16.438652",
     "status": "completed"
    },
    "tags": []
   },
   "source": [
    "- Reading the data set"
   ]
  },
  {
   "cell_type": "code",
   "execution_count": 2,
   "id": "389b9a75",
   "metadata": {
    "execution": {
     "iopub.execute_input": "2022-12-09T17:21:16.542931Z",
     "iopub.status.busy": "2022-12-09T17:21:16.542100Z",
     "iopub.status.idle": "2022-12-09T17:21:16.592782Z",
     "shell.execute_reply": "2022-12-09T17:21:16.591754Z"
    },
    "papermill": {
     "duration": 0.090289,
     "end_time": "2022-12-09T17:21:16.595590",
     "exception": false,
     "start_time": "2022-12-09T17:21:16.505301",
     "status": "completed"
    },
    "tags": []
   },
   "outputs": [
    {
     "data": {
      "text/html": [
       "<div>\n",
       "<style scoped>\n",
       "    .dataframe tbody tr th:only-of-type {\n",
       "        vertical-align: middle;\n",
       "    }\n",
       "\n",
       "    .dataframe tbody tr th {\n",
       "        vertical-align: top;\n",
       "    }\n",
       "\n",
       "    .dataframe thead th {\n",
       "        text-align: right;\n",
       "    }\n",
       "</style>\n",
       "<table border=\"1\" class=\"dataframe\">\n",
       "  <thead>\n",
       "    <tr style=\"text-align: right;\">\n",
       "      <th></th>\n",
       "      <th>Invoice ID</th>\n",
       "      <th>Branch</th>\n",
       "      <th>City</th>\n",
       "      <th>Customer type</th>\n",
       "      <th>Gender</th>\n",
       "      <th>Product line</th>\n",
       "      <th>Unit price</th>\n",
       "      <th>Quantity</th>\n",
       "      <th>Tax 5%</th>\n",
       "      <th>Total</th>\n",
       "      <th>Date</th>\n",
       "      <th>Time</th>\n",
       "      <th>Payment</th>\n",
       "      <th>cogs</th>\n",
       "      <th>gross margin percentage</th>\n",
       "      <th>gross income</th>\n",
       "      <th>Rating</th>\n",
       "    </tr>\n",
       "  </thead>\n",
       "  <tbody>\n",
       "    <tr>\n",
       "      <th>0</th>\n",
       "      <td>750-67-8428</td>\n",
       "      <td>A</td>\n",
       "      <td>Yangon</td>\n",
       "      <td>Member</td>\n",
       "      <td>Female</td>\n",
       "      <td>Health and beauty</td>\n",
       "      <td>74.69</td>\n",
       "      <td>7</td>\n",
       "      <td>26.1415</td>\n",
       "      <td>548.9715</td>\n",
       "      <td>1/5/2019</td>\n",
       "      <td>13:08</td>\n",
       "      <td>Ewallet</td>\n",
       "      <td>522.83</td>\n",
       "      <td>4.761905</td>\n",
       "      <td>26.1415</td>\n",
       "      <td>9.1</td>\n",
       "    </tr>\n",
       "    <tr>\n",
       "      <th>1</th>\n",
       "      <td>226-31-3081</td>\n",
       "      <td>C</td>\n",
       "      <td>Naypyitaw</td>\n",
       "      <td>Normal</td>\n",
       "      <td>Female</td>\n",
       "      <td>Electronic accessories</td>\n",
       "      <td>15.28</td>\n",
       "      <td>5</td>\n",
       "      <td>3.8200</td>\n",
       "      <td>80.2200</td>\n",
       "      <td>3/8/2019</td>\n",
       "      <td>10:29</td>\n",
       "      <td>Cash</td>\n",
       "      <td>76.40</td>\n",
       "      <td>4.761905</td>\n",
       "      <td>3.8200</td>\n",
       "      <td>9.6</td>\n",
       "    </tr>\n",
       "  </tbody>\n",
       "</table>\n",
       "</div>"
      ],
      "text/plain": [
       "    Invoice ID Branch       City Customer type  Gender  \\\n",
       "0  750-67-8428      A     Yangon        Member  Female   \n",
       "1  226-31-3081      C  Naypyitaw        Normal  Female   \n",
       "\n",
       "             Product line  Unit price  Quantity   Tax 5%     Total      Date  \\\n",
       "0       Health and beauty       74.69         7  26.1415  548.9715  1/5/2019   \n",
       "1  Electronic accessories       15.28         5   3.8200   80.2200  3/8/2019   \n",
       "\n",
       "    Time  Payment    cogs  gross margin percentage  gross income  Rating  \n",
       "0  13:08  Ewallet  522.83                 4.761905       26.1415     9.1  \n",
       "1  10:29     Cash   76.40                 4.761905        3.8200     9.6  "
      ]
     },
     "execution_count": 2,
     "metadata": {},
     "output_type": "execute_result"
    }
   ],
   "source": [
    "df=pd.read_csv(\"/kaggle/input/supermarket-sales/supermarket_sales - Sheet1.csv\")\n",
    "df.head(2)"
   ]
  },
  {
   "cell_type": "markdown",
   "id": "063e0197",
   "metadata": {
    "papermill": {
     "duration": 0.033511,
     "end_time": "2022-12-09T17:21:16.665554",
     "exception": false,
     "start_time": "2022-12-09T17:21:16.632043",
     "status": "completed"
    },
    "tags": []
   },
   "source": [
    "## Step 1: checking the basic information"
   ]
  },
  {
   "cell_type": "markdown",
   "id": "13109941",
   "metadata": {
    "papermill": {
     "duration": 0.0353,
     "end_time": "2022-12-09T17:21:16.735821",
     "exception": false,
     "start_time": "2022-12-09T17:21:16.700521",
     "status": "completed"
    },
    "tags": []
   },
   "source": [
    "- checking the shape "
   ]
  },
  {
   "cell_type": "code",
   "execution_count": 3,
   "id": "f39bd6b7",
   "metadata": {
    "execution": {
     "iopub.execute_input": "2022-12-09T17:21:16.810245Z",
     "iopub.status.busy": "2022-12-09T17:21:16.809814Z",
     "iopub.status.idle": "2022-12-09T17:21:16.816394Z",
     "shell.execute_reply": "2022-12-09T17:21:16.815469Z"
    },
    "papermill": {
     "duration": 0.046366,
     "end_time": "2022-12-09T17:21:16.818784",
     "exception": false,
     "start_time": "2022-12-09T17:21:16.772418",
     "status": "completed"
    },
    "tags": []
   },
   "outputs": [
    {
     "data": {
      "text/plain": [
       "(1000, 17)"
      ]
     },
     "execution_count": 3,
     "metadata": {},
     "output_type": "execute_result"
    }
   ],
   "source": [
    "df.shape"
   ]
  },
  {
   "cell_type": "markdown",
   "id": "680c1912",
   "metadata": {
    "papermill": {
     "duration": 0.04809,
     "end_time": "2022-12-09T17:21:16.911671",
     "exception": false,
     "start_time": "2022-12-09T17:21:16.863581",
     "status": "completed"
    },
    "tags": []
   },
   "source": [
    "- how does the data look?"
   ]
  },
  {
   "cell_type": "code",
   "execution_count": 4,
   "id": "4f504cb3",
   "metadata": {
    "execution": {
     "iopub.execute_input": "2022-12-09T17:21:16.996067Z",
     "iopub.status.busy": "2022-12-09T17:21:16.995552Z",
     "iopub.status.idle": "2022-12-09T17:21:17.021962Z",
     "shell.execute_reply": "2022-12-09T17:21:17.020762Z"
    },
    "papermill": {
     "duration": 0.067611,
     "end_time": "2022-12-09T17:21:17.024729",
     "exception": false,
     "start_time": "2022-12-09T17:21:16.957118",
     "status": "completed"
    },
    "tags": []
   },
   "outputs": [
    {
     "data": {
      "text/html": [
       "<div>\n",
       "<style scoped>\n",
       "    .dataframe tbody tr th:only-of-type {\n",
       "        vertical-align: middle;\n",
       "    }\n",
       "\n",
       "    .dataframe tbody tr th {\n",
       "        vertical-align: top;\n",
       "    }\n",
       "\n",
       "    .dataframe thead th {\n",
       "        text-align: right;\n",
       "    }\n",
       "</style>\n",
       "<table border=\"1\" class=\"dataframe\">\n",
       "  <thead>\n",
       "    <tr style=\"text-align: right;\">\n",
       "      <th></th>\n",
       "      <th>Invoice ID</th>\n",
       "      <th>Branch</th>\n",
       "      <th>City</th>\n",
       "      <th>Customer type</th>\n",
       "      <th>Gender</th>\n",
       "      <th>Product line</th>\n",
       "      <th>Unit price</th>\n",
       "      <th>Quantity</th>\n",
       "      <th>Tax 5%</th>\n",
       "      <th>Total</th>\n",
       "      <th>Date</th>\n",
       "      <th>Time</th>\n",
       "      <th>Payment</th>\n",
       "      <th>cogs</th>\n",
       "      <th>gross margin percentage</th>\n",
       "      <th>gross income</th>\n",
       "      <th>Rating</th>\n",
       "    </tr>\n",
       "  </thead>\n",
       "  <tbody>\n",
       "    <tr>\n",
       "      <th>574</th>\n",
       "      <td>550-84-8664</td>\n",
       "      <td>A</td>\n",
       "      <td>Yangon</td>\n",
       "      <td>Normal</td>\n",
       "      <td>Male</td>\n",
       "      <td>Sports and travel</td>\n",
       "      <td>85.91</td>\n",
       "      <td>5</td>\n",
       "      <td>21.4775</td>\n",
       "      <td>451.0275</td>\n",
       "      <td>3/22/2019</td>\n",
       "      <td>14:33</td>\n",
       "      <td>Credit card</td>\n",
       "      <td>429.55</td>\n",
       "      <td>4.761905</td>\n",
       "      <td>21.4775</td>\n",
       "      <td>8.6</td>\n",
       "    </tr>\n",
       "    <tr>\n",
       "      <th>829</th>\n",
       "      <td>416-17-9926</td>\n",
       "      <td>A</td>\n",
       "      <td>Yangon</td>\n",
       "      <td>Member</td>\n",
       "      <td>Female</td>\n",
       "      <td>Electronic accessories</td>\n",
       "      <td>74.22</td>\n",
       "      <td>10</td>\n",
       "      <td>37.1100</td>\n",
       "      <td>779.3100</td>\n",
       "      <td>1/1/2019</td>\n",
       "      <td>14:42</td>\n",
       "      <td>Credit card</td>\n",
       "      <td>742.20</td>\n",
       "      <td>4.761905</td>\n",
       "      <td>37.1100</td>\n",
       "      <td>4.3</td>\n",
       "    </tr>\n",
       "    <tr>\n",
       "      <th>131</th>\n",
       "      <td>802-70-5316</td>\n",
       "      <td>A</td>\n",
       "      <td>Yangon</td>\n",
       "      <td>Member</td>\n",
       "      <td>Female</td>\n",
       "      <td>Sports and travel</td>\n",
       "      <td>92.13</td>\n",
       "      <td>6</td>\n",
       "      <td>27.6390</td>\n",
       "      <td>580.4190</td>\n",
       "      <td>3/6/2019</td>\n",
       "      <td>20:34</td>\n",
       "      <td>Cash</td>\n",
       "      <td>552.78</td>\n",
       "      <td>4.761905</td>\n",
       "      <td>27.6390</td>\n",
       "      <td>8.3</td>\n",
       "    </tr>\n",
       "    <tr>\n",
       "      <th>135</th>\n",
       "      <td>597-78-7908</td>\n",
       "      <td>C</td>\n",
       "      <td>Naypyitaw</td>\n",
       "      <td>Normal</td>\n",
       "      <td>Male</td>\n",
       "      <td>Fashion accessories</td>\n",
       "      <td>90.22</td>\n",
       "      <td>3</td>\n",
       "      <td>13.5330</td>\n",
       "      <td>284.1930</td>\n",
       "      <td>2/18/2019</td>\n",
       "      <td>19:39</td>\n",
       "      <td>Cash</td>\n",
       "      <td>270.66</td>\n",
       "      <td>4.761905</td>\n",
       "      <td>13.5330</td>\n",
       "      <td>6.2</td>\n",
       "    </tr>\n",
       "    <tr>\n",
       "      <th>527</th>\n",
       "      <td>339-38-9982</td>\n",
       "      <td>B</td>\n",
       "      <td>Mandalay</td>\n",
       "      <td>Member</td>\n",
       "      <td>Male</td>\n",
       "      <td>Fashion accessories</td>\n",
       "      <td>59.86</td>\n",
       "      <td>2</td>\n",
       "      <td>5.9860</td>\n",
       "      <td>125.7060</td>\n",
       "      <td>1/13/2019</td>\n",
       "      <td>14:55</td>\n",
       "      <td>Ewallet</td>\n",
       "      <td>119.72</td>\n",
       "      <td>4.761905</td>\n",
       "      <td>5.9860</td>\n",
       "      <td>6.7</td>\n",
       "    </tr>\n",
       "  </tbody>\n",
       "</table>\n",
       "</div>"
      ],
      "text/plain": [
       "      Invoice ID Branch       City Customer type  Gender  \\\n",
       "574  550-84-8664      A     Yangon        Normal    Male   \n",
       "829  416-17-9926      A     Yangon        Member  Female   \n",
       "131  802-70-5316      A     Yangon        Member  Female   \n",
       "135  597-78-7908      C  Naypyitaw        Normal    Male   \n",
       "527  339-38-9982      B   Mandalay        Member    Male   \n",
       "\n",
       "               Product line  Unit price  Quantity   Tax 5%     Total  \\\n",
       "574       Sports and travel       85.91         5  21.4775  451.0275   \n",
       "829  Electronic accessories       74.22        10  37.1100  779.3100   \n",
       "131       Sports and travel       92.13         6  27.6390  580.4190   \n",
       "135     Fashion accessories       90.22         3  13.5330  284.1930   \n",
       "527     Fashion accessories       59.86         2   5.9860  125.7060   \n",
       "\n",
       "          Date   Time      Payment    cogs  gross margin percentage  \\\n",
       "574  3/22/2019  14:33  Credit card  429.55                 4.761905   \n",
       "829   1/1/2019  14:42  Credit card  742.20                 4.761905   \n",
       "131   3/6/2019  20:34         Cash  552.78                 4.761905   \n",
       "135  2/18/2019  19:39         Cash  270.66                 4.761905   \n",
       "527  1/13/2019  14:55      Ewallet  119.72                 4.761905   \n",
       "\n",
       "     gross income  Rating  \n",
       "574       21.4775     8.6  \n",
       "829       37.1100     4.3  \n",
       "131       27.6390     8.3  \n",
       "135       13.5330     6.2  \n",
       "527        5.9860     6.7  "
      ]
     },
     "execution_count": 4,
     "metadata": {},
     "output_type": "execute_result"
    }
   ],
   "source": [
    "df.sample(5) ## randomly choose 5 rows to get rid off biased nature of data that may seen \n"
   ]
  },
  {
   "cell_type": "markdown",
   "id": "245edd83",
   "metadata": {
    "papermill": {
     "duration": 0.037357,
     "end_time": "2022-12-09T17:21:17.098629",
     "exception": false,
     "start_time": "2022-12-09T17:21:17.061272",
     "status": "completed"
    },
    "tags": []
   },
   "source": [
    "## column description"
   ]
  },
  {
   "cell_type": "markdown",
   "id": "ada5a79c",
   "metadata": {
    "papermill": {
     "duration": 0.036234,
     "end_time": "2022-12-09T17:21:17.171889",
     "exception": false,
     "start_time": "2022-12-09T17:21:17.135655",
     "status": "completed"
    },
    "tags": []
   },
   "source": [
    "##### - Attributes Information\n",
    "\n",
    "- Invoice id: Computer generated sales slip invoice identification number\n",
    "\n",
    "- Branch: Branch of supercenter (3 branches are available identified by A, B and C).\n",
    "\n",
    "- City: Location of supercenters\n",
    "\n",
    "- Customer type: Type of customers, recorded by Members for customers using member card and Normal for without member card.\n",
    "\n",
    "- Gender: Gender type of customer\n",
    "\n",
    "- Product line: General item categorization groups - Electronic accessories, Fashion accessories, Food and beverages, Health and beauty, Home and lifestyle, Sports and travel\n",
    "- Unit price: Price of each product in $\n",
    "\n",
    "- Quantity: Number of products purchased by customer\n",
    "\n",
    "- Tax: 5% tax fee for customer buying\n",
    "\n",
    "- Total: Total price including tax \n",
    "- to find total=(df['Unit price']*df['Quantity'])+df['Tax 5%']\n",
    "total\n",
    "\n",
    "\n",
    "- Date: Date of purchase (Record available from January 2019 to March 2019)\n",
    "\n",
    "- Time: Purchase time (10am to 9pm)\n",
    "\n",
    "- Payment: Payment used by customer for purchase (3 methods are available – Cash, Credit card and Ewallet)\n",
    "\n",
    "- COGS: Cost of goods sold\n",
    "\n",
    "- Gross margin percentage: Gross margin percentage\n",
    "- to find gross_Margin=(df['Total']- df['cogs'])/df['Total']*(100)\n",
    "gross_Margin  ## means profit %\n",
    "\n",
    "\n",
    "- Gross income: Gross income\n",
    "\n",
    "- Rating: Customer stratification rating on their overall shopping experience (On a scale of 1 to 10)\n",
    "\n",
    "\n"
   ]
  },
  {
   "cell_type": "markdown",
   "id": "9092e218",
   "metadata": {
    "papermill": {
     "duration": 0.035599,
     "end_time": "2022-12-09T17:21:17.242556",
     "exception": false,
     "start_time": "2022-12-09T17:21:17.206957",
     "status": "completed"
    },
    "tags": []
   },
   "source": [
    "- basic information"
   ]
  },
  {
   "cell_type": "code",
   "execution_count": 5,
   "id": "48a4608f",
   "metadata": {
    "execution": {
     "iopub.execute_input": "2022-12-09T17:21:17.316932Z",
     "iopub.status.busy": "2022-12-09T17:21:17.315363Z",
     "iopub.status.idle": "2022-12-09T17:21:17.335400Z",
     "shell.execute_reply": "2022-12-09T17:21:17.334384Z"
    },
    "papermill": {
     "duration": 0.05873,
     "end_time": "2022-12-09T17:21:17.337963",
     "exception": false,
     "start_time": "2022-12-09T17:21:17.279233",
     "status": "completed"
    },
    "tags": []
   },
   "outputs": [
    {
     "data": {
      "text/plain": [
       "<bound method DataFrame.info of       Invoice ID Branch       City Customer type  Gender  \\\n",
       "0    750-67-8428      A     Yangon        Member  Female   \n",
       "1    226-31-3081      C  Naypyitaw        Normal  Female   \n",
       "2    631-41-3108      A     Yangon        Normal    Male   \n",
       "3    123-19-1176      A     Yangon        Member    Male   \n",
       "4    373-73-7910      A     Yangon        Normal    Male   \n",
       "..           ...    ...        ...           ...     ...   \n",
       "995  233-67-5758      C  Naypyitaw        Normal    Male   \n",
       "996  303-96-2227      B   Mandalay        Normal  Female   \n",
       "997  727-02-1313      A     Yangon        Member    Male   \n",
       "998  347-56-2442      A     Yangon        Normal    Male   \n",
       "999  849-09-3807      A     Yangon        Member  Female   \n",
       "\n",
       "               Product line  Unit price  Quantity   Tax 5%      Total  \\\n",
       "0         Health and beauty       74.69         7  26.1415   548.9715   \n",
       "1    Electronic accessories       15.28         5   3.8200    80.2200   \n",
       "2        Home and lifestyle       46.33         7  16.2155   340.5255   \n",
       "3         Health and beauty       58.22         8  23.2880   489.0480   \n",
       "4         Sports and travel       86.31         7  30.2085   634.3785   \n",
       "..                      ...         ...       ...      ...        ...   \n",
       "995       Health and beauty       40.35         1   2.0175    42.3675   \n",
       "996      Home and lifestyle       97.38        10  48.6900  1022.4900   \n",
       "997      Food and beverages       31.84         1   1.5920    33.4320   \n",
       "998      Home and lifestyle       65.82         1   3.2910    69.1110   \n",
       "999     Fashion accessories       88.34         7  30.9190   649.2990   \n",
       "\n",
       "          Date   Time      Payment    cogs  gross margin percentage  \\\n",
       "0     1/5/2019  13:08      Ewallet  522.83                 4.761905   \n",
       "1     3/8/2019  10:29         Cash   76.40                 4.761905   \n",
       "2     3/3/2019  13:23  Credit card  324.31                 4.761905   \n",
       "3    1/27/2019  20:33      Ewallet  465.76                 4.761905   \n",
       "4     2/8/2019  10:37      Ewallet  604.17                 4.761905   \n",
       "..         ...    ...          ...     ...                      ...   \n",
       "995  1/29/2019  13:46      Ewallet   40.35                 4.761905   \n",
       "996   3/2/2019  17:16      Ewallet  973.80                 4.761905   \n",
       "997   2/9/2019  13:22         Cash   31.84                 4.761905   \n",
       "998  2/22/2019  15:33         Cash   65.82                 4.761905   \n",
       "999  2/18/2019  13:28         Cash  618.38                 4.761905   \n",
       "\n",
       "     gross income  Rating  \n",
       "0         26.1415     9.1  \n",
       "1          3.8200     9.6  \n",
       "2         16.2155     7.4  \n",
       "3         23.2880     8.4  \n",
       "4         30.2085     5.3  \n",
       "..            ...     ...  \n",
       "995        2.0175     6.2  \n",
       "996       48.6900     4.4  \n",
       "997        1.5920     7.7  \n",
       "998        3.2910     4.1  \n",
       "999       30.9190     6.6  \n",
       "\n",
       "[1000 rows x 17 columns]>"
      ]
     },
     "execution_count": 5,
     "metadata": {},
     "output_type": "execute_result"
    }
   ],
   "source": [
    "df.info"
   ]
  },
  {
   "cell_type": "markdown",
   "id": "e26a5bee",
   "metadata": {
    "execution": {
     "iopub.execute_input": "2022-12-06T05:46:44.511970Z",
     "iopub.status.busy": "2022-12-06T05:46:44.511461Z",
     "iopub.status.idle": "2022-12-06T05:46:44.517352Z",
     "shell.execute_reply": "2022-12-06T05:46:44.515983Z",
     "shell.execute_reply.started": "2022-12-06T05:46:44.511933Z"
    },
    "papermill": {
     "duration": 0.03644,
     "end_time": "2022-12-09T17:21:17.410645",
     "exception": false,
     "start_time": "2022-12-09T17:21:17.374205",
     "status": "completed"
    },
    "tags": []
   },
   "source": [
    "##### checking the unique values"
   ]
  },
  {
   "cell_type": "code",
   "execution_count": 6,
   "id": "4fff3431",
   "metadata": {
    "execution": {
     "iopub.execute_input": "2022-12-09T17:21:17.487284Z",
     "iopub.status.busy": "2022-12-09T17:21:17.486511Z",
     "iopub.status.idle": "2022-12-09T17:21:17.492083Z",
     "shell.execute_reply": "2022-12-09T17:21:17.490685Z"
    },
    "papermill": {
     "duration": 0.047134,
     "end_time": "2022-12-09T17:21:17.495214",
     "exception": false,
     "start_time": "2022-12-09T17:21:17.448080",
     "status": "completed"
    },
    "tags": []
   },
   "outputs": [],
   "source": [
    "#for i in df.columns:\n",
    "    #print(i,\"---\",df[i].unique(),\"and total unique values are\",df[i].nunique())"
   ]
  },
  {
   "cell_type": "markdown",
   "id": "7290f681",
   "metadata": {
    "papermill": {
     "duration": 0.0399,
     "end_time": "2022-12-09T17:21:17.574020",
     "exception": false,
     "start_time": "2022-12-09T17:21:17.534120",
     "status": "completed"
    },
    "tags": []
   },
   "source": [
    "### step 2 : Preprocessing"
   ]
  },
  {
   "cell_type": "markdown",
   "id": "f6280c2f",
   "metadata": {
    "papermill": {
     "duration": 0.038455,
     "end_time": "2022-12-09T17:21:17.653604",
     "exception": false,
     "start_time": "2022-12-09T17:21:17.615149",
     "status": "completed"
    },
    "tags": []
   },
   "source": [
    "- checking the missing values"
   ]
  },
  {
   "cell_type": "code",
   "execution_count": 7,
   "id": "e8144d9e",
   "metadata": {
    "execution": {
     "iopub.execute_input": "2022-12-09T17:21:17.730049Z",
     "iopub.status.busy": "2022-12-09T17:21:17.729615Z",
     "iopub.status.idle": "2022-12-09T17:21:17.741527Z",
     "shell.execute_reply": "2022-12-09T17:21:17.740246Z"
    },
    "papermill": {
     "duration": 0.054524,
     "end_time": "2022-12-09T17:21:17.745244",
     "exception": false,
     "start_time": "2022-12-09T17:21:17.690720",
     "status": "completed"
    },
    "tags": []
   },
   "outputs": [
    {
     "data": {
      "text/plain": [
       "Invoice ID                 0\n",
       "Branch                     0\n",
       "City                       0\n",
       "Customer type              0\n",
       "Gender                     0\n",
       "Product line               0\n",
       "Unit price                 0\n",
       "Quantity                   0\n",
       "Tax 5%                     0\n",
       "Total                      0\n",
       "Date                       0\n",
       "Time                       0\n",
       "Payment                    0\n",
       "cogs                       0\n",
       "gross margin percentage    0\n",
       "gross income               0\n",
       "Rating                     0\n",
       "dtype: int64"
      ]
     },
     "execution_count": 7,
     "metadata": {},
     "output_type": "execute_result"
    }
   ],
   "source": [
    "df.isnull().sum()"
   ]
  },
  {
   "cell_type": "markdown",
   "id": "0dc7b106",
   "metadata": {
    "papermill": {
     "duration": 0.038039,
     "end_time": "2022-12-09T17:21:17.818829",
     "exception": false,
     "start_time": "2022-12-09T17:21:17.780790",
     "status": "completed"
    },
    "tags": []
   },
   "source": [
    "#### from the above output, we can say there is no missing values in the data"
   ]
  },
  {
   "cell_type": "markdown",
   "id": "cc3d926e",
   "metadata": {
    "papermill": {
     "duration": 0.036497,
     "end_time": "2022-12-09T17:21:17.891274",
     "exception": false,
     "start_time": "2022-12-09T17:21:17.854777",
     "status": "completed"
    },
    "tags": []
   },
   "source": [
    "- checking the column types"
   ]
  },
  {
   "cell_type": "code",
   "execution_count": 8,
   "id": "13185851",
   "metadata": {
    "execution": {
     "iopub.execute_input": "2022-12-09T17:21:17.967818Z",
     "iopub.status.busy": "2022-12-09T17:21:17.967412Z",
     "iopub.status.idle": "2022-12-09T17:21:17.977672Z",
     "shell.execute_reply": "2022-12-09T17:21:17.975921Z"
    },
    "papermill": {
     "duration": 0.052393,
     "end_time": "2022-12-09T17:21:17.980482",
     "exception": false,
     "start_time": "2022-12-09T17:21:17.928089",
     "status": "completed"
    },
    "tags": []
   },
   "outputs": [
    {
     "data": {
      "text/plain": [
       "Invoice ID                  object\n",
       "Branch                      object\n",
       "City                        object\n",
       "Customer type               object\n",
       "Gender                      object\n",
       "Product line                object\n",
       "Unit price                 float64\n",
       "Quantity                     int64\n",
       "Tax 5%                     float64\n",
       "Total                      float64\n",
       "Date                        object\n",
       "Time                        object\n",
       "Payment                     object\n",
       "cogs                       float64\n",
       "gross margin percentage    float64\n",
       "gross income               float64\n",
       "Rating                     float64\n",
       "dtype: object"
      ]
     },
     "execution_count": 8,
     "metadata": {},
     "output_type": "execute_result"
    }
   ],
   "source": [
    "df.dtypes"
   ]
  },
  {
   "cell_type": "markdown",
   "id": "7e4bee4a",
   "metadata": {
    "papermill": {
     "duration": 0.039237,
     "end_time": "2022-12-09T17:21:18.058693",
     "exception": false,
     "start_time": "2022-12-09T17:21:18.019456",
     "status": "completed"
    },
    "tags": []
   },
   "source": [
    "#### from this we know, Date and Time is in object data type, for better analysis we will change it to DateTime"
   ]
  },
  {
   "cell_type": "code",
   "execution_count": 9,
   "id": "46b13fcb",
   "metadata": {
    "execution": {
     "iopub.execute_input": "2022-12-09T17:21:18.138548Z",
     "iopub.status.busy": "2022-12-09T17:21:18.138114Z",
     "iopub.status.idle": "2022-12-09T17:21:18.166659Z",
     "shell.execute_reply": "2022-12-09T17:21:18.165470Z"
    },
    "papermill": {
     "duration": 0.069398,
     "end_time": "2022-12-09T17:21:18.169467",
     "exception": false,
     "start_time": "2022-12-09T17:21:18.100069",
     "status": "completed"
    },
    "tags": []
   },
   "outputs": [],
   "source": [
    "df['Date'] = pd.to_datetime(df['Date'])"
   ]
  },
  {
   "cell_type": "code",
   "execution_count": 10,
   "id": "10f069fe",
   "metadata": {
    "execution": {
     "iopub.execute_input": "2022-12-09T17:21:18.247690Z",
     "iopub.status.busy": "2022-12-09T17:21:18.247015Z",
     "iopub.status.idle": "2022-12-09T17:21:18.298487Z",
     "shell.execute_reply": "2022-12-09T17:21:18.297194Z"
    },
    "papermill": {
     "duration": 0.094404,
     "end_time": "2022-12-09T17:21:18.302757",
     "exception": false,
     "start_time": "2022-12-09T17:21:18.208353",
     "status": "completed"
    },
    "tags": []
   },
   "outputs": [],
   "source": [
    "df['Time'] = pd.to_datetime(df['Time'])"
   ]
  },
  {
   "cell_type": "code",
   "execution_count": 11,
   "id": "63a56187",
   "metadata": {
    "execution": {
     "iopub.execute_input": "2022-12-09T17:21:18.383017Z",
     "iopub.status.busy": "2022-12-09T17:21:18.382581Z",
     "iopub.status.idle": "2022-12-09T17:21:18.390626Z",
     "shell.execute_reply": "2022-12-09T17:21:18.389339Z"
    },
    "papermill": {
     "duration": 0.050388,
     "end_time": "2022-12-09T17:21:18.393174",
     "exception": false,
     "start_time": "2022-12-09T17:21:18.342786",
     "status": "completed"
    },
    "tags": []
   },
   "outputs": [
    {
     "data": {
      "text/plain": [
       "Invoice ID                         object\n",
       "Branch                             object\n",
       "City                               object\n",
       "Customer type                      object\n",
       "Gender                             object\n",
       "Product line                       object\n",
       "Unit price                        float64\n",
       "Quantity                            int64\n",
       "Tax 5%                            float64\n",
       "Total                             float64\n",
       "Date                       datetime64[ns]\n",
       "Time                       datetime64[ns]\n",
       "Payment                            object\n",
       "cogs                              float64\n",
       "gross margin percentage           float64\n",
       "gross income                      float64\n",
       "Rating                            float64\n",
       "dtype: object"
      ]
     },
     "execution_count": 11,
     "metadata": {},
     "output_type": "execute_result"
    }
   ],
   "source": [
    "df.dtypes"
   ]
  },
  {
   "cell_type": "markdown",
   "id": "f0de909a",
   "metadata": {
    "papermill": {
     "duration": 0.036062,
     "end_time": "2022-12-09T17:21:18.467418",
     "exception": false,
     "start_time": "2022-12-09T17:21:18.431356",
     "status": "completed"
    },
    "tags": []
   },
   "source": [
    "### Feature engineering"
   ]
  },
  {
   "cell_type": "code",
   "execution_count": 12,
   "id": "39e8ab24",
   "metadata": {
    "execution": {
     "iopub.execute_input": "2022-12-09T17:21:18.544717Z",
     "iopub.status.busy": "2022-12-09T17:21:18.543666Z",
     "iopub.status.idle": "2022-12-09T17:21:18.571996Z",
     "shell.execute_reply": "2022-12-09T17:21:18.570928Z"
    },
    "papermill": {
     "duration": 0.07085,
     "end_time": "2022-12-09T17:21:18.574537",
     "exception": false,
     "start_time": "2022-12-09T17:21:18.503687",
     "status": "completed"
    },
    "tags": []
   },
   "outputs": [
    {
     "data": {
      "text/html": [
       "<div>\n",
       "<style scoped>\n",
       "    .dataframe tbody tr th:only-of-type {\n",
       "        vertical-align: middle;\n",
       "    }\n",
       "\n",
       "    .dataframe tbody tr th {\n",
       "        vertical-align: top;\n",
       "    }\n",
       "\n",
       "    .dataframe thead th {\n",
       "        text-align: right;\n",
       "    }\n",
       "</style>\n",
       "<table border=\"1\" class=\"dataframe\">\n",
       "  <thead>\n",
       "    <tr style=\"text-align: right;\">\n",
       "      <th></th>\n",
       "      <th>Invoice ID</th>\n",
       "      <th>Branch</th>\n",
       "      <th>City</th>\n",
       "      <th>Customer type</th>\n",
       "      <th>Gender</th>\n",
       "      <th>Product line</th>\n",
       "      <th>Unit price</th>\n",
       "      <th>Quantity</th>\n",
       "      <th>Tax 5%</th>\n",
       "      <th>Total</th>\n",
       "      <th>Date</th>\n",
       "      <th>Time</th>\n",
       "      <th>Payment</th>\n",
       "      <th>cogs</th>\n",
       "      <th>gross margin percentage</th>\n",
       "      <th>gross income</th>\n",
       "      <th>Rating</th>\n",
       "      <th>Days</th>\n",
       "      <th>Month</th>\n",
       "      <th>weekday</th>\n",
       "    </tr>\n",
       "  </thead>\n",
       "  <tbody>\n",
       "    <tr>\n",
       "      <th>0</th>\n",
       "      <td>750-67-8428</td>\n",
       "      <td>A</td>\n",
       "      <td>Yangon</td>\n",
       "      <td>Member</td>\n",
       "      <td>Female</td>\n",
       "      <td>Health and beauty</td>\n",
       "      <td>74.69</td>\n",
       "      <td>7</td>\n",
       "      <td>26.1415</td>\n",
       "      <td>548.9715</td>\n",
       "      <td>2019-01-05</td>\n",
       "      <td>2022-12-09 13:08:00</td>\n",
       "      <td>Ewallet</td>\n",
       "      <td>522.83</td>\n",
       "      <td>4.761905</td>\n",
       "      <td>26.1415</td>\n",
       "      <td>9.1</td>\n",
       "      <td>Saturday</td>\n",
       "      <td>January</td>\n",
       "      <td>5</td>\n",
       "    </tr>\n",
       "    <tr>\n",
       "      <th>1</th>\n",
       "      <td>226-31-3081</td>\n",
       "      <td>C</td>\n",
       "      <td>Naypyitaw</td>\n",
       "      <td>Normal</td>\n",
       "      <td>Female</td>\n",
       "      <td>Electronic accessories</td>\n",
       "      <td>15.28</td>\n",
       "      <td>5</td>\n",
       "      <td>3.8200</td>\n",
       "      <td>80.2200</td>\n",
       "      <td>2019-03-08</td>\n",
       "      <td>2022-12-09 10:29:00</td>\n",
       "      <td>Cash</td>\n",
       "      <td>76.40</td>\n",
       "      <td>4.761905</td>\n",
       "      <td>3.8200</td>\n",
       "      <td>9.6</td>\n",
       "      <td>Friday</td>\n",
       "      <td>March</td>\n",
       "      <td>4</td>\n",
       "    </tr>\n",
       "  </tbody>\n",
       "</table>\n",
       "</div>"
      ],
      "text/plain": [
       "    Invoice ID Branch       City Customer type  Gender  \\\n",
       "0  750-67-8428      A     Yangon        Member  Female   \n",
       "1  226-31-3081      C  Naypyitaw        Normal  Female   \n",
       "\n",
       "             Product line  Unit price  Quantity   Tax 5%     Total       Date  \\\n",
       "0       Health and beauty       74.69         7  26.1415  548.9715 2019-01-05   \n",
       "1  Electronic accessories       15.28         5   3.8200   80.2200 2019-03-08   \n",
       "\n",
       "                 Time  Payment    cogs  gross margin percentage  gross income  \\\n",
       "0 2022-12-09 13:08:00  Ewallet  522.83                 4.761905       26.1415   \n",
       "1 2022-12-09 10:29:00     Cash   76.40                 4.761905        3.8200   \n",
       "\n",
       "   Rating      Days    Month  weekday  \n",
       "0     9.1  Saturday  January        5  \n",
       "1     9.6    Friday    March        4  "
      ]
     },
     "execution_count": 12,
     "metadata": {},
     "output_type": "execute_result"
    }
   ],
   "source": [
    "from datetime import  datetime as dt\n",
    "df[\"Days\"]=df[\"Date\"].dt.day_name()\n",
    "df[\"Month\"]=df[\"Date\"].dt.month_name()\n",
    "df[\"weekday\"]=df.Date.dt.weekday\n",
    "df.head(2)"
   ]
  },
  {
   "cell_type": "markdown",
   "id": "d9605153",
   "metadata": {
    "papermill": {
     "duration": 0.036245,
     "end_time": "2022-12-09T17:21:18.650783",
     "exception": false,
     "start_time": "2022-12-09T17:21:18.614538",
     "status": "completed"
    },
    "tags": []
   },
   "source": [
    "#### Branch A is in city Yangon\n",
    "#### Branch B is in city Mandalay\n",
    "#### Branch c is in city Naypyitaw-\n",
    "\n",
    "\n",
    "- so we will keep one of them and drop other and invoiceid is irrelevant to our data so we will drop that too\n"
   ]
  },
  {
   "cell_type": "code",
   "execution_count": 13,
   "id": "2a179cbc",
   "metadata": {
    "execution": {
     "iopub.execute_input": "2022-12-09T17:21:18.725334Z",
     "iopub.status.busy": "2022-12-09T17:21:18.724510Z",
     "iopub.status.idle": "2022-12-09T17:21:18.732729Z",
     "shell.execute_reply": "2022-12-09T17:21:18.731301Z"
    },
    "papermill": {
     "duration": 0.049396,
     "end_time": "2022-12-09T17:21:18.735493",
     "exception": false,
     "start_time": "2022-12-09T17:21:18.686097",
     "status": "completed"
    },
    "tags": []
   },
   "outputs": [],
   "source": [
    "df.drop(columns=[\"Invoice ID\",\"City\"],inplace=True)"
   ]
  },
  {
   "cell_type": "code",
   "execution_count": 14,
   "id": "e7a47978",
   "metadata": {
    "execution": {
     "iopub.execute_input": "2022-12-09T17:21:18.814017Z",
     "iopub.status.busy": "2022-12-09T17:21:18.813058Z",
     "iopub.status.idle": "2022-12-09T17:21:18.834416Z",
     "shell.execute_reply": "2022-12-09T17:21:18.833422Z"
    },
    "papermill": {
     "duration": 0.064823,
     "end_time": "2022-12-09T17:21:18.837471",
     "exception": false,
     "start_time": "2022-12-09T17:21:18.772648",
     "status": "completed"
    },
    "tags": []
   },
   "outputs": [
    {
     "data": {
      "text/html": [
       "<div>\n",
       "<style scoped>\n",
       "    .dataframe tbody tr th:only-of-type {\n",
       "        vertical-align: middle;\n",
       "    }\n",
       "\n",
       "    .dataframe tbody tr th {\n",
       "        vertical-align: top;\n",
       "    }\n",
       "\n",
       "    .dataframe thead th {\n",
       "        text-align: right;\n",
       "    }\n",
       "</style>\n",
       "<table border=\"1\" class=\"dataframe\">\n",
       "  <thead>\n",
       "    <tr style=\"text-align: right;\">\n",
       "      <th></th>\n",
       "      <th>Branch</th>\n",
       "      <th>Customer type</th>\n",
       "      <th>Gender</th>\n",
       "      <th>Product line</th>\n",
       "      <th>Unit price</th>\n",
       "      <th>Quantity</th>\n",
       "      <th>Tax 5%</th>\n",
       "      <th>Total</th>\n",
       "      <th>Date</th>\n",
       "      <th>Time</th>\n",
       "      <th>Payment</th>\n",
       "      <th>cogs</th>\n",
       "      <th>gross margin percentage</th>\n",
       "      <th>gross income</th>\n",
       "      <th>Rating</th>\n",
       "      <th>Days</th>\n",
       "      <th>Month</th>\n",
       "      <th>weekday</th>\n",
       "    </tr>\n",
       "  </thead>\n",
       "  <tbody>\n",
       "    <tr>\n",
       "      <th>0</th>\n",
       "      <td>A</td>\n",
       "      <td>Member</td>\n",
       "      <td>Female</td>\n",
       "      <td>Health and beauty</td>\n",
       "      <td>74.69</td>\n",
       "      <td>7</td>\n",
       "      <td>26.1415</td>\n",
       "      <td>548.9715</td>\n",
       "      <td>2019-01-05</td>\n",
       "      <td>2022-12-09 13:08:00</td>\n",
       "      <td>Ewallet</td>\n",
       "      <td>522.83</td>\n",
       "      <td>4.761905</td>\n",
       "      <td>26.1415</td>\n",
       "      <td>9.1</td>\n",
       "      <td>Saturday</td>\n",
       "      <td>January</td>\n",
       "      <td>5</td>\n",
       "    </tr>\n",
       "    <tr>\n",
       "      <th>1</th>\n",
       "      <td>C</td>\n",
       "      <td>Normal</td>\n",
       "      <td>Female</td>\n",
       "      <td>Electronic accessories</td>\n",
       "      <td>15.28</td>\n",
       "      <td>5</td>\n",
       "      <td>3.8200</td>\n",
       "      <td>80.2200</td>\n",
       "      <td>2019-03-08</td>\n",
       "      <td>2022-12-09 10:29:00</td>\n",
       "      <td>Cash</td>\n",
       "      <td>76.40</td>\n",
       "      <td>4.761905</td>\n",
       "      <td>3.8200</td>\n",
       "      <td>9.6</td>\n",
       "      <td>Friday</td>\n",
       "      <td>March</td>\n",
       "      <td>4</td>\n",
       "    </tr>\n",
       "  </tbody>\n",
       "</table>\n",
       "</div>"
      ],
      "text/plain": [
       "  Branch Customer type  Gender            Product line  Unit price  Quantity  \\\n",
       "0      A        Member  Female       Health and beauty       74.69         7   \n",
       "1      C        Normal  Female  Electronic accessories       15.28         5   \n",
       "\n",
       "    Tax 5%     Total       Date                Time  Payment    cogs  \\\n",
       "0  26.1415  548.9715 2019-01-05 2022-12-09 13:08:00  Ewallet  522.83   \n",
       "1   3.8200   80.2200 2019-03-08 2022-12-09 10:29:00     Cash   76.40   \n",
       "\n",
       "   gross margin percentage  gross income  Rating      Days    Month  weekday  \n",
       "0                 4.761905       26.1415     9.1  Saturday  January        5  \n",
       "1                 4.761905        3.8200     9.6    Friday    March        4  "
      ]
     },
     "execution_count": 14,
     "metadata": {},
     "output_type": "execute_result"
    }
   ],
   "source": [
    "df.head(2)"
   ]
  },
  {
   "cell_type": "markdown",
   "id": "1de8aa4a",
   "metadata": {
    "papermill": {
     "duration": 0.036485,
     "end_time": "2022-12-09T17:21:18.912777",
     "exception": false,
     "start_time": "2022-12-09T17:21:18.876292",
     "status": "completed"
    },
    "tags": []
   },
   "source": [
    "### Insights"
   ]
  },
  {
   "cell_type": "markdown",
   "id": "7ca67462",
   "metadata": {
    "papermill": {
     "duration": 0.036553,
     "end_time": "2022-12-09T17:21:18.986628",
     "exception": false,
     "start_time": "2022-12-09T17:21:18.950075",
     "status": "completed"
    },
    "tags": []
   },
   "source": [
    "- Descriptive statistical summary of numeric data"
   ]
  },
  {
   "cell_type": "code",
   "execution_count": 15,
   "id": "48033303",
   "metadata": {
    "execution": {
     "iopub.execute_input": "2022-12-09T17:21:19.067154Z",
     "iopub.status.busy": "2022-12-09T17:21:19.066492Z",
     "iopub.status.idle": "2022-12-09T17:21:19.118104Z",
     "shell.execute_reply": "2022-12-09T17:21:19.116684Z"
    },
    "papermill": {
     "duration": 0.095709,
     "end_time": "2022-12-09T17:21:19.120773",
     "exception": false,
     "start_time": "2022-12-09T17:21:19.025064",
     "status": "completed"
    },
    "tags": []
   },
   "outputs": [
    {
     "data": {
      "text/html": [
       "<div>\n",
       "<style scoped>\n",
       "    .dataframe tbody tr th:only-of-type {\n",
       "        vertical-align: middle;\n",
       "    }\n",
       "\n",
       "    .dataframe tbody tr th {\n",
       "        vertical-align: top;\n",
       "    }\n",
       "\n",
       "    .dataframe thead th {\n",
       "        text-align: right;\n",
       "    }\n",
       "</style>\n",
       "<table border=\"1\" class=\"dataframe\">\n",
       "  <thead>\n",
       "    <tr style=\"text-align: right;\">\n",
       "      <th></th>\n",
       "      <th>count</th>\n",
       "      <th>mean</th>\n",
       "      <th>std</th>\n",
       "      <th>min</th>\n",
       "      <th>25%</th>\n",
       "      <th>50%</th>\n",
       "      <th>75%</th>\n",
       "      <th>max</th>\n",
       "    </tr>\n",
       "  </thead>\n",
       "  <tbody>\n",
       "    <tr>\n",
       "      <th>Unit price</th>\n",
       "      <td>1000.0</td>\n",
       "      <td>55.672130</td>\n",
       "      <td>26.494628</td>\n",
       "      <td>10.080000</td>\n",
       "      <td>32.875000</td>\n",
       "      <td>55.230000</td>\n",
       "      <td>77.935000</td>\n",
       "      <td>99.960000</td>\n",
       "    </tr>\n",
       "    <tr>\n",
       "      <th>Quantity</th>\n",
       "      <td>1000.0</td>\n",
       "      <td>5.510000</td>\n",
       "      <td>2.923431</td>\n",
       "      <td>1.000000</td>\n",
       "      <td>3.000000</td>\n",
       "      <td>5.000000</td>\n",
       "      <td>8.000000</td>\n",
       "      <td>10.000000</td>\n",
       "    </tr>\n",
       "    <tr>\n",
       "      <th>Tax 5%</th>\n",
       "      <td>1000.0</td>\n",
       "      <td>15.379369</td>\n",
       "      <td>11.708825</td>\n",
       "      <td>0.508500</td>\n",
       "      <td>5.924875</td>\n",
       "      <td>12.088000</td>\n",
       "      <td>22.445250</td>\n",
       "      <td>49.650000</td>\n",
       "    </tr>\n",
       "    <tr>\n",
       "      <th>Total</th>\n",
       "      <td>1000.0</td>\n",
       "      <td>322.966749</td>\n",
       "      <td>245.885335</td>\n",
       "      <td>10.678500</td>\n",
       "      <td>124.422375</td>\n",
       "      <td>253.848000</td>\n",
       "      <td>471.350250</td>\n",
       "      <td>1042.650000</td>\n",
       "    </tr>\n",
       "    <tr>\n",
       "      <th>cogs</th>\n",
       "      <td>1000.0</td>\n",
       "      <td>307.587380</td>\n",
       "      <td>234.176510</td>\n",
       "      <td>10.170000</td>\n",
       "      <td>118.497500</td>\n",
       "      <td>241.760000</td>\n",
       "      <td>448.905000</td>\n",
       "      <td>993.000000</td>\n",
       "    </tr>\n",
       "    <tr>\n",
       "      <th>gross margin percentage</th>\n",
       "      <td>1000.0</td>\n",
       "      <td>4.761905</td>\n",
       "      <td>0.000000</td>\n",
       "      <td>4.761905</td>\n",
       "      <td>4.761905</td>\n",
       "      <td>4.761905</td>\n",
       "      <td>4.761905</td>\n",
       "      <td>4.761905</td>\n",
       "    </tr>\n",
       "    <tr>\n",
       "      <th>gross income</th>\n",
       "      <td>1000.0</td>\n",
       "      <td>15.379369</td>\n",
       "      <td>11.708825</td>\n",
       "      <td>0.508500</td>\n",
       "      <td>5.924875</td>\n",
       "      <td>12.088000</td>\n",
       "      <td>22.445250</td>\n",
       "      <td>49.650000</td>\n",
       "    </tr>\n",
       "    <tr>\n",
       "      <th>Rating</th>\n",
       "      <td>1000.0</td>\n",
       "      <td>6.972700</td>\n",
       "      <td>1.718580</td>\n",
       "      <td>4.000000</td>\n",
       "      <td>5.500000</td>\n",
       "      <td>7.000000</td>\n",
       "      <td>8.500000</td>\n",
       "      <td>10.000000</td>\n",
       "    </tr>\n",
       "    <tr>\n",
       "      <th>weekday</th>\n",
       "      <td>1000.0</td>\n",
       "      <td>3.032000</td>\n",
       "      <td>1.973543</td>\n",
       "      <td>0.000000</td>\n",
       "      <td>1.000000</td>\n",
       "      <td>3.000000</td>\n",
       "      <td>5.000000</td>\n",
       "      <td>6.000000</td>\n",
       "    </tr>\n",
       "  </tbody>\n",
       "</table>\n",
       "</div>"
      ],
      "text/plain": [
       "                          count        mean         std        min  \\\n",
       "Unit price               1000.0   55.672130   26.494628  10.080000   \n",
       "Quantity                 1000.0    5.510000    2.923431   1.000000   \n",
       "Tax 5%                   1000.0   15.379369   11.708825   0.508500   \n",
       "Total                    1000.0  322.966749  245.885335  10.678500   \n",
       "cogs                     1000.0  307.587380  234.176510  10.170000   \n",
       "gross margin percentage  1000.0    4.761905    0.000000   4.761905   \n",
       "gross income             1000.0   15.379369   11.708825   0.508500   \n",
       "Rating                   1000.0    6.972700    1.718580   4.000000   \n",
       "weekday                  1000.0    3.032000    1.973543   0.000000   \n",
       "\n",
       "                                25%         50%         75%          max  \n",
       "Unit price                32.875000   55.230000   77.935000    99.960000  \n",
       "Quantity                   3.000000    5.000000    8.000000    10.000000  \n",
       "Tax 5%                     5.924875   12.088000   22.445250    49.650000  \n",
       "Total                    124.422375  253.848000  471.350250  1042.650000  \n",
       "cogs                     118.497500  241.760000  448.905000   993.000000  \n",
       "gross margin percentage    4.761905    4.761905    4.761905     4.761905  \n",
       "gross income               5.924875   12.088000   22.445250    49.650000  \n",
       "Rating                     5.500000    7.000000    8.500000    10.000000  \n",
       "weekday                    1.000000    3.000000    5.000000     6.000000  "
      ]
     },
     "execution_count": 15,
     "metadata": {},
     "output_type": "execute_result"
    }
   ],
   "source": [
    "df.describe().T"
   ]
  },
  {
   "cell_type": "markdown",
   "id": "78824c7f",
   "metadata": {
    "papermill": {
     "duration": 0.037314,
     "end_time": "2022-12-09T17:21:19.195840",
     "exception": false,
     "start_time": "2022-12-09T17:21:19.158526",
     "status": "completed"
    },
    "tags": []
   },
   "source": [
    "- min unit price is 10 and max unit price is 99\n",
    "- There might be outliers present in Total, cogs and gross income columns."
   ]
  },
  {
   "cell_type": "markdown",
   "id": "fda0e0df",
   "metadata": {
    "papermill": {
     "duration": 0.037316,
     "end_time": "2022-12-09T17:21:19.268665",
     "exception": false,
     "start_time": "2022-12-09T17:21:19.231349",
     "status": "completed"
    },
    "tags": []
   },
   "source": [
    "- checking the outliers"
   ]
  },
  {
   "cell_type": "code",
   "execution_count": 16,
   "id": "7e4ef243",
   "metadata": {
    "execution": {
     "iopub.execute_input": "2022-12-09T17:21:19.345167Z",
     "iopub.status.busy": "2022-12-09T17:21:19.343839Z",
     "iopub.status.idle": "2022-12-09T17:21:19.939359Z",
     "shell.execute_reply": "2022-12-09T17:21:19.937843Z"
    },
    "papermill": {
     "duration": 0.638196,
     "end_time": "2022-12-09T17:21:19.942122",
     "exception": false,
     "start_time": "2022-12-09T17:21:19.303926",
     "status": "completed"
    },
    "tags": []
   },
   "outputs": [
    {
     "name": "stderr",
     "output_type": "stream",
     "text": [
      "/opt/conda/lib/python3.7/site-packages/seaborn/_decorators.py:43: FutureWarning: Pass the following variable as a keyword arg: x. From version 0.12, the only valid positional argument will be `data`, and passing other arguments without an explicit keyword will result in an error or misinterpretation.\n",
      "  FutureWarning\n",
      "/opt/conda/lib/python3.7/site-packages/seaborn/_decorators.py:43: FutureWarning: Pass the following variable as a keyword arg: x. From version 0.12, the only valid positional argument will be `data`, and passing other arguments without an explicit keyword will result in an error or misinterpretation.\n",
      "  FutureWarning\n",
      "/opt/conda/lib/python3.7/site-packages/seaborn/_decorators.py:43: FutureWarning: Pass the following variable as a keyword arg: x. From version 0.12, the only valid positional argument will be `data`, and passing other arguments without an explicit keyword will result in an error or misinterpretation.\n",
      "  FutureWarning\n"
     ]
    },
    {
     "data": {
      "text/plain": [
       "<Figure size 1440x576 with 0 Axes>"
      ]
     },
     "metadata": {},
     "output_type": "display_data"
    },
    {
     "data": {
      "text/plain": [
       "<Figure size 1440x576 with 0 Axes>"
      ]
     },
     "metadata": {},
     "output_type": "display_data"
    },
    {
     "data": {
      "text/plain": [
       "<Figure size 1440x576 with 0 Axes>"
      ]
     },
     "metadata": {},
     "output_type": "display_data"
    },
    {
     "data": {
      "text/plain": [
       "<Figure size 1440x576 with 0 Axes>"
      ]
     },
     "metadata": {},
     "output_type": "display_data"
    },
    {
     "data": {
      "text/plain": [
       "<Figure size 1440x576 with 0 Axes>"
      ]
     },
     "metadata": {},
     "output_type": "display_data"
    },
    {
     "data": {
      "text/plain": [
       "<Figure size 1440x576 with 0 Axes>"
      ]
     },
     "metadata": {},
     "output_type": "display_data"
    },
    {
     "data": {
      "text/plain": [
       "<Figure size 1440x576 with 0 Axes>"
      ]
     },
     "metadata": {},
     "output_type": "display_data"
    },
    {
     "data": {
      "image/png": "[encoded data removed]",
      "text/plain": [
       "<Figure size 1440x576 with 1 Axes>"
      ]
     },
     "metadata": {
      "needs_background": "light"
     },
     "output_type": "display_data"
    },
    {
     "data": {
      "text/plain": [
       "<Figure size 1440x576 with 0 Axes>"
      ]
     },
     "metadata": {},
     "output_type": "display_data"
    },
    {
     "data": {
      "text/plain": [
       "<Figure size 1440x576 with 0 Axes>"
      ]
     },
     "metadata": {},
     "output_type": "display_data"
    },
    {
     "data": {
      "text/plain": [
       "<Figure size 1440x576 with 0 Axes>"
      ]
     },
     "metadata": {},
     "output_type": "display_data"
    },
    {
     "data": {
      "image/png": "[encoded data removed]",
      "text/plain": [
       "<Figure size 1440x576 with 1 Axes>"
      ]
     },
     "metadata": {
      "needs_background": "light"
     },
     "output_type": "display_data"
    },
    {
     "data": {
      "text/plain": [
       "<Figure size 1440x576 with 0 Axes>"
      ]
     },
     "metadata": {},
     "output_type": "display_data"
    },
    {
     "data": {
      "image/png": "[encoded data removed]",
      "text/plain": [
       "<Figure size 1440x576 with 1 Axes>"
      ]
     },
     "metadata": {
      "needs_background": "light"
     },
     "output_type": "display_data"
    },
    {
     "data": {
      "text/plain": [
       "<Figure size 1440x576 with 0 Axes>"
      ]
     },
     "metadata": {},
     "output_type": "display_data"
    },
    {
     "data": {
      "text/plain": [
       "<Figure size 1440x576 with 0 Axes>"
      ]
     },
     "metadata": {},
     "output_type": "display_data"
    },
    {
     "data": {
      "text/plain": [
       "<Figure size 1440x576 with 0 Axes>"
      ]
     },
     "metadata": {},
     "output_type": "display_data"
    },
    {
     "data": {
      "text/plain": [
       "<Figure size 1440x576 with 0 Axes>"
      ]
     },
     "metadata": {},
     "output_type": "display_data"
    }
   ],
   "source": [
    "col=1 ## for no of plots\n",
    "for i in df.columns:\n",
    "    plt.figure(figsize=(20,8))\n",
    "    if (i==\"Total\") | (i==\"cogs\") | (i==\"gross income\"):\n",
    "        plt.subplot(1,3,col);\n",
    "        sns.boxplot(df[i]);\n",
    "        plt.xlabel(i);\n",
    "        col+=1"
   ]
  },
  {
   "cell_type": "markdown",
   "id": "3029ce41",
   "metadata": {
    "papermill": {
     "duration": 0.038558,
     "end_time": "2022-12-09T17:21:20.019121",
     "exception": false,
     "start_time": "2022-12-09T17:21:19.980563",
     "status": "completed"
    },
    "tags": []
   },
   "source": [
    "- Descriptive statistical summary of object data"
   ]
  },
  {
   "cell_type": "code",
   "execution_count": 17,
   "id": "9897c125",
   "metadata": {
    "execution": {
     "iopub.execute_input": "2022-12-09T17:21:20.099544Z",
     "iopub.status.busy": "2022-12-09T17:21:20.099148Z",
     "iopub.status.idle": "2022-12-09T17:21:20.128972Z",
     "shell.execute_reply": "2022-12-09T17:21:20.127698Z"
    },
    "papermill": {
     "duration": 0.073847,
     "end_time": "2022-12-09T17:21:20.132380",
     "exception": false,
     "start_time": "2022-12-09T17:21:20.058533",
     "status": "completed"
    },
    "tags": []
   },
   "outputs": [
    {
     "data": {
      "text/html": [
       "<div>\n",
       "<style scoped>\n",
       "    .dataframe tbody tr th:only-of-type {\n",
       "        vertical-align: middle;\n",
       "    }\n",
       "\n",
       "    .dataframe tbody tr th {\n",
       "        vertical-align: top;\n",
       "    }\n",
       "\n",
       "    .dataframe thead th {\n",
       "        text-align: right;\n",
       "    }\n",
       "</style>\n",
       "<table border=\"1\" class=\"dataframe\">\n",
       "  <thead>\n",
       "    <tr style=\"text-align: right;\">\n",
       "      <th></th>\n",
       "      <th>count</th>\n",
       "      <th>unique</th>\n",
       "      <th>top</th>\n",
       "      <th>freq</th>\n",
       "    </tr>\n",
       "  </thead>\n",
       "  <tbody>\n",
       "    <tr>\n",
       "      <th>Branch</th>\n",
       "      <td>1000</td>\n",
       "      <td>3</td>\n",
       "      <td>A</td>\n",
       "      <td>340</td>\n",
       "    </tr>\n",
       "    <tr>\n",
       "      <th>Customer type</th>\n",
       "      <td>1000</td>\n",
       "      <td>2</td>\n",
       "      <td>Member</td>\n",
       "      <td>501</td>\n",
       "    </tr>\n",
       "    <tr>\n",
       "      <th>Gender</th>\n",
       "      <td>1000</td>\n",
       "      <td>2</td>\n",
       "      <td>Female</td>\n",
       "      <td>501</td>\n",
       "    </tr>\n",
       "    <tr>\n",
       "      <th>Product line</th>\n",
       "      <td>1000</td>\n",
       "      <td>6</td>\n",
       "      <td>Fashion accessories</td>\n",
       "      <td>178</td>\n",
       "    </tr>\n",
       "    <tr>\n",
       "      <th>Payment</th>\n",
       "      <td>1000</td>\n",
       "      <td>3</td>\n",
       "      <td>Ewallet</td>\n",
       "      <td>345</td>\n",
       "    </tr>\n",
       "    <tr>\n",
       "      <th>Days</th>\n",
       "      <td>1000</td>\n",
       "      <td>7</td>\n",
       "      <td>Saturday</td>\n",
       "      <td>164</td>\n",
       "    </tr>\n",
       "    <tr>\n",
       "      <th>Month</th>\n",
       "      <td>1000</td>\n",
       "      <td>3</td>\n",
       "      <td>January</td>\n",
       "      <td>352</td>\n",
       "    </tr>\n",
       "  </tbody>\n",
       "</table>\n",
       "</div>"
      ],
      "text/plain": [
       "              count unique                  top freq\n",
       "Branch         1000      3                    A  340\n",
       "Customer type  1000      2               Member  501\n",
       "Gender         1000      2               Female  501\n",
       "Product line   1000      6  Fashion accessories  178\n",
       "Payment        1000      3              Ewallet  345\n",
       "Days           1000      7             Saturday  164\n",
       "Month          1000      3              January  352"
      ]
     },
     "execution_count": 17,
     "metadata": {},
     "output_type": "execute_result"
    }
   ],
   "source": [
    "df.describe(include=\"object\").T"
   ]
  },
  {
   "cell_type": "markdown",
   "id": "2e3edc97",
   "metadata": {
    "papermill": {
     "duration": 0.040612,
     "end_time": "2022-12-09T17:21:20.214265",
     "exception": false,
     "start_time": "2022-12-09T17:21:20.173653",
     "status": "completed"
    },
    "tags": []
   },
   "source": [
    "### Step 3: checking correlation"
   ]
  },
  {
   "cell_type": "code",
   "execution_count": 18,
   "id": "6540b603",
   "metadata": {
    "execution": {
     "iopub.execute_input": "2022-12-09T17:21:20.299644Z",
     "iopub.status.busy": "2022-12-09T17:21:20.299250Z",
     "iopub.status.idle": "2022-12-09T17:21:20.321434Z",
     "shell.execute_reply": "2022-12-09T17:21:20.320143Z"
    },
    "papermill": {
     "duration": 0.068284,
     "end_time": "2022-12-09T17:21:20.323864",
     "exception": false,
     "start_time": "2022-12-09T17:21:20.255580",
     "status": "completed"
    },
    "tags": []
   },
   "outputs": [
    {
     "data": {
      "text/html": [
       "<div>\n",
       "<style scoped>\n",
       "    .dataframe tbody tr th:only-of-type {\n",
       "        vertical-align: middle;\n",
       "    }\n",
       "\n",
       "    .dataframe tbody tr th {\n",
       "        vertical-align: top;\n",
       "    }\n",
       "\n",
       "    .dataframe thead th {\n",
       "        text-align: right;\n",
       "    }\n",
       "</style>\n",
       "<table border=\"1\" class=\"dataframe\">\n",
       "  <thead>\n",
       "    <tr style=\"text-align: right;\">\n",
       "      <th></th>\n",
       "      <th>Unit price</th>\n",
       "      <th>Quantity</th>\n",
       "      <th>Tax 5%</th>\n",
       "      <th>Total</th>\n",
       "      <th>cogs</th>\n",
       "      <th>gross margin percentage</th>\n",
       "      <th>gross income</th>\n",
       "      <th>Rating</th>\n",
       "      <th>weekday</th>\n",
       "    </tr>\n",
       "  </thead>\n",
       "  <tbody>\n",
       "    <tr>\n",
       "      <th>Unit price</th>\n",
       "      <td>1.000000</td>\n",
       "      <td>0.010778</td>\n",
       "      <td>0.633962</td>\n",
       "      <td>0.633962</td>\n",
       "      <td>0.633962</td>\n",
       "      <td>NaN</td>\n",
       "      <td>0.633962</td>\n",
       "      <td>-0.008778</td>\n",
       "      <td>-0.007040</td>\n",
       "    </tr>\n",
       "    <tr>\n",
       "      <th>Quantity</th>\n",
       "      <td>0.010778</td>\n",
       "      <td>1.000000</td>\n",
       "      <td>0.705510</td>\n",
       "      <td>0.705510</td>\n",
       "      <td>0.705510</td>\n",
       "      <td>NaN</td>\n",
       "      <td>0.705510</td>\n",
       "      <td>-0.015815</td>\n",
       "      <td>0.054770</td>\n",
       "    </tr>\n",
       "    <tr>\n",
       "      <th>Tax 5%</th>\n",
       "      <td>0.633962</td>\n",
       "      <td>0.705510</td>\n",
       "      <td>1.000000</td>\n",
       "      <td>1.000000</td>\n",
       "      <td>1.000000</td>\n",
       "      <td>NaN</td>\n",
       "      <td>1.000000</td>\n",
       "      <td>-0.036442</td>\n",
       "      <td>0.038809</td>\n",
       "    </tr>\n",
       "    <tr>\n",
       "      <th>Total</th>\n",
       "      <td>0.633962</td>\n",
       "      <td>0.705510</td>\n",
       "      <td>1.000000</td>\n",
       "      <td>1.000000</td>\n",
       "      <td>1.000000</td>\n",
       "      <td>NaN</td>\n",
       "      <td>1.000000</td>\n",
       "      <td>-0.036442</td>\n",
       "      <td>0.038809</td>\n",
       "    </tr>\n",
       "    <tr>\n",
       "      <th>cogs</th>\n",
       "      <td>0.633962</td>\n",
       "      <td>0.705510</td>\n",
       "      <td>1.000000</td>\n",
       "      <td>1.000000</td>\n",
       "      <td>1.000000</td>\n",
       "      <td>NaN</td>\n",
       "      <td>1.000000</td>\n",
       "      <td>-0.036442</td>\n",
       "      <td>0.038809</td>\n",
       "    </tr>\n",
       "    <tr>\n",
       "      <th>gross margin percentage</th>\n",
       "      <td>NaN</td>\n",
       "      <td>NaN</td>\n",
       "      <td>NaN</td>\n",
       "      <td>NaN</td>\n",
       "      <td>NaN</td>\n",
       "      <td>NaN</td>\n",
       "      <td>NaN</td>\n",
       "      <td>NaN</td>\n",
       "      <td>NaN</td>\n",
       "    </tr>\n",
       "    <tr>\n",
       "      <th>gross income</th>\n",
       "      <td>0.633962</td>\n",
       "      <td>0.705510</td>\n",
       "      <td>1.000000</td>\n",
       "      <td>1.000000</td>\n",
       "      <td>1.000000</td>\n",
       "      <td>NaN</td>\n",
       "      <td>1.000000</td>\n",
       "      <td>-0.036442</td>\n",
       "      <td>0.038809</td>\n",
       "    </tr>\n",
       "    <tr>\n",
       "      <th>Rating</th>\n",
       "      <td>-0.008778</td>\n",
       "      <td>-0.015815</td>\n",
       "      <td>-0.036442</td>\n",
       "      <td>-0.036442</td>\n",
       "      <td>-0.036442</td>\n",
       "      <td>NaN</td>\n",
       "      <td>-0.036442</td>\n",
       "      <td>1.000000</td>\n",
       "      <td>-0.013879</td>\n",
       "    </tr>\n",
       "    <tr>\n",
       "      <th>weekday</th>\n",
       "      <td>-0.007040</td>\n",
       "      <td>0.054770</td>\n",
       "      <td>0.038809</td>\n",
       "      <td>0.038809</td>\n",
       "      <td>0.038809</td>\n",
       "      <td>NaN</td>\n",
       "      <td>0.038809</td>\n",
       "      <td>-0.013879</td>\n",
       "      <td>1.000000</td>\n",
       "    </tr>\n",
       "  </tbody>\n",
       "</table>\n",
       "</div>"
      ],
      "text/plain": [
       "                         Unit price  Quantity    Tax 5%     Total      cogs  \\\n",
       "Unit price                 1.000000  0.010778  0.633962  0.633962  0.633962   \n",
       "Quantity                   0.010778  1.000000  0.705510  0.705510  0.705510   \n",
       "Tax 5%                     0.633962  0.705510  1.000000  1.000000  1.000000   \n",
       "Total                      0.633962  0.705510  1.000000  1.000000  1.000000   \n",
       "cogs                       0.633962  0.705510  1.000000  1.000000  1.000000   \n",
       "gross margin percentage         NaN       NaN       NaN       NaN       NaN   \n",
       "gross income               0.633962  0.705510  1.000000  1.000000  1.000000   \n",
       "Rating                    -0.008778 -0.015815 -0.036442 -0.036442 -0.036442   \n",
       "weekday                   -0.007040  0.054770  0.038809  0.038809  0.038809   \n",
       "\n",
       "                         gross margin percentage  gross income    Rating  \\\n",
       "Unit price                                   NaN      0.633962 -0.008778   \n",
       "Quantity                                     NaN      0.705510 -0.015815   \n",
       "Tax 5%                                       NaN      1.000000 -0.036442   \n",
       "Total                                        NaN      1.000000 -0.036442   \n",
       "cogs                                         NaN      1.000000 -0.036442   \n",
       "gross margin percentage                      NaN           NaN       NaN   \n",
       "gross income                                 NaN      1.000000 -0.036442   \n",
       "Rating                                       NaN     -0.036442  1.000000   \n",
       "weekday                                      NaN      0.038809 -0.013879   \n",
       "\n",
       "                          weekday  \n",
       "Unit price              -0.007040  \n",
       "Quantity                 0.054770  \n",
       "Tax 5%                   0.038809  \n",
       "Total                    0.038809  \n",
       "cogs                     0.038809  \n",
       "gross margin percentage       NaN  \n",
       "gross income             0.038809  \n",
       "Rating                  -0.013879  \n",
       "weekday                  1.000000  "
      ]
     },
     "execution_count": 18,
     "metadata": {},
     "output_type": "execute_result"
    }
   ],
   "source": [
    "df.corr()"
   ]
  },
  {
   "cell_type": "code",
   "execution_count": 19,
   "id": "53f1eed8",
   "metadata": {
    "execution": {
     "iopub.execute_input": "2022-12-09T17:21:20.411418Z",
     "iopub.status.busy": "2022-12-09T17:21:20.411006Z",
     "iopub.status.idle": "2022-12-09T17:21:21.144110Z",
     "shell.execute_reply": "2022-12-09T17:21:21.142848Z"
    },
    "papermill": {
     "duration": 0.77752,
     "end_time": "2022-12-09T17:21:21.146904",
     "exception": false,
     "start_time": "2022-12-09T17:21:20.369384",
     "status": "completed"
    },
    "tags": []
   },
   "outputs": [
    {
     "data": {
      "text/plain": [
       "<AxesSubplot:>"
      ]
     },
     "execution_count": 19,
     "metadata": {},
     "output_type": "execute_result"
    },
    {
     "data": {
      "image/png": "[encoded data removed]",
      "text/plain": [
       "<Figure size 576x576 with 2 Axes>"
      ]
     },
     "metadata": {
      "needs_background": "light"
     },
     "output_type": "display_data"
    }
   ],
   "source": [
    "plt.figure(figsize=(8,8))\n",
    "cor_matrix=df.corr(method=\"spearman\")\n",
    "sns.heatmap(cor_matrix,annot=True)"
   ]
  },
  {
   "cell_type": "markdown",
   "id": "c83d69d0",
   "metadata": {
    "papermill": {
     "duration": 0.042921,
     "end_time": "2022-12-09T17:21:21.231086",
     "exception": false,
     "start_time": "2022-12-09T17:21:21.188165",
     "status": "completed"
    },
    "tags": []
   },
   "source": [
    "- Tax, Total, cogs and gross income are correlated"
   ]
  },
  {
   "cell_type": "markdown",
   "id": "021cf761",
   "metadata": {
    "papermill": {
     "duration": 0.042326,
     "end_time": "2022-12-09T17:21:21.315657",
     "exception": false,
     "start_time": "2022-12-09T17:21:21.273331",
     "status": "completed"
    },
    "tags": []
   },
   "source": [
    "### step4: insights"
   ]
  },
  {
   "cell_type": "markdown",
   "id": "f3d8ab7b",
   "metadata": {
    "papermill": {
     "duration": 0.03889,
     "end_time": "2022-12-09T17:21:21.395855",
     "exception": false,
     "start_time": "2022-12-09T17:21:21.356965",
     "status": "completed"
    },
    "tags": []
   },
   "source": [
    "- find out the total sales and gross income of the company"
   ]
  },
  {
   "cell_type": "code",
   "execution_count": 20,
   "id": "b408f9a0",
   "metadata": {
    "execution": {
     "iopub.execute_input": "2022-12-09T17:21:21.486738Z",
     "iopub.status.busy": "2022-12-09T17:21:21.485641Z",
     "iopub.status.idle": "2022-12-09T17:21:21.494776Z",
     "shell.execute_reply": "2022-12-09T17:21:21.493288Z"
    },
    "papermill": {
     "duration": 0.058377,
     "end_time": "2022-12-09T17:21:21.497641",
     "exception": false,
     "start_time": "2022-12-09T17:21:21.439264",
     "status": "completed"
    },
    "tags": []
   },
   "outputs": [
    {
     "data": {
      "text/plain": [
       "322966.749"
      ]
     },
     "execution_count": 20,
     "metadata": {},
     "output_type": "execute_result"
    }
   ],
   "source": [
    "df[\"Total\"].sum()"
   ]
  },
  {
   "cell_type": "code",
   "execution_count": 21,
   "id": "c8804d0c",
   "metadata": {
    "execution": {
     "iopub.execute_input": "2022-12-09T17:21:21.583893Z",
     "iopub.status.busy": "2022-12-09T17:21:21.583464Z",
     "iopub.status.idle": "2022-12-09T17:21:21.591321Z",
     "shell.execute_reply": "2022-12-09T17:21:21.590100Z"
    },
    "papermill": {
     "duration": 0.054813,
     "end_time": "2022-12-09T17:21:21.593719",
     "exception": false,
     "start_time": "2022-12-09T17:21:21.538906",
     "status": "completed"
    },
    "tags": []
   },
   "outputs": [
    {
     "data": {
      "text/plain": [
       "15379.368999999999"
      ]
     },
     "execution_count": 21,
     "metadata": {},
     "output_type": "execute_result"
    }
   ],
   "source": [
    "df[\"gross income\"].sum()"
   ]
  },
  {
   "cell_type": "markdown",
   "id": "d6a24cc6",
   "metadata": {
    "papermill": {
     "duration": 0.11225,
     "end_time": "2022-12-09T17:21:21.748932",
     "exception": false,
     "start_time": "2022-12-09T17:21:21.636682",
     "status": "completed"
    },
    "tags": []
   },
   "source": [
    "- The total sale of supermarket company of all the three months is $ 322966.749\n",
    "\n",
    "- The  total  gross  income  of  supermarket  company of  all  the  three  months  is  $ 15379.368999999999\n"
   ]
  },
  {
   "cell_type": "markdown",
   "id": "0369a6ec",
   "metadata": {
    "papermill": {
     "duration": 0.041373,
     "end_time": "2022-12-09T17:21:21.832891",
     "exception": false,
     "start_time": "2022-12-09T17:21:21.791518",
     "status": "completed"
    },
    "tags": []
   },
   "source": [
    "- find out the total sales and gross income of each branches"
   ]
  },
  {
   "cell_type": "code",
   "execution_count": 22,
   "id": "5beef664",
   "metadata": {
    "execution": {
     "iopub.execute_input": "2022-12-09T17:21:21.917449Z",
     "iopub.status.busy": "2022-12-09T17:21:21.916703Z",
     "iopub.status.idle": "2022-12-09T17:21:21.942788Z",
     "shell.execute_reply": "2022-12-09T17:21:21.940634Z"
    },
    "papermill": {
     "duration": 0.071367,
     "end_time": "2022-12-09T17:21:21.945586",
     "exception": false,
     "start_time": "2022-12-09T17:21:21.874219",
     "status": "completed"
    },
    "tags": []
   },
   "outputs": [
    {
     "data": {
      "text/html": [
       "<div>\n",
       "<style scoped>\n",
       "    .dataframe tbody tr th:only-of-type {\n",
       "        vertical-align: middle;\n",
       "    }\n",
       "\n",
       "    .dataframe tbody tr th {\n",
       "        vertical-align: top;\n",
       "    }\n",
       "\n",
       "    .dataframe thead th {\n",
       "        text-align: right;\n",
       "    }\n",
       "</style>\n",
       "<table border=\"1\" class=\"dataframe\">\n",
       "  <thead>\n",
       "    <tr style=\"text-align: right;\">\n",
       "      <th></th>\n",
       "      <th>sum</th>\n",
       "      <th>mean</th>\n",
       "      <th>min</th>\n",
       "      <th>max</th>\n",
       "    </tr>\n",
       "    <tr>\n",
       "      <th>Branch</th>\n",
       "      <th></th>\n",
       "      <th></th>\n",
       "      <th></th>\n",
       "      <th></th>\n",
       "    </tr>\n",
       "  </thead>\n",
       "  <tbody>\n",
       "    <tr>\n",
       "      <th>A</th>\n",
       "      <td>106200.3705</td>\n",
       "      <td>312.354031</td>\n",
       "      <td>12.6945</td>\n",
       "      <td>1039.29</td>\n",
       "    </tr>\n",
       "    <tr>\n",
       "      <th>B</th>\n",
       "      <td>106197.6720</td>\n",
       "      <td>319.872506</td>\n",
       "      <td>18.6375</td>\n",
       "      <td>1022.49</td>\n",
       "    </tr>\n",
       "    <tr>\n",
       "      <th>C</th>\n",
       "      <td>110568.7065</td>\n",
       "      <td>337.099715</td>\n",
       "      <td>10.6785</td>\n",
       "      <td>1042.65</td>\n",
       "    </tr>\n",
       "  </tbody>\n",
       "</table>\n",
       "</div>"
      ],
      "text/plain": [
       "                sum        mean      min      max\n",
       "Branch                                           \n",
       "A       106200.3705  312.354031  12.6945  1039.29\n",
       "B       106197.6720  319.872506  18.6375  1022.49\n",
       "C       110568.7065  337.099715  10.6785  1042.65"
      ]
     },
     "execution_count": 22,
     "metadata": {},
     "output_type": "execute_result"
    }
   ],
   "source": [
    "df.groupby(\"Branch\")[\"Total\"].agg([\"sum\",\"mean\",\"min\",\"max\"])"
   ]
  },
  {
   "cell_type": "markdown",
   "id": "fb9904b3",
   "metadata": {
    "papermill": {
     "duration": 0.041403,
     "end_time": "2022-12-09T17:21:22.029563",
     "exception": false,
     "start_time": "2022-12-09T17:21:21.988160",
     "status": "completed"
    },
    "tags": []
   },
   "source": [
    "- Total Highest sale was recorded on Branch C on the basis of Total\n",
    "\n",
    "- Total Lowest sale was recorded on Branch B on the basis of Total\n"
   ]
  },
  {
   "cell_type": "markdown",
   "id": "75ff982a",
   "metadata": {
    "papermill": {
     "duration": 0.042242,
     "end_time": "2022-12-09T17:21:22.114620",
     "exception": false,
     "start_time": "2022-12-09T17:21:22.072378",
     "status": "completed"
    },
    "tags": []
   },
   "source": [
    "- since the gross income and total is highly correlated, we will consider Total column from now on"
   ]
  },
  {
   "cell_type": "markdown",
   "id": "e174a79a",
   "metadata": {
    "papermill": {
     "duration": 0.041979,
     "end_time": "2022-12-09T17:21:22.200740",
     "exception": false,
     "start_time": "2022-12-09T17:21:22.158761",
     "status": "completed"
    },
    "tags": []
   },
   "source": [
    "## Since highest sale was recorded at Branch C, we will see some more detail of Branch C"
   ]
  },
  {
   "cell_type": "markdown",
   "id": "1e3f797c",
   "metadata": {
    "papermill": {
     "duration": 0.043325,
     "end_time": "2022-12-09T17:21:22.286858",
     "exception": false,
     "start_time": "2022-12-09T17:21:22.243533",
     "status": "completed"
    },
    "tags": []
   },
   "source": [
    "- At which date and month highest sale was recorded at C Branch?"
   ]
  },
  {
   "cell_type": "code",
   "execution_count": 23,
   "id": "56dabb86",
   "metadata": {
    "execution": {
     "iopub.execute_input": "2022-12-09T17:21:22.373755Z",
     "iopub.status.busy": "2022-12-09T17:21:22.373285Z",
     "iopub.status.idle": "2022-12-09T17:21:22.393026Z",
     "shell.execute_reply": "2022-12-09T17:21:22.391468Z"
    },
    "papermill": {
     "duration": 0.068909,
     "end_time": "2022-12-09T17:21:22.396435",
     "exception": false,
     "start_time": "2022-12-09T17:21:22.327526",
     "status": "completed"
    },
    "tags": []
   },
   "outputs": [
    {
     "name": "stdout",
     "output_type": "stream",
     "text": [
      "the highest sale was of amount : 1042.65\n"
     ]
    },
    {
     "data": {
      "text/html": [
       "<div>\n",
       "<style scoped>\n",
       "    .dataframe tbody tr th:only-of-type {\n",
       "        vertical-align: middle;\n",
       "    }\n",
       "\n",
       "    .dataframe tbody tr th {\n",
       "        vertical-align: top;\n",
       "    }\n",
       "\n",
       "    .dataframe thead th {\n",
       "        text-align: right;\n",
       "    }\n",
       "</style>\n",
       "<table border=\"1\" class=\"dataframe\">\n",
       "  <thead>\n",
       "    <tr style=\"text-align: right;\">\n",
       "      <th></th>\n",
       "      <th>Date</th>\n",
       "      <th>Month</th>\n",
       "    </tr>\n",
       "  </thead>\n",
       "  <tbody>\n",
       "    <tr>\n",
       "      <th>350</th>\n",
       "      <td>2019-02-15</td>\n",
       "      <td>February</td>\n",
       "    </tr>\n",
       "  </tbody>\n",
       "</table>\n",
       "</div>"
      ],
      "text/plain": [
       "          Date     Month\n",
       "350 2019-02-15  February"
      ]
     },
     "execution_count": 23,
     "metadata": {},
     "output_type": "execute_result"
    }
   ],
   "source": [
    "print(\"the highest sale was of amount :\", df[\"Total\"].max())\n",
    "df_c=df[df[\"Branch\"]==\"C\"]\n",
    "df_c[df_c[\"Total\"]==df_c[\"Total\"].max()][[\"Date\",\"Month\"]]"
   ]
  },
  {
   "cell_type": "markdown",
   "id": "29482788",
   "metadata": {
    "papermill": {
     "duration": 0.041377,
     "end_time": "2022-12-09T17:21:22.478857",
     "exception": false,
     "start_time": "2022-12-09T17:21:22.437480",
     "status": "completed"
    },
    "tags": []
   },
   "source": [
    "- What was the category of highest sale customer and its corresponding product category?"
   ]
  },
  {
   "cell_type": "code",
   "execution_count": 24,
   "id": "1ae2734c",
   "metadata": {
    "execution": {
     "iopub.execute_input": "2022-12-09T17:21:22.565866Z",
     "iopub.status.busy": "2022-12-09T17:21:22.565447Z",
     "iopub.status.idle": "2022-12-09T17:21:22.579779Z",
     "shell.execute_reply": "2022-12-09T17:21:22.578774Z"
    },
    "papermill": {
     "duration": 0.063023,
     "end_time": "2022-12-09T17:21:22.583591",
     "exception": false,
     "start_time": "2022-12-09T17:21:22.520568",
     "status": "completed"
    },
    "tags": []
   },
   "outputs": [
    {
     "data": {
      "text/html": [
       "<div>\n",
       "<style scoped>\n",
       "    .dataframe tbody tr th:only-of-type {\n",
       "        vertical-align: middle;\n",
       "    }\n",
       "\n",
       "    .dataframe tbody tr th {\n",
       "        vertical-align: top;\n",
       "    }\n",
       "\n",
       "    .dataframe thead th {\n",
       "        text-align: right;\n",
       "    }\n",
       "</style>\n",
       "<table border=\"1\" class=\"dataframe\">\n",
       "  <thead>\n",
       "    <tr style=\"text-align: right;\">\n",
       "      <th></th>\n",
       "      <th>Branch</th>\n",
       "      <th>Date</th>\n",
       "      <th>Customer type</th>\n",
       "      <th>Product line</th>\n",
       "    </tr>\n",
       "  </thead>\n",
       "  <tbody>\n",
       "    <tr>\n",
       "      <th>350</th>\n",
       "      <td>C</td>\n",
       "      <td>2019-02-15</td>\n",
       "      <td>Member</td>\n",
       "      <td>Fashion accessories</td>\n",
       "    </tr>\n",
       "  </tbody>\n",
       "</table>\n",
       "</div>"
      ],
      "text/plain": [
       "    Branch       Date Customer type         Product line\n",
       "350      C 2019-02-15        Member  Fashion accessories"
      ]
     },
     "execution_count": 24,
     "metadata": {},
     "output_type": "execute_result"
    }
   ],
   "source": [
    "df_c[df_c[\"Total\"]==df_c[\"Total\"].max()][[\"Branch\",\"Date\",\"Customer type\",\"Product line\"]]"
   ]
  },
  {
   "cell_type": "markdown",
   "id": "5cb77692",
   "metadata": {
    "execution": {
     "iopub.execute_input": "2022-12-06T06:30:14.159225Z",
     "iopub.status.busy": "2022-12-06T06:30:14.158783Z",
     "iopub.status.idle": "2022-12-06T06:30:14.166383Z",
     "shell.execute_reply": "2022-12-06T06:30:14.164922Z",
     "shell.execute_reply.started": "2022-12-06T06:30:14.159188Z"
    },
    "papermill": {
     "duration": 0.041134,
     "end_time": "2022-12-09T17:21:22.670143",
     "exception": false,
     "start_time": "2022-12-09T17:21:22.629009",
     "status": "completed"
    },
    "tags": []
   },
   "source": [
    "- At which date and month lowest sale was recorded at C Branch?"
   ]
  },
  {
   "cell_type": "code",
   "execution_count": 25,
   "id": "dd88d4e4",
   "metadata": {
    "execution": {
     "iopub.execute_input": "2022-12-09T17:21:22.760256Z",
     "iopub.status.busy": "2022-12-09T17:21:22.759818Z",
     "iopub.status.idle": "2022-12-09T17:21:22.775907Z",
     "shell.execute_reply": "2022-12-09T17:21:22.774529Z"
    },
    "papermill": {
     "duration": 0.06371,
     "end_time": "2022-12-09T17:21:22.778819",
     "exception": false,
     "start_time": "2022-12-09T17:21:22.715109",
     "status": "completed"
    },
    "tags": []
   },
   "outputs": [
    {
     "name": "stdout",
     "output_type": "stream",
     "text": [
      "the lowest sale was of amount : 10.6785\n"
     ]
    },
    {
     "data": {
      "text/html": [
       "<div>\n",
       "<style scoped>\n",
       "    .dataframe tbody tr th:only-of-type {\n",
       "        vertical-align: middle;\n",
       "    }\n",
       "\n",
       "    .dataframe tbody tr th {\n",
       "        vertical-align: top;\n",
       "    }\n",
       "\n",
       "    .dataframe thead th {\n",
       "        text-align: right;\n",
       "    }\n",
       "</style>\n",
       "<table border=\"1\" class=\"dataframe\">\n",
       "  <thead>\n",
       "    <tr style=\"text-align: right;\">\n",
       "      <th></th>\n",
       "      <th>Date</th>\n",
       "      <th>Month</th>\n",
       "    </tr>\n",
       "  </thead>\n",
       "  <tbody>\n",
       "    <tr>\n",
       "      <th>822</th>\n",
       "      <td>2019-02-07</td>\n",
       "      <td>February</td>\n",
       "    </tr>\n",
       "  </tbody>\n",
       "</table>\n",
       "</div>"
      ],
      "text/plain": [
       "          Date     Month\n",
       "822 2019-02-07  February"
      ]
     },
     "execution_count": 25,
     "metadata": {},
     "output_type": "execute_result"
    }
   ],
   "source": [
    "print(\"the lowest sale was of amount :\", df[\"Total\"].min())\n",
    "df_c=df[df[\"Branch\"]==\"C\"]\n",
    "df_c[df_c[\"Total\"]==df_c[\"Total\"].min()][[\"Date\",\"Month\"]]"
   ]
  },
  {
   "cell_type": "markdown",
   "id": "067f5f79",
   "metadata": {
    "execution": {
     "iopub.execute_input": "2022-12-06T06:31:16.094367Z",
     "iopub.status.busy": "2022-12-06T06:31:16.093647Z",
     "iopub.status.idle": "2022-12-06T06:31:16.101679Z",
     "shell.execute_reply": "2022-12-06T06:31:16.100211Z",
     "shell.execute_reply.started": "2022-12-06T06:31:16.094321Z"
    },
    "papermill": {
     "duration": 0.042912,
     "end_time": "2022-12-09T17:21:22.865802",
     "exception": false,
     "start_time": "2022-12-09T17:21:22.822890",
     "status": "completed"
    },
    "tags": []
   },
   "source": [
    "- What was the category of lowest sale customer and its corresponding product category?"
   ]
  },
  {
   "cell_type": "code",
   "execution_count": 26,
   "id": "9184472d",
   "metadata": {
    "execution": {
     "iopub.execute_input": "2022-12-09T17:21:22.952739Z",
     "iopub.status.busy": "2022-12-09T17:21:22.952361Z",
     "iopub.status.idle": "2022-12-09T17:21:22.966909Z",
     "shell.execute_reply": "2022-12-09T17:21:22.965359Z"
    },
    "papermill": {
     "duration": 0.060455,
     "end_time": "2022-12-09T17:21:22.969474",
     "exception": false,
     "start_time": "2022-12-09T17:21:22.909019",
     "status": "completed"
    },
    "tags": []
   },
   "outputs": [
    {
     "data": {
      "text/html": [
       "<div>\n",
       "<style scoped>\n",
       "    .dataframe tbody tr th:only-of-type {\n",
       "        vertical-align: middle;\n",
       "    }\n",
       "\n",
       "    .dataframe tbody tr th {\n",
       "        vertical-align: top;\n",
       "    }\n",
       "\n",
       "    .dataframe thead th {\n",
       "        text-align: right;\n",
       "    }\n",
       "</style>\n",
       "<table border=\"1\" class=\"dataframe\">\n",
       "  <thead>\n",
       "    <tr style=\"text-align: right;\">\n",
       "      <th></th>\n",
       "      <th>Branch</th>\n",
       "      <th>Date</th>\n",
       "      <th>Customer type</th>\n",
       "      <th>Product line</th>\n",
       "    </tr>\n",
       "  </thead>\n",
       "  <tbody>\n",
       "    <tr>\n",
       "      <th>822</th>\n",
       "      <td>C</td>\n",
       "      <td>2019-02-07</td>\n",
       "      <td>Member</td>\n",
       "      <td>Sports and travel</td>\n",
       "    </tr>\n",
       "  </tbody>\n",
       "</table>\n",
       "</div>"
      ],
      "text/plain": [
       "    Branch       Date Customer type       Product line\n",
       "822      C 2019-02-07        Member  Sports and travel"
      ]
     },
     "execution_count": 26,
     "metadata": {},
     "output_type": "execute_result"
    }
   ],
   "source": [
    "df_c[df_c[\"Total\"]==df_c[\"Total\"].min()][[\"Branch\",\"Date\",\"Customer type\",\"Product line\"]]"
   ]
  },
  {
   "cell_type": "code",
   "execution_count": 27,
   "id": "d92c9e25",
   "metadata": {
    "execution": {
     "iopub.execute_input": "2022-12-09T17:21:23.055582Z",
     "iopub.status.busy": "2022-12-09T17:21:23.055161Z",
     "iopub.status.idle": "2022-12-09T17:21:23.078924Z",
     "shell.execute_reply": "2022-12-09T17:21:23.077728Z"
    },
    "papermill": {
     "duration": 0.07048,
     "end_time": "2022-12-09T17:21:23.081999",
     "exception": false,
     "start_time": "2022-12-09T17:21:23.011519",
     "status": "completed"
    },
    "tags": []
   },
   "outputs": [
    {
     "data": {
      "text/html": [
       "<div>\n",
       "<style scoped>\n",
       "    .dataframe tbody tr th:only-of-type {\n",
       "        vertical-align: middle;\n",
       "    }\n",
       "\n",
       "    .dataframe tbody tr th {\n",
       "        vertical-align: top;\n",
       "    }\n",
       "\n",
       "    .dataframe thead th {\n",
       "        text-align: right;\n",
       "    }\n",
       "</style>\n",
       "<table border=\"1\" class=\"dataframe\">\n",
       "  <thead>\n",
       "    <tr style=\"text-align: right;\">\n",
       "      <th></th>\n",
       "      <th>Branch</th>\n",
       "      <th>Customer type</th>\n",
       "      <th>Gender</th>\n",
       "      <th>Product line</th>\n",
       "      <th>Unit price</th>\n",
       "      <th>Quantity</th>\n",
       "      <th>Tax 5%</th>\n",
       "      <th>Total</th>\n",
       "      <th>Date</th>\n",
       "      <th>Time</th>\n",
       "      <th>Payment</th>\n",
       "      <th>cogs</th>\n",
       "      <th>gross margin percentage</th>\n",
       "      <th>gross income</th>\n",
       "      <th>Rating</th>\n",
       "      <th>Days</th>\n",
       "      <th>Month</th>\n",
       "      <th>weekday</th>\n",
       "    </tr>\n",
       "  </thead>\n",
       "  <tbody>\n",
       "    <tr>\n",
       "      <th>0</th>\n",
       "      <td>A</td>\n",
       "      <td>Member</td>\n",
       "      <td>Female</td>\n",
       "      <td>Health and beauty</td>\n",
       "      <td>74.69</td>\n",
       "      <td>7</td>\n",
       "      <td>26.1415</td>\n",
       "      <td>548.9715</td>\n",
       "      <td>2019-01-05</td>\n",
       "      <td>2022-12-09 13:08:00</td>\n",
       "      <td>Ewallet</td>\n",
       "      <td>522.83</td>\n",
       "      <td>4.761905</td>\n",
       "      <td>26.1415</td>\n",
       "      <td>9.1</td>\n",
       "      <td>Saturday</td>\n",
       "      <td>January</td>\n",
       "      <td>5</td>\n",
       "    </tr>\n",
       "  </tbody>\n",
       "</table>\n",
       "</div>"
      ],
      "text/plain": [
       "  Branch Customer type  Gender       Product line  Unit price  Quantity  \\\n",
       "0      A        Member  Female  Health and beauty       74.69         7   \n",
       "\n",
       "    Tax 5%     Total       Date                Time  Payment    cogs  \\\n",
       "0  26.1415  548.9715 2019-01-05 2022-12-09 13:08:00  Ewallet  522.83   \n",
       "\n",
       "   gross margin percentage  gross income  Rating      Days    Month  weekday  \n",
       "0                 4.761905       26.1415     9.1  Saturday  January        5  "
      ]
     },
     "execution_count": 27,
     "metadata": {},
     "output_type": "execute_result"
    }
   ],
   "source": [
    "df.head(1)"
   ]
  },
  {
   "cell_type": "code",
   "execution_count": 28,
   "id": "40a9d9ac",
   "metadata": {
    "execution": {
     "iopub.execute_input": "2022-12-09T17:21:23.168738Z",
     "iopub.status.busy": "2022-12-09T17:21:23.168374Z",
     "iopub.status.idle": "2022-12-09T17:21:23.181752Z",
     "shell.execute_reply": "2022-12-09T17:21:23.180055Z"
    },
    "papermill": {
     "duration": 0.060067,
     "end_time": "2022-12-09T17:21:23.185665",
     "exception": false,
     "start_time": "2022-12-09T17:21:23.125598",
     "status": "completed"
    },
    "tags": []
   },
   "outputs": [
    {
     "name": "stdout",
     "output_type": "stream",
     "text": [
      "              max         sum      min        mean\n",
      "Month                                             \n",
      "January   1034.46  116291.868  12.6945  330.374625\n",
      "February  1042.65   97219.374  10.6785  320.856020\n",
      "March     1022.49  109455.507  16.2750  317.262339\n"
     ]
    }
   ],
   "source": [
    "# 1 Find out the hot selling month(in plot)\n",
    "print(df.groupby([\"Month\"])[\"Total\"].agg([\"max\",\"sum\",\"min\",\"mean\"]).sort_values(by=\"mean\",ascending=False))\n"
   ]
  },
  {
   "cell_type": "code",
   "execution_count": 29,
   "id": "03be5ac8",
   "metadata": {
    "execution": {
     "iopub.execute_input": "2022-12-09T17:21:23.272507Z",
     "iopub.status.busy": "2022-12-09T17:21:23.272073Z",
     "iopub.status.idle": "2022-12-09T17:21:23.877942Z",
     "shell.execute_reply": "2022-12-09T17:21:23.876281Z"
    },
    "papermill": {
     "duration": 0.652829,
     "end_time": "2022-12-09T17:21:23.880892",
     "exception": false,
     "start_time": "2022-12-09T17:21:23.228063",
     "status": "completed"
    },
    "tags": []
   },
   "outputs": [
    {
     "name": "stderr",
     "output_type": "stream",
     "text": [
      "/opt/conda/lib/python3.7/site-packages/seaborn/_decorators.py:43: FutureWarning: Pass the following variables as keyword args: x, y. From version 0.12, the only valid positional argument will be `data`, and passing other arguments without an explicit keyword will result in an error or misinterpretation.\n",
      "  FutureWarning\n",
      "/opt/conda/lib/python3.7/site-packages/seaborn/_decorators.py:43: FutureWarning: Pass the following variables as keyword args: x, y. From version 0.12, the only valid positional argument will be `data`, and passing other arguments without an explicit keyword will result in an error or misinterpretation.\n",
      "  FutureWarning\n"
     ]
    },
    {
     "data": {
      "text/plain": [
       "<AxesSubplot:xlabel='Month', ylabel='Total'>"
      ]
     },
     "execution_count": 29,
     "metadata": {},
     "output_type": "execute_result"
    },
    {
     "data": {
      "image/png": "[encoded data removed]",
      "text/plain": [
       "<Figure size 720x360 with 2 Axes>"
      ]
     },
     "metadata": {
      "needs_background": "light"
     },
     "output_type": "display_data"
    }
   ],
   "source": [
    "plt.figure(figsize=(10,5))\n",
    "plt.subplot(1,2,1)\n",
    "sns.barplot(df[\"Month\"],df[\"Total\"],data=df)\n",
    "plt.subplot(1,2,2)\n",
    "sns.barplot(df[\"Month\"],df[\"Total\"],data=df,estimator=sum)"
   ]
  },
  {
   "cell_type": "markdown",
   "id": "441002b0",
   "metadata": {
    "papermill": {
     "duration": 0.042226,
     "end_time": "2022-12-09T17:21:23.966840",
     "exception": false,
     "start_time": "2022-12-09T17:21:23.924614",
     "status": "completed"
    },
    "tags": []
   },
   "source": [
    "- January was the hot selling month"
   ]
  },
  {
   "cell_type": "code",
   "execution_count": 30,
   "id": "8337d80f",
   "metadata": {
    "execution": {
     "iopub.execute_input": "2022-12-09T17:21:24.057379Z",
     "iopub.status.busy": "2022-12-09T17:21:24.056963Z",
     "iopub.status.idle": "2022-12-09T17:21:24.070047Z",
     "shell.execute_reply": "2022-12-09T17:21:24.068888Z"
    },
    "papermill": {
     "duration": 0.061634,
     "end_time": "2022-12-09T17:21:24.073606",
     "exception": false,
     "start_time": "2022-12-09T17:21:24.011972",
     "status": "completed"
    },
    "tags": []
   },
   "outputs": [
    {
     "name": "stdout",
     "output_type": "stream",
     "text": [
      "                      max         sum      min        mean\n",
      "Month    Branch                                           \n",
      "March    C        943.299  37199.0430  17.0940  350.934368\n",
      "January  B       1022.385  37176.0585  18.6375  334.919446\n",
      "         C       1034.460  40434.6810  13.4190  331.431811\n",
      "February C       1042.650  32934.9825  10.6785  329.349825\n",
      "January  A        931.035  38681.1285  12.6945  325.051500\n",
      "February A       1039.290  29860.1205  19.2465  317.660856\n",
      "         B        853.146  34424.2710  30.9960  315.819000\n",
      "March    B       1022.490  34597.3425  26.7225  308.904844\n",
      "         A        951.825  37659.1215  16.2750  296.528516\n"
     ]
    }
   ],
   "source": [
    "# 2 find out the hot selling month corresponding to  each branch (in plot)\n",
    "print(df.groupby([\"Month\",\"Branch\"])[\"Total\"].agg([\"max\",\"sum\",\"min\",\"mean\"]).sort_values(by=\"mean\",ascending=False))\n"
   ]
  },
  {
   "cell_type": "code",
   "execution_count": 31,
   "id": "bed00f4b",
   "metadata": {
    "execution": {
     "iopub.execute_input": "2022-12-09T17:21:24.164440Z",
     "iopub.status.busy": "2022-12-09T17:21:24.163925Z",
     "iopub.status.idle": "2022-12-09T17:21:25.241042Z",
     "shell.execute_reply": "2022-12-09T17:21:25.239796Z"
    },
    "papermill": {
     "duration": 1.127316,
     "end_time": "2022-12-09T17:21:25.243623",
     "exception": false,
     "start_time": "2022-12-09T17:21:24.116307",
     "status": "completed"
    },
    "tags": []
   },
   "outputs": [
    {
     "name": "stderr",
     "output_type": "stream",
     "text": [
      "/opt/conda/lib/python3.7/site-packages/seaborn/_decorators.py:43: FutureWarning: Pass the following variables as keyword args: x, y. From version 0.12, the only valid positional argument will be `data`, and passing other arguments without an explicit keyword will result in an error or misinterpretation.\n",
      "  FutureWarning\n",
      "/opt/conda/lib/python3.7/site-packages/seaborn/_decorators.py:43: FutureWarning: Pass the following variables as keyword args: x, y. From version 0.12, the only valid positional argument will be `data`, and passing other arguments without an explicit keyword will result in an error or misinterpretation.\n",
      "  FutureWarning\n"
     ]
    },
    {
     "data": {
      "text/plain": [
       "<AxesSubplot:xlabel='Month', ylabel='Total'>"
      ]
     },
     "execution_count": 31,
     "metadata": {},
     "output_type": "execute_result"
    },
    {
     "data": {
      "image/png": "[encoded data removed]",
      "text/plain": [
       "<Figure size 1080x360 with 2 Axes>"
      ]
     },
     "metadata": {
      "needs_background": "light"
     },
     "output_type": "display_data"
    }
   ],
   "source": [
    "plt.figure(figsize=(15,5))\n",
    "plt.subplot(1,2,1)\n",
    "sns.barplot(df[\"Month\"],df[\"Total\"],data=df,hue=df[\"Branch\"])\n",
    "plt.subplot(1,2,2)\n",
    "sns.barplot(df[\"Month\"],df[\"Total\"],data=df,hue=df[\"Branch\"],estimator=sum)"
   ]
  },
  {
   "cell_type": "markdown",
   "id": "27546933",
   "metadata": {
    "papermill": {
     "duration": 0.047965,
     "end_time": "2022-12-09T17:21:25.340253",
     "exception": false,
     "start_time": "2022-12-09T17:21:25.292288",
     "status": "completed"
    },
    "tags": []
   },
   "source": [
    "- For Branch A, January was the hot selling month on the basis of mean\n",
    "\n",
    "- For Branch B, January was the hot selling month on the basis of mean\n",
    "\n",
    "- For Branch C, March  was the hot selling month on the basis of mean"
   ]
  },
  {
   "cell_type": "code",
   "execution_count": 32,
   "id": "816e4bab",
   "metadata": {
    "execution": {
     "iopub.execute_input": "2022-12-09T17:21:25.433146Z",
     "iopub.status.busy": "2022-12-09T17:21:25.432677Z",
     "iopub.status.idle": "2022-12-09T17:21:25.442004Z",
     "shell.execute_reply": "2022-12-09T17:21:25.441079Z"
    },
    "papermill": {
     "duration": 0.058105,
     "end_time": "2022-12-09T17:21:25.444303",
     "exception": false,
     "start_time": "2022-12-09T17:21:25.386198",
     "status": "completed"
    },
    "tags": []
   },
   "outputs": [
    {
     "data": {
      "text/plain": [
       "array([5, 4, 6, 0, 3, 2, 1])"
      ]
     },
     "execution_count": 32,
     "metadata": {},
     "output_type": "execute_result"
    }
   ],
   "source": [
    "# 3 find the total weekdays sale and weekend sale\n",
    "\n",
    "df[\"weekday\"].unique()"
   ]
  },
  {
   "cell_type": "code",
   "execution_count": 33,
   "id": "77082224",
   "metadata": {
    "execution": {
     "iopub.execute_input": "2022-12-09T17:21:25.537809Z",
     "iopub.status.busy": "2022-12-09T17:21:25.536777Z",
     "iopub.status.idle": "2022-12-09T17:21:25.548969Z",
     "shell.execute_reply": "2022-12-09T17:21:25.547408Z"
    },
    "papermill": {
     "duration": 0.062385,
     "end_time": "2022-12-09T17:21:25.552839",
     "exception": false,
     "start_time": "2022-12-09T17:21:25.490454",
     "status": "completed"
    },
    "tags": []
   },
   "outputs": [
    {
     "name": "stdout",
     "output_type": "stream",
     "text": [
      "weekdays sale--- 222388.04700000002\n",
      "weekends sale--- 100578.702\n"
     ]
    }
   ],
   "source": [
    "week_day=df[df[\"weekday\"]<=4]\n",
    "weekend=df[df[\"weekday\"]>4]\n",
    "print(\"weekdays sale---\",week_day[\"Total\"].sum())\n",
    "print(\"weekends sale---\",weekend[\"Total\"].sum())"
   ]
  },
  {
   "cell_type": "code",
   "execution_count": 34,
   "id": "652d293a",
   "metadata": {
    "execution": {
     "iopub.execute_input": "2022-12-09T17:21:25.641866Z",
     "iopub.status.busy": "2022-12-09T17:21:25.640691Z",
     "iopub.status.idle": "2022-12-09T17:21:25.823753Z",
     "shell.execute_reply": "2022-12-09T17:21:25.822102Z"
    },
    "papermill": {
     "duration": 0.230136,
     "end_time": "2022-12-09T17:21:25.826545",
     "exception": false,
     "start_time": "2022-12-09T17:21:25.596409",
     "status": "completed"
    },
    "tags": []
   },
   "outputs": [
    {
     "data": {
      "image/png": "[encoded data removed]",
      "text/plain": [
       "<Figure size 432x288 with 1 Axes>"
      ]
     },
     "metadata": {
      "needs_background": "light"
     },
     "output_type": "display_data"
    }
   ],
   "source": [
    "l1=[week_day[\"Total\"].sum(),weekend[\"Total\"].sum()]\n",
    "l2=[\"weekday\",\"weekend\"]\n",
    "plt.bar(l2,l1)\n",
    "plt.title(\"weekday/weekend sale\")\n",
    "plt.xlabel(\"weekday/weekends\")\n",
    "plt.ylabel(\"sale\")\n",
    "plt.show();"
   ]
  },
  {
   "cell_type": "code",
   "execution_count": 35,
   "id": "6aea60fe",
   "metadata": {
    "execution": {
     "iopub.execute_input": "2022-12-09T17:21:25.919792Z",
     "iopub.status.busy": "2022-12-09T17:21:25.919368Z",
     "iopub.status.idle": "2022-12-09T17:21:25.935999Z",
     "shell.execute_reply": "2022-12-09T17:21:25.934232Z"
    },
    "papermill": {
     "duration": 0.066213,
     "end_time": "2022-12-09T17:21:25.939478",
     "exception": false,
     "start_time": "2022-12-09T17:21:25.873265",
     "status": "completed"
    },
    "tags": []
   },
   "outputs": [
    {
     "name": "stdout",
     "output_type": "stream",
     "text": [
      "weekdays sale of all branches-- Branch\n",
      "A    72428.139\n",
      "B    74497.920\n",
      "C    75461.988\n",
      "Name: Total, dtype: float64\n",
      "weekends sale of all branches --- Branch\n",
      "A    33772.2315\n",
      "B    31699.7520\n",
      "C    35106.7185\n",
      "Name: Total, dtype: float64\n"
     ]
    }
   ],
   "source": [
    " # 4 find weekday sale and weekend sale of each branch\n",
    "week_day=df[df[\"weekday\"]<=4]\n",
    "weekend=df[df[\"weekday\"]>4]\n",
    "print(\"weekdays sale of all branches--\",week_day.groupby([\"Branch\"])[\"Total\"].sum())\n",
    "print(\"weekends sale of all branches ---\",weekend.groupby([\"Branch\"])[\"Total\"].sum())\n"
   ]
  },
  {
   "cell_type": "markdown",
   "id": "149b0d51",
   "metadata": {
    "papermill": {
     "duration": 0.046861,
     "end_time": "2022-12-09T17:21:26.033465",
     "exception": false,
     "start_time": "2022-12-09T17:21:25.986604",
     "status": "completed"
    },
    "tags": []
   },
   "source": [
    "### parenthesis does not passed because we only want attributies not function"
   ]
  },
  {
   "cell_type": "code",
   "execution_count": 36,
   "id": "1cf951c1",
   "metadata": {
    "execution": {
     "iopub.execute_input": "2022-12-09T17:21:26.129162Z",
     "iopub.status.busy": "2022-12-09T17:21:26.127825Z",
     "iopub.status.idle": "2022-12-09T17:21:26.448576Z",
     "shell.execute_reply": "2022-12-09T17:21:26.447618Z"
    },
    "papermill": {
     "duration": 0.370005,
     "end_time": "2022-12-09T17:21:26.451173",
     "exception": false,
     "start_time": "2022-12-09T17:21:26.081168",
     "status": "completed"
    },
    "tags": []
   },
   "outputs": [
    {
     "data": {
      "image/png": "[encoded data removed]",
      "text/plain": [
       "<Figure size 864x360 with 2 Axes>"
      ]
     },
     "metadata": {
      "needs_background": "light"
     },
     "output_type": "display_data"
    }
   ],
   "source": [
    "plt.figure(figsize=(12,5))\n",
    "plt.subplot(1,2,1)\n",
    "plt.bar(week_day.groupby([\"Branch\"])[\"Total\"].sum().index,week_day.groupby([\"Branch\"])[\"Total\"].sum().values)\n",
    "plt.title(\"weekday sale of each branch\")\n",
    "plt.xlabel(\"weekday sale\")\n",
    "plt.ylabel(\"sale\")\n",
    "plt.subplot(1,2,2)\n",
    "plt.bar(weekend.groupby([\"Branch\"])[\"Total\"].sum().index,weekend.groupby([\"Branch\"])[\"Total\"].sum().values)\n",
    "plt.title(\"weekend sale of each branch\")\n",
    "plt.xlabel(\"weekend sale\")\n",
    "plt.ylabel(\"sale\")\n",
    "plt.show();\n"
   ]
  },
  {
   "cell_type": "markdown",
   "id": "7e97ffb8",
   "metadata": {
    "papermill": {
     "duration": 0.045802,
     "end_time": "2022-12-09T17:21:26.540502",
     "exception": false,
     "start_time": "2022-12-09T17:21:26.494700",
     "status": "completed"
    },
    "tags": []
   },
   "source": [
    "- weekday and weekend sale at Branch C was the highest"
   ]
  },
  {
   "cell_type": "code",
   "execution_count": 37,
   "id": "bf20d96f",
   "metadata": {
    "execution": {
     "iopub.execute_input": "2022-12-09T17:21:26.637601Z",
     "iopub.status.busy": "2022-12-09T17:21:26.636966Z",
     "iopub.status.idle": "2022-12-09T17:21:26.653157Z",
     "shell.execute_reply": "2022-12-09T17:21:26.651164Z"
    },
    "papermill": {
     "duration": 0.06937,
     "end_time": "2022-12-09T17:21:26.656624",
     "exception": false,
     "start_time": "2022-12-09T17:21:26.587254",
     "status": "completed"
    },
    "tags": []
   },
   "outputs": [
    {
     "name": "stdout",
     "output_type": "stream",
     "text": [
      "                max         sum      min        mean\n",
      "Days                                                \n",
      "Saturday   1023.750  56120.8095  12.6945  342.200058\n",
      "Tuesday    1022.385  51482.2455  13.4190  325.836997\n",
      "Thursday    921.186  45349.2480  10.6785  328.617739\n",
      "Sunday      939.540  44457.8925  16.1070  334.269868\n",
      "Friday     1042.650  43926.3405  16.2015  316.016838\n",
      "Wednesday  1034.460  43731.1350  23.4990  305.812133\n",
      "Monday      936.600  37899.0780  14.6790  303.192624\n"
     ]
    }
   ],
   "source": [
    "# find hot selling day, plot also\n",
    "print(df.groupby([\"Days\"])[\"Total\"].agg([\"max\",\"sum\",\"min\",\"mean\"]).sort_values(by=\"sum\",ascending=False))\n"
   ]
  },
  {
   "cell_type": "code",
   "execution_count": 38,
   "id": "4c2d610c",
   "metadata": {
    "execution": {
     "iopub.execute_input": "2022-12-09T17:21:26.748667Z",
     "iopub.status.busy": "2022-12-09T17:21:26.747712Z",
     "iopub.status.idle": "2022-12-09T17:21:27.583242Z",
     "shell.execute_reply": "2022-12-09T17:21:27.581800Z"
    },
    "papermill": {
     "duration": 0.885684,
     "end_time": "2022-12-09T17:21:27.586223",
     "exception": false,
     "start_time": "2022-12-09T17:21:26.700539",
     "status": "completed"
    },
    "tags": []
   },
   "outputs": [
    {
     "name": "stderr",
     "output_type": "stream",
     "text": [
      "/opt/conda/lib/python3.7/site-packages/seaborn/_decorators.py:43: FutureWarning: Pass the following variables as keyword args: x, y. From version 0.12, the only valid positional argument will be `data`, and passing other arguments without an explicit keyword will result in an error or misinterpretation.\n",
      "  FutureWarning\n",
      "/opt/conda/lib/python3.7/site-packages/seaborn/_decorators.py:43: FutureWarning: Pass the following variables as keyword args: x, y. From version 0.12, the only valid positional argument will be `data`, and passing other arguments without an explicit keyword will result in an error or misinterpretation.\n",
      "  FutureWarning\n"
     ]
    },
    {
     "data": {
      "text/plain": [
       "<AxesSubplot:xlabel='Days', ylabel='Total'>"
      ]
     },
     "execution_count": 38,
     "metadata": {},
     "output_type": "execute_result"
    },
    {
     "data": {
      "image/png": "[encoded data removed]",
      "text/plain": [
       "<Figure size 1440x360 with 2 Axes>"
      ]
     },
     "metadata": {
      "needs_background": "light"
     },
     "output_type": "display_data"
    }
   ],
   "source": [
    "plt.figure(figsize=(20,5))\n",
    "plt.subplot(1,2,1)\n",
    "sns.barplot(df[\"Days\"],df[\"Total\"],data=df)\n",
    "plt.subplot(1,2,2)\n",
    "sns.barplot(df[\"Days\"],df[\"Total\"],data=df,estimator=sum)"
   ]
  },
  {
   "cell_type": "markdown",
   "id": "513b152a",
   "metadata": {
    "papermill": {
     "duration": 0.045212,
     "end_time": "2022-12-09T17:21:27.676114",
     "exception": false,
     "start_time": "2022-12-09T17:21:27.630902",
     "status": "completed"
    },
    "tags": []
   },
   "source": [
    "- Saturday was the hot selling day on the basis of sum and mean"
   ]
  },
  {
   "cell_type": "code",
   "execution_count": 39,
   "id": "18b8145f",
   "metadata": {
    "execution": {
     "iopub.execute_input": "2022-12-09T17:21:27.767818Z",
     "iopub.status.busy": "2022-12-09T17:21:27.766593Z",
     "iopub.status.idle": "2022-12-09T17:21:27.782584Z",
     "shell.execute_reply": "2022-12-09T17:21:27.780901Z"
    },
    "papermill": {
     "duration": 0.064312,
     "end_time": "2022-12-09T17:21:27.785172",
     "exception": false,
     "start_time": "2022-12-09T17:21:27.720860",
     "status": "completed"
    },
    "tags": []
   },
   "outputs": [
    {
     "name": "stdout",
     "output_type": "stream",
     "text": [
      "                        max         sum      min        mean\n",
      "Branch Days                                                 \n",
      "B      Saturday   1022.4900  21284.4240  28.4235  354.740400\n",
      "       Tuesday    1022.3850  18859.2390  33.3585  355.834698\n",
      "C      Saturday   1023.7500  18070.9725  17.0940  334.647639\n",
      "       Wednesday  1034.4600  17755.8150  23.4990  355.116300\n",
      "       Tuesday     937.8180  17667.7935  13.4190  327.181361\n",
      "       Sunday      939.5400  17035.7460  23.7510  370.342304\n",
      "A      Sunday      926.9505  17006.8185  16.1070  327.054202\n",
      "       Saturday    931.0350  16765.4130  12.6945  335.308260\n",
      "B      Thursday    867.0900  15778.6230  33.9360  358.605068\n",
      "A      Thursday    921.1860  15422.2740  30.4080  335.266826\n",
      "C      Friday     1042.6500  14964.7155  16.2015  393.808303\n",
      "A      Tuesday     932.3370  14955.2130  16.2750  293.239471\n",
      "       Friday     1039.2900  14543.8650  19.1940  290.877300\n",
      "B      Friday      922.6350  14417.7600  35.1960  282.701176\n",
      "A      Monday      649.2990  14239.0605  49.7700  296.647094\n",
      "C      Thursday    829.0800  14148.3510  10.6785  294.757313\n",
      "A      Wednesday   887.9220  13267.7265  32.1405  308.551779\n",
      "B      Monday      832.9440  12734.7045  18.6375  326.530885\n",
      "       Wednesday   666.9390  12707.5935  35.3115  254.151870\n",
      "C      Monday      936.6000  10925.3130  14.6790  287.508237\n",
      "B      Sunday      793.7160  10415.3280  26.7225  297.580800\n"
     ]
    }
   ],
   "source": [
    "# find hot selling day of each branch\n",
    "print(df.groupby([\"Branch\",\"Days\"])[\"Total\"].agg([\"max\",\"sum\",\"min\",\"mean\"]).sort_values(by=\"sum\",ascending=False))"
   ]
  },
  {
   "cell_type": "code",
   "execution_count": 40,
   "id": "e3d87cdb",
   "metadata": {
    "execution": {
     "iopub.execute_input": "2022-12-09T17:21:27.880071Z",
     "iopub.status.busy": "2022-12-09T17:21:27.879644Z",
     "iopub.status.idle": "2022-12-09T17:21:29.775046Z",
     "shell.execute_reply": "2022-12-09T17:21:29.774097Z"
    },
    "papermill": {
     "duration": 1.949359,
     "end_time": "2022-12-09T17:21:29.778164",
     "exception": false,
     "start_time": "2022-12-09T17:21:27.828805",
     "status": "completed"
    },
    "tags": []
   },
   "outputs": [
    {
     "name": "stderr",
     "output_type": "stream",
     "text": [
      "/opt/conda/lib/python3.7/site-packages/seaborn/_decorators.py:43: FutureWarning: Pass the following variables as keyword args: x, y. From version 0.12, the only valid positional argument will be `data`, and passing other arguments without an explicit keyword will result in an error or misinterpretation.\n",
      "  FutureWarning\n",
      "/opt/conda/lib/python3.7/site-packages/seaborn/_decorators.py:43: FutureWarning: Pass the following variables as keyword args: x, y. From version 0.12, the only valid positional argument will be `data`, and passing other arguments without an explicit keyword will result in an error or misinterpretation.\n",
      "  FutureWarning\n"
     ]
    },
    {
     "data": {
      "text/plain": [
       "<AxesSubplot:xlabel='Days', ylabel='Total'>"
      ]
     },
     "execution_count": 40,
     "metadata": {},
     "output_type": "execute_result"
    },
    {
     "data": {
      "image/png": "[encoded data removed]",
      "text/plain": [
       "<Figure size 1584x360 with 2 Axes>"
      ]
     },
     "metadata": {
      "needs_background": "light"
     },
     "output_type": "display_data"
    }
   ],
   "source": [
    "plt.figure(figsize=(22,5))\n",
    "plt.subplot(1,2,1)\n",
    "sns.barplot(df[\"Days\"],df[\"Total\"],data=df,hue=df[\"Branch\"])\n",
    "plt.subplot(1,2,2)\n",
    "sns.barplot(df[\"Days\"],df[\"Total\"],data=df,hue=df[\"Branch\"],estimator=sum)"
   ]
  },
  {
   "cell_type": "markdown",
   "id": "513eac1b",
   "metadata": {
    "papermill": {
     "duration": 0.046518,
     "end_time": "2022-12-09T17:21:29.869919",
     "exception": false,
     "start_time": "2022-12-09T17:21:29.823401",
     "status": "completed"
    },
    "tags": []
   },
   "source": [
    "- Saturday was the hot selling day of Branch A on the basis of sum and total\n",
    "- friday was the hot selling day of Branch C on the basis of sum and total\n",
    "- Tuesday and Saturday was the hot selling day of Branch B on the basis of sum and total"
   ]
  },
  {
   "cell_type": "code",
   "execution_count": 41,
   "id": "50f878c9",
   "metadata": {
    "execution": {
     "iopub.execute_input": "2022-12-09T17:21:29.964625Z",
     "iopub.status.busy": "2022-12-09T17:21:29.964187Z",
     "iopub.status.idle": "2022-12-09T17:21:29.980287Z",
     "shell.execute_reply": "2022-12-09T17:21:29.978962Z"
    },
    "papermill": {
     "duration": 0.066481,
     "end_time": "2022-12-09T17:21:29.982856",
     "exception": false,
     "start_time": "2022-12-09T17:21:29.916375",
     "status": "completed"
    },
    "tags": []
   },
   "outputs": [
    {
     "name": "stdout",
     "output_type": "stream",
     "text": [
      "weekdays sale of all branches-- Branch  Month   \n",
      "A       February    20417.2395\n",
      "        January     25736.4870\n",
      "        March       26274.4125\n",
      "B       February    25964.4525\n",
      "        January     27634.8870\n",
      "        March       20898.5805\n",
      "C       February    21950.5020\n",
      "        January     30470.0550\n",
      "        March       23041.4310\n",
      "Name: Total, dtype: float64\n",
      "weekends sale of all branches --- Branch  Month   \n",
      "A       February     9442.8810\n",
      "        January     12944.6415\n",
      "        March       11384.7090\n",
      "B       February     8459.8185\n",
      "        January      9541.1715\n",
      "        March       13698.7620\n",
      "C       February    10984.4805\n",
      "        January      9964.6260\n",
      "        March       14157.6120\n",
      "Name: Total, dtype: float64\n"
     ]
    }
   ],
   "source": [
    " #  find weekday sale and weekend sale of each branch in each month\n",
    "week_day=df[df[\"weekday\"]<=4]\n",
    "weekend=df[df[\"weekday\"]>4]\n",
    "print(\"weekdays sale of all branches--\",week_day.groupby([\"Branch\",\"Month\"])[\"Total\"].sum())\n",
    "print(\"weekends sale of all branches ---\",weekend.groupby([\"Branch\",\"Month\"])[\"Total\"].sum())\n"
   ]
  },
  {
   "cell_type": "code",
   "execution_count": 42,
   "id": "7d4e0e1b",
   "metadata": {
    "execution": {
     "iopub.execute_input": "2022-12-09T17:21:30.075826Z",
     "iopub.status.busy": "2022-12-09T17:21:30.074711Z",
     "iopub.status.idle": "2022-12-09T17:21:30.972354Z",
     "shell.execute_reply": "2022-12-09T17:21:30.971066Z"
    },
    "papermill": {
     "duration": 0.947365,
     "end_time": "2022-12-09T17:21:30.975408",
     "exception": false,
     "start_time": "2022-12-09T17:21:30.028043",
     "status": "completed"
    },
    "tags": []
   },
   "outputs": [
    {
     "name": "stderr",
     "output_type": "stream",
     "text": [
      "/opt/conda/lib/python3.7/site-packages/seaborn/_decorators.py:43: FutureWarning: Pass the following variables as keyword args: x, y. From version 0.12, the only valid positional argument will be `data`, and passing other arguments without an explicit keyword will result in an error or misinterpretation.\n",
      "  FutureWarning\n",
      "/opt/conda/lib/python3.7/site-packages/seaborn/_decorators.py:43: FutureWarning: Pass the following variables as keyword args: x, y. From version 0.12, the only valid positional argument will be `data`, and passing other arguments without an explicit keyword will result in an error or misinterpretation.\n",
      "  FutureWarning\n"
     ]
    },
    {
     "data": {
      "text/plain": [
       "Text(0.5, 1.0, 'weekend sale of all branches--')"
      ]
     },
     "execution_count": 42,
     "metadata": {},
     "output_type": "execute_result"
    },
    {
     "data": {
      "image/png": "[encoded data removed]",
      "text/plain": [
       "<Figure size 1584x360 with 2 Axes>"
      ]
     },
     "metadata": {
      "needs_background": "light"
     },
     "output_type": "display_data"
    }
   ],
   "source": [
    "plt.figure(figsize=(22,5))\n",
    "plt.subplot(1,2,1)\n",
    "sns.barplot(week_day[\"Month\"],week_day[\"Total\"],data=week_day,hue=week_day[\"Branch\"],estimator=sum)\n",
    "plt.title(\"weekdays sale of all branches--\")\n",
    "plt.subplot(1,2,2)\n",
    "sns.barplot(weekend[\"Month\"],weekend[\"Total\"],data=weekend,hue=weekend[\"Branch\"],estimator=sum)\n",
    "plt.title(\"weekend sale of all branches--\")"
   ]
  },
  {
   "cell_type": "code",
   "execution_count": 43,
   "id": "3b94c7e1",
   "metadata": {
    "execution": {
     "iopub.execute_input": "2022-12-09T17:21:31.077922Z",
     "iopub.status.busy": "2022-12-09T17:21:31.077169Z",
     "iopub.status.idle": "2022-12-09T17:21:31.094361Z",
     "shell.execute_reply": "2022-12-09T17:21:31.092641Z"
    },
    "papermill": {
     "duration": 0.074987,
     "end_time": "2022-12-09T17:21:31.097072",
     "exception": false,
     "start_time": "2022-12-09T17:21:31.022085",
     "status": "completed"
    },
    "tags": []
   },
   "outputs": [
    {
     "name": "stdout",
     "output_type": "stream",
     "text": [
      "sale trend at branch A \n",
      "weekdays sale of branch A in each month-- Branch  Month   \n",
      "A       February    20417.2395\n",
      "        January     25736.4870\n",
      "        March       26274.4125\n",
      "Name: Total, dtype: float64\n",
      "weekends sale of branch A in each month --- Branch  Month   \n",
      "A       February     9442.8810\n",
      "        January     12944.6415\n",
      "        March       11384.7090\n",
      "Name: Total, dtype: float64\n"
     ]
    }
   ],
   "source": [
    "#  find weekday sale and weekend sale of branch A\n",
    "print(\"sale trend at branch A \")\n",
    "a=df[(df[\"Branch\"]==\"A\")]\n",
    "week_day_a=a[a[\"weekday\"]<=4]\n",
    "weekend_a=a[a[\"weekday\"]>4]\n",
    "print(\"weekdays sale of branch A in each month--\",week_day_a.groupby([\"Branch\",\"Month\"])[\"Total\"].sum())\n",
    "print(\"weekends sale of branch A in each month ---\",weekend_a.groupby([\"Branch\",\"Month\"])[\"Total\"].sum())"
   ]
  },
  {
   "cell_type": "code",
   "execution_count": 44,
   "id": "90ea8961",
   "metadata": {
    "execution": {
     "iopub.execute_input": "2022-12-09T17:21:31.199963Z",
     "iopub.status.busy": "2022-12-09T17:21:31.198215Z",
     "iopub.status.idle": "2022-12-09T17:21:31.772692Z",
     "shell.execute_reply": "2022-12-09T17:21:31.771154Z"
    },
    "papermill": {
     "duration": 0.629034,
     "end_time": "2022-12-09T17:21:31.775587",
     "exception": false,
     "start_time": "2022-12-09T17:21:31.146553",
     "status": "completed"
    },
    "tags": []
   },
   "outputs": [
    {
     "name": "stderr",
     "output_type": "stream",
     "text": [
      "/opt/conda/lib/python3.7/site-packages/seaborn/_decorators.py:43: FutureWarning: Pass the following variables as keyword args: x, y. From version 0.12, the only valid positional argument will be `data`, and passing other arguments without an explicit keyword will result in an error or misinterpretation.\n",
      "  FutureWarning\n",
      "/opt/conda/lib/python3.7/site-packages/seaborn/_decorators.py:43: FutureWarning: Pass the following variables as keyword args: x, y. From version 0.12, the only valid positional argument will be `data`, and passing other arguments without an explicit keyword will result in an error or misinterpretation.\n",
      "  FutureWarning\n"
     ]
    },
    {
     "data": {
      "text/plain": [
       "Text(0.5, 1.0, 'weekend sale of Branch A--')"
      ]
     },
     "execution_count": 44,
     "metadata": {},
     "output_type": "execute_result"
    },
    {
     "data": {
      "image/png": "[encoded data removed]",
      "text/plain": [
       "<Figure size 1584x360 with 2 Axes>"
      ]
     },
     "metadata": {
      "needs_background": "light"
     },
     "output_type": "display_data"
    }
   ],
   "source": [
    "plt.figure(figsize=(22,5))\n",
    "plt.subplot(1,2,1)\n",
    "sns.barplot(week_day_a[\"Month\"],week_day_a[\"Total\"],data=week_day_a,hue=week_day_a[\"Branch\"],estimator=sum)\n",
    "plt.title(\"weekdays sale of Branch A--\")\n",
    "plt.subplot(1,2,2)\n",
    "sns.barplot(weekend_a[\"Month\"],weekend_a[\"Total\"],data=weekend_a,hue=weekend_a[\"Branch\"],estimator=sum)\n",
    "plt.title(\"weekend sale of Branch A--\")"
   ]
  },
  {
   "cell_type": "code",
   "execution_count": 45,
   "id": "e80fa3d1",
   "metadata": {
    "execution": {
     "iopub.execute_input": "2022-12-09T17:21:31.871876Z",
     "iopub.status.busy": "2022-12-09T17:21:31.871468Z",
     "iopub.status.idle": "2022-12-09T17:21:31.890232Z",
     "shell.execute_reply": "2022-12-09T17:21:31.888673Z"
    },
    "papermill": {
     "duration": 0.071599,
     "end_time": "2022-12-09T17:21:31.892952",
     "exception": false,
     "start_time": "2022-12-09T17:21:31.821353",
     "status": "completed"
    },
    "tags": []
   },
   "outputs": [
    {
     "name": "stdout",
     "output_type": "stream",
     "text": [
      "sale trend at branch B \n",
      "weekdays sale of branch B in each month-- Branch  Month   \n",
      "B       February    25964.4525\n",
      "        January     27634.8870\n",
      "        March       20898.5805\n",
      "Name: Total, dtype: float64\n",
      "weekends sale of branch B in each month --- Branch  Month   \n",
      "B       February     8459.8185\n",
      "        January      9541.1715\n",
      "        March       13698.7620\n",
      "Name: Total, dtype: float64\n"
     ]
    }
   ],
   "source": [
    "#  find weekday sale and weekend sale of branch B\n",
    "print(\"sale trend at branch B \")\n",
    "b=df[(df[\"Branch\"]==\"B\")]\n",
    "week_day_b=b[b[\"weekday\"]<=4]\n",
    "weekend_b=b[b[\"weekday\"]>4]\n",
    "print(\"weekdays sale of branch B in each month--\",week_day_b.groupby([\"Branch\",\"Month\"])[\"Total\"].sum())\n",
    "print(\"weekends sale of branch B in each month ---\",weekend_b.groupby([\"Branch\",\"Month\"])[\"Total\"].sum())"
   ]
  },
  {
   "cell_type": "code",
   "execution_count": 46,
   "id": "4380722e",
   "metadata": {
    "execution": {
     "iopub.execute_input": "2022-12-09T17:21:31.987519Z",
     "iopub.status.busy": "2022-12-09T17:21:31.987121Z",
     "iopub.status.idle": "2022-12-09T17:21:32.566042Z",
     "shell.execute_reply": "2022-12-09T17:21:32.564323Z"
    },
    "papermill": {
     "duration": 0.629425,
     "end_time": "2022-12-09T17:21:32.568826",
     "exception": false,
     "start_time": "2022-12-09T17:21:31.939401",
     "status": "completed"
    },
    "tags": []
   },
   "outputs": [
    {
     "name": "stderr",
     "output_type": "stream",
     "text": [
      "/opt/conda/lib/python3.7/site-packages/seaborn/_decorators.py:43: FutureWarning: Pass the following variables as keyword args: x, y. From version 0.12, the only valid positional argument will be `data`, and passing other arguments without an explicit keyword will result in an error or misinterpretation.\n",
      "  FutureWarning\n",
      "/opt/conda/lib/python3.7/site-packages/seaborn/_decorators.py:43: FutureWarning: Pass the following variables as keyword args: x, y. From version 0.12, the only valid positional argument will be `data`, and passing other arguments without an explicit keyword will result in an error or misinterpretation.\n",
      "  FutureWarning\n"
     ]
    },
    {
     "data": {
      "text/plain": [
       "Text(0.5, 1.0, 'weekend sale of Branch B--')"
      ]
     },
     "execution_count": 46,
     "metadata": {},
     "output_type": "execute_result"
    },
    {
     "data": {
      "image/png": "[encoded data removed]",
      "text/plain": [
       "<Figure size 1584x360 with 2 Axes>"
      ]
     },
     "metadata": {
      "needs_background": "light"
     },
     "output_type": "display_data"
    }
   ],
   "source": [
    "plt.figure(figsize=(22,5))\n",
    "plt.subplot(1,2,1)\n",
    "sns.barplot(week_day_b[\"Month\"],week_day_b[\"Total\"],data=week_day_b,hue=week_day_b[\"Branch\"],estimator=sum)\n",
    "plt.title(\"weekdays sale of Branch B--\")\n",
    "plt.subplot(1,2,2)\n",
    "sns.barplot(weekend_b[\"Month\"],weekend_b[\"Total\"],data=weekend_b,hue=weekend_b[\"Branch\"],estimator=sum)\n",
    "plt.title(\"weekend sale of Branch B--\")"
   ]
  },
  {
   "cell_type": "code",
   "execution_count": 47,
   "id": "b0c20221",
   "metadata": {
    "execution": {
     "iopub.execute_input": "2022-12-09T17:21:32.666358Z",
     "iopub.status.busy": "2022-12-09T17:21:32.665300Z",
     "iopub.status.idle": "2022-12-09T17:21:32.683559Z",
     "shell.execute_reply": "2022-12-09T17:21:32.681726Z"
    },
    "papermill": {
     "duration": 0.07063,
     "end_time": "2022-12-09T17:21:32.687109",
     "exception": false,
     "start_time": "2022-12-09T17:21:32.616479",
     "status": "completed"
    },
    "tags": []
   },
   "outputs": [
    {
     "name": "stdout",
     "output_type": "stream",
     "text": [
      "sale trend at branch C \n",
      "weekdays sale of branch C in each month-- Branch  Month   \n",
      "C       February    21950.502\n",
      "        January     30470.055\n",
      "        March       23041.431\n",
      "Name: Total, dtype: float64\n",
      "weekends sale of branch C in each month --- Branch  Month   \n",
      "C       February    10984.4805\n",
      "        January      9964.6260\n",
      "        March       14157.6120\n",
      "Name: Total, dtype: float64\n"
     ]
    }
   ],
   "source": [
    "#  find weekday sale and weekend sale of branch C\n",
    "print(\"sale trend at branch C \")\n",
    "c=df[(df[\"Branch\"]==\"C\")]\n",
    "week_day_c=c[c[\"weekday\"]<=4]\n",
    "weekend_c=c[c[\"weekday\"]>4]\n",
    "print(\"weekdays sale of branch C in each month--\",week_day_c.groupby([\"Branch\",\"Month\"])[\"Total\"].sum())\n",
    "print(\"weekends sale of branch C in each month ---\",weekend_c.groupby([\"Branch\",\"Month\"])[\"Total\"].sum())"
   ]
  },
  {
   "cell_type": "code",
   "execution_count": 48,
   "id": "0697a9fd",
   "metadata": {
    "execution": {
     "iopub.execute_input": "2022-12-09T17:21:32.782325Z",
     "iopub.status.busy": "2022-12-09T17:21:32.781874Z",
     "iopub.status.idle": "2022-12-09T17:21:33.381202Z",
     "shell.execute_reply": "2022-12-09T17:21:33.379579Z"
    },
    "papermill": {
     "duration": 0.650091,
     "end_time": "2022-12-09T17:21:33.383984",
     "exception": false,
     "start_time": "2022-12-09T17:21:32.733893",
     "status": "completed"
    },
    "tags": []
   },
   "outputs": [
    {
     "name": "stderr",
     "output_type": "stream",
     "text": [
      "/opt/conda/lib/python3.7/site-packages/seaborn/_decorators.py:43: FutureWarning: Pass the following variables as keyword args: x, y. From version 0.12, the only valid positional argument will be `data`, and passing other arguments without an explicit keyword will result in an error or misinterpretation.\n",
      "  FutureWarning\n",
      "/opt/conda/lib/python3.7/site-packages/seaborn/_decorators.py:43: FutureWarning: Pass the following variables as keyword args: x, y. From version 0.12, the only valid positional argument will be `data`, and passing other arguments without an explicit keyword will result in an error or misinterpretation.\n",
      "  FutureWarning\n"
     ]
    },
    {
     "data": {
      "text/plain": [
       "Text(0.5, 1.0, 'weekend sale of Branch C--')"
      ]
     },
     "execution_count": 48,
     "metadata": {},
     "output_type": "execute_result"
    },
    {
     "data": {
      "image/png": "[encoded data removed]",
      "text/plain": [
       "<Figure size 1584x360 with 2 Axes>"
      ]
     },
     "metadata": {
      "needs_background": "light"
     },
     "output_type": "display_data"
    }
   ],
   "source": [
    "plt.figure(figsize=(22,5))\n",
    "plt.subplot(1,2,1)\n",
    "sns.barplot(week_day_c[\"Month\"],week_day_c[\"Total\"],data=week_day_c,hue=week_day_c[\"Branch\"],estimator=sum)\n",
    "plt.title(\"weekdays sale of Branch C--\")\n",
    "plt.subplot(1,2,2)\n",
    "sns.barplot(weekend_c[\"Month\"],weekend_c[\"Total\"],data=weekend_c,hue=weekend_c[\"Branch\"],estimator=sum)\n",
    "plt.title(\"weekend sale of Branch C--\")"
   ]
  },
  {
   "cell_type": "markdown",
   "id": "68ab10b0",
   "metadata": {
    "execution": {
     "iopub.execute_input": "2022-12-07T05:48:03.058924Z",
     "iopub.status.busy": "2022-12-07T05:48:03.058519Z",
     "iopub.status.idle": "2022-12-07T05:48:03.228776Z",
     "shell.execute_reply": "2022-12-07T05:48:03.228029Z",
     "shell.execute_reply.started": "2022-12-07T05:48:03.058891Z"
    },
    "papermill": {
     "duration": 0.047343,
     "end_time": "2022-12-09T17:21:33.481627",
     "exception": false,
     "start_time": "2022-12-09T17:21:33.434284",
     "status": "completed"
    },
    "tags": []
   },
   "source": [
    "### customer visiting trend of each branch corresponding to each month"
   ]
  },
  {
   "cell_type": "code",
   "execution_count": 49,
   "id": "a31626d9",
   "metadata": {
    "execution": {
     "iopub.execute_input": "2022-12-09T17:21:33.581564Z",
     "iopub.status.busy": "2022-12-09T17:21:33.581151Z",
     "iopub.status.idle": "2022-12-09T17:21:33.606901Z",
     "shell.execute_reply": "2022-12-09T17:21:33.606076Z"
    },
    "papermill": {
     "duration": 0.079468,
     "end_time": "2022-12-09T17:21:33.609336",
     "exception": false,
     "start_time": "2022-12-09T17:21:33.529868",
     "status": "completed"
    },
    "tags": []
   },
   "outputs": [
    {
     "data": {
      "text/html": [
       "<div>\n",
       "<style scoped>\n",
       "    .dataframe tbody tr th:only-of-type {\n",
       "        vertical-align: middle;\n",
       "    }\n",
       "\n",
       "    .dataframe tbody tr th {\n",
       "        vertical-align: top;\n",
       "    }\n",
       "\n",
       "    .dataframe thead th {\n",
       "        text-align: right;\n",
       "    }\n",
       "</style>\n",
       "<table border=\"1\" class=\"dataframe\">\n",
       "  <thead>\n",
       "    <tr style=\"text-align: right;\">\n",
       "      <th></th>\n",
       "      <th>Branch</th>\n",
       "      <th>Customer type</th>\n",
       "      <th>Gender</th>\n",
       "      <th>Product line</th>\n",
       "      <th>Unit price</th>\n",
       "      <th>Quantity</th>\n",
       "      <th>Tax 5%</th>\n",
       "      <th>Total</th>\n",
       "      <th>Date</th>\n",
       "      <th>Time</th>\n",
       "      <th>Payment</th>\n",
       "      <th>cogs</th>\n",
       "      <th>gross margin percentage</th>\n",
       "      <th>gross income</th>\n",
       "      <th>Rating</th>\n",
       "      <th>Days</th>\n",
       "      <th>Month</th>\n",
       "      <th>weekday</th>\n",
       "    </tr>\n",
       "  </thead>\n",
       "  <tbody>\n",
       "    <tr>\n",
       "      <th>0</th>\n",
       "      <td>A</td>\n",
       "      <td>Member</td>\n",
       "      <td>Female</td>\n",
       "      <td>Health and beauty</td>\n",
       "      <td>74.69</td>\n",
       "      <td>7</td>\n",
       "      <td>26.1415</td>\n",
       "      <td>548.9715</td>\n",
       "      <td>2019-01-05</td>\n",
       "      <td>2022-12-09 13:08:00</td>\n",
       "      <td>Ewallet</td>\n",
       "      <td>522.83</td>\n",
       "      <td>4.761905</td>\n",
       "      <td>26.1415</td>\n",
       "      <td>9.1</td>\n",
       "      <td>Saturday</td>\n",
       "      <td>January</td>\n",
       "      <td>5</td>\n",
       "    </tr>\n",
       "    <tr>\n",
       "      <th>2</th>\n",
       "      <td>A</td>\n",
       "      <td>Normal</td>\n",
       "      <td>Male</td>\n",
       "      <td>Home and lifestyle</td>\n",
       "      <td>46.33</td>\n",
       "      <td>7</td>\n",
       "      <td>16.2155</td>\n",
       "      <td>340.5255</td>\n",
       "      <td>2019-03-03</td>\n",
       "      <td>2022-12-09 13:23:00</td>\n",
       "      <td>Credit card</td>\n",
       "      <td>324.31</td>\n",
       "      <td>4.761905</td>\n",
       "      <td>16.2155</td>\n",
       "      <td>7.4</td>\n",
       "      <td>Sunday</td>\n",
       "      <td>March</td>\n",
       "      <td>6</td>\n",
       "    </tr>\n",
       "  </tbody>\n",
       "</table>\n",
       "</div>"
      ],
      "text/plain": [
       "  Branch Customer type  Gender        Product line  Unit price  Quantity  \\\n",
       "0      A        Member  Female   Health and beauty       74.69         7   \n",
       "2      A        Normal    Male  Home and lifestyle       46.33         7   \n",
       "\n",
       "    Tax 5%     Total       Date                Time      Payment    cogs  \\\n",
       "0  26.1415  548.9715 2019-01-05 2022-12-09 13:08:00      Ewallet  522.83   \n",
       "2  16.2155  340.5255 2019-03-03 2022-12-09 13:23:00  Credit card  324.31   \n",
       "\n",
       "   gross margin percentage  gross income  Rating      Days    Month  weekday  \n",
       "0                 4.761905       26.1415     9.1  Saturday  January        5  \n",
       "2                 4.761905       16.2155     7.4    Sunday    March        6  "
      ]
     },
     "execution_count": 49,
     "metadata": {},
     "output_type": "execute_result"
    }
   ],
   "source": [
    "a=df[(df[\"Branch\"] ==\"A\")]\n",
    "a.head(2)"
   ]
  },
  {
   "cell_type": "code",
   "execution_count": 50,
   "id": "9b716e9c",
   "metadata": {
    "execution": {
     "iopub.execute_input": "2022-12-09T17:21:33.708286Z",
     "iopub.status.busy": "2022-12-09T17:21:33.707526Z",
     "iopub.status.idle": "2022-12-09T17:21:34.287591Z",
     "shell.execute_reply": "2022-12-09T17:21:34.286315Z"
    },
    "papermill": {
     "duration": 0.632766,
     "end_time": "2022-12-09T17:21:34.290470",
     "exception": false,
     "start_time": "2022-12-09T17:21:33.657704",
     "status": "completed"
    },
    "tags": []
   },
   "outputs": [
    {
     "data": {
      "image/png": "[encoded data removed]",
      "text/plain": [
       "<Figure size 1080x216 with 3 Axes>"
      ]
     },
     "metadata": {
      "needs_background": "light"
     },
     "output_type": "display_data"
    }
   ],
   "source": [
    "plt.figure(figsize = (15,3))\n",
    "a=df[(df[\"Branch\"] ==\"A\")]\n",
    "a_jan=a[a[\"Month\"]==\"January\"]\n",
    "plt.subplot(1,3,1)\n",
    "plt.hist(a_jan[\"Date\"],edgecolor=\"red\",bins=7)\n",
    "plt.xticks(rotation = 90)\n",
    "plt.title(\"January\")\n",
    "a_feb=a[a[\"Month\"]==\"February\"]\n",
    "plt.subplot(1,3,2)\n",
    "plt.hist(a_feb[\"Date\"],edgecolor=\"red\",bins=7)\n",
    "plt.xticks(rotation = 90)\n",
    "plt.title(\"February\")\n",
    "a_march=a[a[\"Month\"]==\"March\"]\n",
    "plt.subplot(1,3,3)\n",
    "plt.hist(a_march[\"Date\"],edgecolor=\"red\",bins=7)\n",
    "plt.xticks(rotation = 90)\n",
    "plt.title(\"march\")\n",
    "plt.show()\n"
   ]
  },
  {
   "cell_type": "markdown",
   "id": "7bbc80e7",
   "metadata": {
    "papermill": {
     "duration": 0.049264,
     "end_time": "2022-12-09T17:21:34.389175",
     "exception": false,
     "start_time": "2022-12-09T17:21:34.339911",
     "status": "completed"
    },
    "tags": []
   },
   "source": [
    "### Insights of Branch A\n",
    "- jan : max customer visited on 23-27 and min visited on 05-09\n",
    "- feb : max customer visited on 16-20 and min visited on 20-24\n",
    "- mar : max customer visited on 24-29 and min visited on 13-17"
   ]
  },
  {
   "cell_type": "markdown",
   "id": "f18b673d",
   "metadata": {
    "papermill": {
     "duration": 0.049122,
     "end_time": "2022-12-09T17:21:34.486268",
     "exception": false,
     "start_time": "2022-12-09T17:21:34.437146",
     "status": "completed"
    },
    "tags": []
   },
   "source": [
    "## For Branch B"
   ]
  },
  {
   "cell_type": "code",
   "execution_count": 51,
   "id": "18657529",
   "metadata": {
    "execution": {
     "iopub.execute_input": "2022-12-09T17:21:34.589997Z",
     "iopub.status.busy": "2022-12-09T17:21:34.589269Z",
     "iopub.status.idle": "2022-12-09T17:21:35.143437Z",
     "shell.execute_reply": "2022-12-09T17:21:35.142270Z"
    },
    "papermill": {
     "duration": 0.610078,
     "end_time": "2022-12-09T17:21:35.146148",
     "exception": false,
     "start_time": "2022-12-09T17:21:34.536070",
     "status": "completed"
    },
    "tags": []
   },
   "outputs": [
    {
     "data": {
      "image/png": "[encoded data removed]",
      "text/plain": [
       "<Figure size 1080x216 with 3 Axes>"
      ]
     },
     "metadata": {
      "needs_background": "light"
     },
     "output_type": "display_data"
    }
   ],
   "source": [
    "plt.figure(figsize = (15,3))\n",
    "b=df[(df[\"Branch\"] ==\"B\")]\n",
    "b_jan=b[b[\"Month\"]==\"January\"]\n",
    "plt.subplot(1,3,1)\n",
    "plt.hist(b_jan[\"Date\"],edgecolor=\"red\",bins=7)\n",
    "plt.xticks(rotation = 90)\n",
    "plt.title(\"January\")\n",
    "b_feb=b[b[\"Month\"]==\"February\"]\n",
    "plt.subplot(1,3,2)\n",
    "plt.hist(b_feb[\"Date\"],edgecolor=\"red\",bins=7)\n",
    "plt.xticks(rotation = 90)\n",
    "plt.title(\"february\")\n",
    "b_march=b[b[\"Month\"]==\"March\"]\n",
    "plt.subplot(1,3,3)\n",
    "plt.hist(b_march[\"Date\"],edgecolor=\"red\",bins=7)\n",
    "plt.xticks(rotation = 90)\n",
    "plt.title(\"march\")\n",
    "plt.show()\n",
    "\n",
    "\n"
   ]
  },
  {
   "cell_type": "markdown",
   "id": "5ebb9a09",
   "metadata": {
    "execution": {
     "iopub.execute_input": "2022-12-09T13:48:06.199141Z",
     "iopub.status.busy": "2022-12-09T13:48:06.198801Z",
     "iopub.status.idle": "2022-12-09T13:48:06.206174Z",
     "shell.execute_reply": "2022-12-09T13:48:06.204347Z",
     "shell.execute_reply.started": "2022-12-09T13:48:06.199112Z"
    },
    "papermill": {
     "duration": 0.052657,
     "end_time": "2022-12-09T17:21:35.250145",
     "exception": false,
     "start_time": "2022-12-09T17:21:35.197488",
     "status": "completed"
    },
    "tags": []
   },
   "source": [
    "### Insights of Branch B\n",
    "- jan : max customer visited on 23-27 and min visited on 18-22\n",
    "- feb : max customer visited on 24-28 and min visited on 17-21\n",
    "- mar : max customer visited on 01-05 and min visited on 22-26"
   ]
  },
  {
   "cell_type": "markdown",
   "id": "a57d35d9",
   "metadata": {
    "papermill": {
     "duration": 0.052137,
     "end_time": "2022-12-09T17:21:35.353804",
     "exception": false,
     "start_time": "2022-12-09T17:21:35.301667",
     "status": "completed"
    },
    "tags": []
   },
   "source": [
    "## FOR Branch C"
   ]
  },
  {
   "cell_type": "code",
   "execution_count": 52,
   "id": "db249f96",
   "metadata": {
    "execution": {
     "iopub.execute_input": "2022-12-09T17:21:35.455117Z",
     "iopub.status.busy": "2022-12-09T17:21:35.454356Z",
     "iopub.status.idle": "2022-12-09T17:21:36.002024Z",
     "shell.execute_reply": "2022-12-09T17:21:36.000814Z"
    },
    "papermill": {
     "duration": 0.60086,
     "end_time": "2022-12-09T17:21:36.005270",
     "exception": false,
     "start_time": "2022-12-09T17:21:35.404410",
     "status": "completed"
    },
    "tags": []
   },
   "outputs": [
    {
     "data": {
      "image/png": "[encoded data removed]",
      "text/plain": [
       "<Figure size 1080x216 with 3 Axes>"
      ]
     },
     "metadata": {
      "needs_background": "light"
     },
     "output_type": "display_data"
    }
   ],
   "source": [
    "plt.figure(figsize = (15,3))\n",
    "c=df[(df[\"Branch\"] ==\"C\")]\n",
    "c_jan=c[c[\"Month\"]==\"January\"]\n",
    "plt.subplot(1,3,1)\n",
    "plt.hist(c_jan[\"Date\"],edgecolor=\"red\",bins=7)\n",
    "plt.xticks(rotation = 90)\n",
    "plt.title(\"January\")\n",
    "c_feb=c[c[\"Month\"]==\"February\"]\n",
    "plt.subplot(1,3,2)\n",
    "plt.hist(c_feb[\"Date\"],edgecolor=\"red\",bins=7)\n",
    "plt.xticks(rotation = 90)\n",
    "plt.title(\"february\")\n",
    "c_march=c[c[\"Month\"]==\"March\"]\n",
    "plt.subplot(1,3,3)\n",
    "plt.hist(c_march[\"Date\"],edgecolor=\"red\",bins=7)\n",
    "plt.xticks(rotation = 90)\n",
    "plt.title(\"march\")\n",
    "plt.show()\n",
    "\n"
   ]
  },
  {
   "cell_type": "markdown",
   "id": "a6af3c7d",
   "metadata": {
    "papermill": {
     "duration": 0.053244,
     "end_time": "2022-12-09T17:21:36.108839",
     "exception": false,
     "start_time": "2022-12-09T17:21:36.055595",
     "status": "completed"
    },
    "tags": []
   },
   "source": [
    "### Insights of Branch C\n",
    "- jan : max customer visited on 23-27 and min visited on 09-13\n",
    "- feb : max customer visited on 05-09 and min visited on 24-28\n",
    "- mar : max customer visited on 01-05 and min visited on 22-26"
   ]
  },
  {
   "cell_type": "markdown",
   "id": "96e8407a",
   "metadata": {
    "papermill": {
     "duration": 0.051435,
     "end_time": "2022-12-09T17:21:36.211290",
     "exception": false,
     "start_time": "2022-12-09T17:21:36.159855",
     "status": "completed"
    },
    "tags": []
   },
   "source": [
    "### product and sale"
   ]
  },
  {
   "cell_type": "code",
   "execution_count": 53,
   "id": "43455973",
   "metadata": {
    "execution": {
     "iopub.execute_input": "2022-12-09T17:21:36.318310Z",
     "iopub.status.busy": "2022-12-09T17:21:36.317649Z",
     "iopub.status.idle": "2022-12-09T17:21:36.325444Z",
     "shell.execute_reply": "2022-12-09T17:21:36.324328Z"
    },
    "papermill": {
     "duration": 0.063387,
     "end_time": "2022-12-09T17:21:36.327876",
     "exception": false,
     "start_time": "2022-12-09T17:21:36.264489",
     "status": "completed"
    },
    "tags": []
   },
   "outputs": [
    {
     "data": {
      "text/plain": [
       "0    Fashion accessories\n",
       "dtype: object"
      ]
     },
     "execution_count": 53,
     "metadata": {},
     "output_type": "execute_result"
    }
   ],
   "source": [
    "### find the most populated product of the company\n",
    "df[\"Product line\"].mode()"
   ]
  },
  {
   "cell_type": "code",
   "execution_count": 54,
   "id": "37d6fb11",
   "metadata": {
    "execution": {
     "iopub.execute_input": "2022-12-09T17:21:36.434301Z",
     "iopub.status.busy": "2022-12-09T17:21:36.433839Z",
     "iopub.status.idle": "2022-12-09T17:21:36.675950Z",
     "shell.execute_reply": "2022-12-09T17:21:36.675062Z"
    },
    "papermill": {
     "duration": 0.300733,
     "end_time": "2022-12-09T17:21:36.678592",
     "exception": false,
     "start_time": "2022-12-09T17:21:36.377859",
     "status": "completed"
    },
    "tags": []
   },
   "outputs": [
    {
     "data": {
      "image/png": "[encoded data removed]",
      "text/plain": [
       "<Figure size 432x288 with 1 Axes>"
      ]
     },
     "metadata": {
      "needs_background": "light"
     },
     "output_type": "display_data"
    }
   ],
   "source": [
    "sns.countplot(x=\"Product line\",data=df);\n",
    "plt.xticks(rotation=90);"
   ]
  },
  {
   "cell_type": "markdown",
   "id": "8eabe513",
   "metadata": {
    "papermill": {
     "duration": 0.051152,
     "end_time": "2022-12-09T17:21:36.780213",
     "exception": false,
     "start_time": "2022-12-09T17:21:36.729061",
     "status": "completed"
    },
    "tags": []
   },
   "source": [
    "### for distribution check pie chart"
   ]
  },
  {
   "cell_type": "code",
   "execution_count": 55,
   "id": "abf4d5d4",
   "metadata": {
    "execution": {
     "iopub.execute_input": "2022-12-09T17:21:36.883776Z",
     "iopub.status.busy": "2022-12-09T17:21:36.883019Z",
     "iopub.status.idle": "2022-12-09T17:21:36.890540Z",
     "shell.execute_reply": "2022-12-09T17:21:36.889625Z"
    },
    "papermill": {
     "duration": 0.061918,
     "end_time": "2022-12-09T17:21:36.893535",
     "exception": false,
     "start_time": "2022-12-09T17:21:36.831617",
     "status": "completed"
    },
    "tags": []
   },
   "outputs": [
    {
     "data": {
      "text/plain": [
       "Index(['Fashion accessories', 'Food and beverages', 'Electronic accessories',\n",
       "       'Sports and travel', 'Home and lifestyle', 'Health and beauty'],\n",
       "      dtype='object')"
      ]
     },
     "execution_count": 55,
     "metadata": {},
     "output_type": "execute_result"
    }
   ],
   "source": [
    "p_index=df['Product line'].value_counts().index\n",
    "p_index"
   ]
  },
  {
   "cell_type": "code",
   "execution_count": 56,
   "id": "27449ba5",
   "metadata": {
    "execution": {
     "iopub.execute_input": "2022-12-09T17:21:36.997649Z",
     "iopub.status.busy": "2022-12-09T17:21:36.996912Z",
     "iopub.status.idle": "2022-12-09T17:21:37.004499Z",
     "shell.execute_reply": "2022-12-09T17:21:37.003542Z"
    },
    "papermill": {
     "duration": 0.062015,
     "end_time": "2022-12-09T17:21:37.006964",
     "exception": false,
     "start_time": "2022-12-09T17:21:36.944949",
     "status": "completed"
    },
    "tags": []
   },
   "outputs": [
    {
     "data": {
      "text/plain": [
       "array([66, 65, 55, 52, 45, 45])"
      ]
     },
     "execution_count": 56,
     "metadata": {},
     "output_type": "execute_result"
    }
   ],
   "source": [
    "p_values=c['Product line'].value_counts().values\n",
    "p_values"
   ]
  },
  {
   "cell_type": "code",
   "execution_count": 57,
   "id": "d7856c88",
   "metadata": {
    "execution": {
     "iopub.execute_input": "2022-12-09T17:21:37.116183Z",
     "iopub.status.busy": "2022-12-09T17:21:37.115443Z",
     "iopub.status.idle": "2022-12-09T17:21:37.301827Z",
     "shell.execute_reply": "2022-12-09T17:21:37.300104Z"
    },
    "papermill": {
     "duration": 0.24532,
     "end_time": "2022-12-09T17:21:37.306491",
     "exception": false,
     "start_time": "2022-12-09T17:21:37.061171",
     "status": "completed"
    },
    "tags": []
   },
   "outputs": [
    {
     "data": {
      "image/png": "[encoded data removed]",
      "text/plain": [
       "<Figure size 432x288 with 1 Axes>"
      ]
     },
     "metadata": {},
     "output_type": "display_data"
    }
   ],
   "source": [
    "plt.pie(p_values,labels=p_index,autopct='%.2f%%')\n",
    "plt.show()"
   ]
  },
  {
   "cell_type": "markdown",
   "id": "fc784925",
   "metadata": {
    "papermill": {
     "duration": 0.050545,
     "end_time": "2022-12-09T17:21:37.425133",
     "exception": false,
     "start_time": "2022-12-09T17:21:37.374588",
     "status": "completed"
    },
    "tags": []
   },
   "source": [
    "### find product taste trend of customers for each branch\n",
    "#### or product demand at each branch"
   ]
  },
  {
   "cell_type": "code",
   "execution_count": 58,
   "id": "f73406bf",
   "metadata": {
    "execution": {
     "iopub.execute_input": "2022-12-09T17:21:37.532795Z",
     "iopub.status.busy": "2022-12-09T17:21:37.532179Z",
     "iopub.status.idle": "2022-12-09T17:21:37.542555Z",
     "shell.execute_reply": "2022-12-09T17:21:37.541068Z"
    },
    "papermill": {
     "duration": 0.069359,
     "end_time": "2022-12-09T17:21:37.546365",
     "exception": false,
     "start_time": "2022-12-09T17:21:37.477006",
     "status": "completed"
    },
    "tags": []
   },
   "outputs": [
    {
     "data": {
      "text/plain": [
       "Branch  Product line          \n",
       "A       Home and lifestyle        65\n",
       "        Electronic accessories    60\n",
       "        Sports and travel         59\n",
       "        Food and beverages        58\n",
       "        Fashion accessories       51\n",
       "        Health and beauty         47\n",
       "B       Fashion accessories       62\n",
       "        Sports and travel         62\n",
       "        Electronic accessories    55\n",
       "        Health and beauty         53\n",
       "        Food and beverages        50\n",
       "        Home and lifestyle        50\n",
       "C       Food and beverages        66\n",
       "        Fashion accessories       65\n",
       "        Electronic accessories    55\n",
       "        Health and beauty         52\n",
       "        Home and lifestyle        45\n",
       "        Sports and travel         45\n",
       "Name: Product line, dtype: int64"
      ]
     },
     "execution_count": 58,
     "metadata": {},
     "output_type": "execute_result"
    }
   ],
   "source": [
    "df.groupby([\"Branch\"])[\"Product line\"].value_counts()"
   ]
  },
  {
   "cell_type": "markdown",
   "id": "c564ce4a",
   "metadata": {
    "papermill": {
     "duration": 0.050426,
     "end_time": "2022-12-09T17:21:37.649112",
     "exception": false,
     "start_time": "2022-12-09T17:21:37.598686",
     "status": "completed"
    },
    "tags": []
   },
   "source": [
    "### or"
   ]
  },
  {
   "cell_type": "code",
   "execution_count": 59,
   "id": "de2dbced",
   "metadata": {
    "execution": {
     "iopub.execute_input": "2022-12-09T17:21:37.750604Z",
     "iopub.status.busy": "2022-12-09T17:21:37.750225Z",
     "iopub.status.idle": "2022-12-09T17:21:38.119896Z",
     "shell.execute_reply": "2022-12-09T17:21:38.117903Z"
    },
    "papermill": {
     "duration": 0.424473,
     "end_time": "2022-12-09T17:21:38.123382",
     "exception": false,
     "start_time": "2022-12-09T17:21:37.698909",
     "status": "completed"
    },
    "tags": []
   },
   "outputs": [
    {
     "data": {
      "image/png": "[encoded data removed]",
      "text/plain": [
       "<Figure size 1224x720 with 1 Axes>"
      ]
     },
     "metadata": {
      "needs_background": "light"
     },
     "output_type": "display_data"
    }
   ],
   "source": [
    "plt.figure(figsize=(17,10))\n",
    "sns.countplot(x=\"Branch\",data=df,hue=\"Product line\");\n",
    "plt.xticks(rotation=90);"
   ]
  },
  {
   "cell_type": "markdown",
   "id": "82deb6e8",
   "metadata": {
    "papermill": {
     "duration": 0.050736,
     "end_time": "2022-12-09T17:21:38.287146",
     "exception": false,
     "start_time": "2022-12-09T17:21:38.236410",
     "status": "completed"
    },
    "tags": []
   },
   "source": [
    "- At branch A, customer demanded for Home and Lifestyle product the most.\n",
    "- At branch B, customer demanded for Fashion accessories and Sports and travel products the most.\n",
    "- At branch C, customer demanded for Food and Beverages product the most."
   ]
  },
  {
   "cell_type": "markdown",
   "id": "1e6fb159",
   "metadata": {
    "papermill": {
     "duration": 0.04997,
     "end_time": "2022-12-09T17:21:38.387865",
     "exception": false,
     "start_time": "2022-12-09T17:21:38.337895",
     "status": "completed"
    },
    "tags": []
   },
   "source": [
    "#### find sales of each product"
   ]
  },
  {
   "cell_type": "code",
   "execution_count": 60,
   "id": "56be6ee4",
   "metadata": {
    "execution": {
     "iopub.execute_input": "2022-12-09T17:21:38.491923Z",
     "iopub.status.busy": "2022-12-09T17:21:38.491541Z",
     "iopub.status.idle": "2022-12-09T17:21:38.502434Z",
     "shell.execute_reply": "2022-12-09T17:21:38.501518Z"
    },
    "papermill": {
     "duration": 0.066507,
     "end_time": "2022-12-09T17:21:38.504742",
     "exception": false,
     "start_time": "2022-12-09T17:21:38.438235",
     "status": "completed"
    },
    "tags": []
   },
   "outputs": [
    {
     "data": {
      "text/plain": [
       "Product line\n",
       "Food and beverages        56144.8440\n",
       "Sports and travel         55122.8265\n",
       "Electronic accessories    54337.5315\n",
       "Fashion accessories       54305.8950\n",
       "Home and lifestyle        53861.9130\n",
       "Health and beauty         49193.7390\n",
       "Name: Total, dtype: float64"
      ]
     },
     "execution_count": 60,
     "metadata": {},
     "output_type": "execute_result"
    }
   ],
   "source": [
    "a=df.groupby([\"Product line\"])[\"Total\"].sum().sort_values(ascending=False)\n",
    "a"
   ]
  },
  {
   "cell_type": "code",
   "execution_count": 61,
   "id": "bd8bef95",
   "metadata": {
    "execution": {
     "iopub.execute_input": "2022-12-09T17:21:38.613650Z",
     "iopub.status.busy": "2022-12-09T17:21:38.613232Z",
     "iopub.status.idle": "2022-12-09T17:21:39.057218Z",
     "shell.execute_reply": "2022-12-09T17:21:39.055746Z"
    },
    "papermill": {
     "duration": 0.500539,
     "end_time": "2022-12-09T17:21:39.059952",
     "exception": false,
     "start_time": "2022-12-09T17:21:38.559413",
     "status": "completed"
    },
    "tags": []
   },
   "outputs": [
    {
     "data": {
      "image/png": "[encoded data removed]",
      "text/plain": [
       "<Figure size 432x288 with 1 Axes>"
      ]
     },
     "metadata": {
      "needs_background": "light"
     },
     "output_type": "display_data"
    }
   ],
   "source": [
    "sns.barplot(x=\"Total\",y=\"Product line\",data=df,estimator=sum,orient=\"h\")\n",
    "plt.xticks(rotation=90);\n",
    "plt.show();"
   ]
  },
  {
   "cell_type": "markdown",
   "id": "27590da8",
   "metadata": {
    "papermill": {
     "duration": 0.051436,
     "end_time": "2022-12-09T17:21:39.166754",
     "exception": false,
     "start_time": "2022-12-09T17:21:39.115318",
     "status": "completed"
    },
    "tags": []
   },
   "source": [
    "### orien=\"h\" show better view"
   ]
  },
  {
   "cell_type": "markdown",
   "id": "19e690e2",
   "metadata": {
    "papermill": {
     "duration": 0.050309,
     "end_time": "2022-12-09T17:21:39.270256",
     "exception": false,
     "start_time": "2022-12-09T17:21:39.219947",
     "status": "completed"
    },
    "tags": []
   },
   "source": [
    "- find the product wise sale of each branch"
   ]
  },
  {
   "cell_type": "code",
   "execution_count": 62,
   "id": "44fa9d17",
   "metadata": {
    "execution": {
     "iopub.execute_input": "2022-12-09T17:21:39.378212Z",
     "iopub.status.busy": "2022-12-09T17:21:39.377731Z",
     "iopub.status.idle": "2022-12-09T17:21:39.393743Z",
     "shell.execute_reply": "2022-12-09T17:21:39.392372Z"
    },
    "papermill": {
     "duration": 0.074785,
     "end_time": "2022-12-09T17:21:39.396866",
     "exception": false,
     "start_time": "2022-12-09T17:21:39.322081",
     "status": "completed"
    },
    "tags": []
   },
   "outputs": [
    {
     "data": {
      "text/plain": [
       "Branch  Product line          \n",
       "C       Food and beverages        23766.8550\n",
       "A       Home and lifestyle        22417.1955\n",
       "C       Fashion accessories       21560.0700\n",
       "B       Sports and travel         19988.1990\n",
       "        Health and beauty         19980.6600\n",
       "A       Sports and travel         19372.6995\n",
       "C       Electronic accessories    18968.9745\n",
       "A       Electronic accessories    18317.1135\n",
       "B       Home and lifestyle        17549.1645\n",
       "A       Food and beverages        17163.1005\n",
       "B       Electronic accessories    17051.4435\n",
       "C       Health and beauty         16615.3260\n",
       "B       Fashion accessories       16413.3165\n",
       "A       Fashion accessories       16332.5085\n",
       "C       Sports and travel         15761.9280\n",
       "B       Food and beverages        15214.8885\n",
       "C       Home and lifestyle        13895.5530\n",
       "A       Health and beauty         12597.7530\n",
       "Name: Total, dtype: float64"
      ]
     },
     "execution_count": 62,
     "metadata": {},
     "output_type": "execute_result"
    }
   ],
   "source": [
    "df.groupby([\"Branch\",\"Product line\"])[\"Total\"].sum().sort_values(ascending=False)\n"
   ]
  },
  {
   "cell_type": "code",
   "execution_count": 63,
   "id": "aa3df936",
   "metadata": {
    "execution": {
     "iopub.execute_input": "2022-12-09T17:21:39.501936Z",
     "iopub.status.busy": "2022-12-09T17:21:39.501485Z",
     "iopub.status.idle": "2022-12-09T17:21:40.480854Z",
     "shell.execute_reply": "2022-12-09T17:21:40.479378Z"
    },
    "papermill": {
     "duration": 1.035191,
     "end_time": "2022-12-09T17:21:40.483746",
     "exception": false,
     "start_time": "2022-12-09T17:21:39.448555",
     "status": "completed"
    },
    "tags": []
   },
   "outputs": [
    {
     "data": {
      "image/png": "[encoded data removed]",
      "text/plain": [
       "<Figure size 576x576 with 1 Axes>"
      ]
     },
     "metadata": {
      "needs_background": "light"
     },
     "output_type": "display_data"
    }
   ],
   "source": [
    "plt.figure(figsize=(8,8))\n",
    "sns.barplot(x=\"Branch\",y=\"Total\",hue=\"Product line\",data=df,estimator=sum)\n",
    "plt.xticks(rotation=90);"
   ]
  },
  {
   "cell_type": "markdown",
   "id": "23b65785",
   "metadata": {
    "papermill": {
     "duration": 0.056501,
     "end_time": "2022-12-09T17:21:40.594865",
     "exception": false,
     "start_time": "2022-12-09T17:21:40.538364",
     "status": "completed"
    },
    "tags": []
   },
   "source": [
    "- Find monthly sale of each product"
   ]
  },
  {
   "cell_type": "code",
   "execution_count": 64,
   "id": "8aa6e807",
   "metadata": {
    "execution": {
     "iopub.execute_input": "2022-12-09T17:21:40.705282Z",
     "iopub.status.busy": "2022-12-09T17:21:40.704807Z",
     "iopub.status.idle": "2022-12-09T17:21:40.718585Z",
     "shell.execute_reply": "2022-12-09T17:21:40.717278Z"
    },
    "papermill": {
     "duration": 0.072646,
     "end_time": "2022-12-09T17:21:40.721581",
     "exception": false,
     "start_time": "2022-12-09T17:21:40.648935",
     "status": "completed"
    },
    "tags": []
   },
   "outputs": [
    {
     "data": {
      "text/plain": [
       "Product line            Month   \n",
       "Electronic accessories  February    17362.9050\n",
       "                        January     18831.2880\n",
       "                        March       18143.3385\n",
       "Fashion accessories     February    19009.8615\n",
       "                        January     19345.1160\n",
       "                        March       15950.9175\n",
       "Food and beverages      February    20000.3580\n",
       "                        January     19570.5300\n",
       "                        March       16573.9560\n",
       "Health and beauty       February    14602.2555\n",
       "                        January     16383.1710\n",
       "                        March       18208.3125\n",
       "Home and lifestyle      February    12434.3835\n",
       "                        January     20494.7400\n",
       "                        March       20932.7895\n",
       "Sports and travel       February    13809.6105\n",
       "                        January     21667.0230\n",
       "                        March       19646.1930\n",
       "Name: Total, dtype: float64"
      ]
     },
     "execution_count": 64,
     "metadata": {},
     "output_type": "execute_result"
    }
   ],
   "source": [
    "df.groupby([\"Product line\",\"Month\"])[\"Total\"].sum()"
   ]
  },
  {
   "cell_type": "code",
   "execution_count": 65,
   "id": "553aec02",
   "metadata": {
    "execution": {
     "iopub.execute_input": "2022-12-09T17:21:40.828676Z",
     "iopub.status.busy": "2022-12-09T17:21:40.828265Z",
     "iopub.status.idle": "2022-12-09T17:21:41.643314Z",
     "shell.execute_reply": "2022-12-09T17:21:41.641798Z"
    },
    "papermill": {
     "duration": 0.872329,
     "end_time": "2022-12-09T17:21:41.647493",
     "exception": false,
     "start_time": "2022-12-09T17:21:40.775164",
     "status": "completed"
    },
    "tags": []
   },
   "outputs": [
    {
     "data": {
      "image/png": "[encoded data removed]",
      "text/plain": [
       "<Figure size 576x576 with 1 Axes>"
      ]
     },
     "metadata": {
      "needs_background": "light"
     },
     "output_type": "display_data"
    }
   ],
   "source": [
    "plt.figure(figsize=(8,8))\n",
    "sns.barplot(x=\"Month\",y=\"Total\",hue=\"Product line\",data=df,estimator=sum)\n",
    "plt.xticks(rotation=90);"
   ]
  },
  {
   "cell_type": "markdown",
   "id": "8573a5f4",
   "metadata": {
    "papermill": {
     "duration": 0.059789,
     "end_time": "2022-12-09T17:21:41.760933",
     "exception": false,
     "start_time": "2022-12-09T17:21:41.701144",
     "status": "completed"
    },
    "tags": []
   },
   "source": [
    "- Find how many types of customers"
   ]
  },
  {
   "cell_type": "code",
   "execution_count": 66,
   "id": "c5087bd9",
   "metadata": {
    "execution": {
     "iopub.execute_input": "2022-12-09T17:21:41.871786Z",
     "iopub.status.busy": "2022-12-09T17:21:41.870963Z",
     "iopub.status.idle": "2022-12-09T17:21:41.882108Z",
     "shell.execute_reply": "2022-12-09T17:21:41.880505Z"
    },
    "papermill": {
     "duration": 0.070641,
     "end_time": "2022-12-09T17:21:41.885276",
     "exception": false,
     "start_time": "2022-12-09T17:21:41.814635",
     "status": "completed"
    },
    "tags": []
   },
   "outputs": [
    {
     "data": {
      "text/plain": [
       "Female    501\n",
       "Male      499\n",
       "Name: Gender, dtype: int64"
      ]
     },
     "execution_count": 66,
     "metadata": {},
     "output_type": "execute_result"
    }
   ],
   "source": [
    "df[\"Gender\"].count()\n",
    "df[\"Gender\"].value_counts()"
   ]
  },
  {
   "cell_type": "code",
   "execution_count": 67,
   "id": "16e9894a",
   "metadata": {
    "execution": {
     "iopub.execute_input": "2022-12-09T17:21:41.993083Z",
     "iopub.status.busy": "2022-12-09T17:21:41.992641Z",
     "iopub.status.idle": "2022-12-09T17:21:42.096764Z",
     "shell.execute_reply": "2022-12-09T17:21:42.095098Z"
    },
    "papermill": {
     "duration": 0.163874,
     "end_time": "2022-12-09T17:21:42.101342",
     "exception": false,
     "start_time": "2022-12-09T17:21:41.937468",
     "status": "completed"
    },
    "tags": []
   },
   "outputs": [
    {
     "data": {
      "image/png": "[encoded data removed]",
      "text/plain": [
       "<Figure size 432x288 with 1 Axes>"
      ]
     },
     "metadata": {},
     "output_type": "display_data"
    }
   ],
   "source": [
    "plt.pie(df[\"Gender\"].value_counts(),labels=df[\"Gender\"].unique(),autopct=\"%0.01f%%\");"
   ]
  },
  {
   "cell_type": "markdown",
   "id": "9d534138",
   "metadata": {
    "papermill": {
     "duration": 0.053951,
     "end_time": "2022-12-09T17:21:42.260885",
     "exception": false,
     "start_time": "2022-12-09T17:21:42.206934",
     "status": "completed"
    },
    "tags": []
   },
   "source": [
    "- find the customer product taste according to the gender"
   ]
  },
  {
   "cell_type": "code",
   "execution_count": 68,
   "id": "43f8c70f",
   "metadata": {
    "execution": {
     "iopub.execute_input": "2022-12-09T17:21:42.375215Z",
     "iopub.status.busy": "2022-12-09T17:21:42.374303Z",
     "iopub.status.idle": "2022-12-09T17:21:42.385451Z",
     "shell.execute_reply": "2022-12-09T17:21:42.384260Z"
    },
    "papermill": {
     "duration": 0.072857,
     "end_time": "2022-12-09T17:21:42.388246",
     "exception": false,
     "start_time": "2022-12-09T17:21:42.315389",
     "status": "completed"
    },
    "tags": []
   },
   "outputs": [
    {
     "data": {
      "text/plain": [
       "Product line            Gender\n",
       "Electronic accessories  Male      86\n",
       "                        Female    84\n",
       "Fashion accessories     Female    96\n",
       "                        Male      82\n",
       "Food and beverages      Female    90\n",
       "                        Male      84\n",
       "Health and beauty       Male      88\n",
       "                        Female    64\n",
       "Home and lifestyle      Male      81\n",
       "                        Female    79\n",
       "Sports and travel       Female    88\n",
       "                        Male      78\n",
       "Name: Gender, dtype: int64"
      ]
     },
     "execution_count": 68,
     "metadata": {},
     "output_type": "execute_result"
    }
   ],
   "source": [
    "df.groupby([\"Product line\"])[\"Gender\"].value_counts()"
   ]
  },
  {
   "cell_type": "code",
   "execution_count": 69,
   "id": "8889e80f",
   "metadata": {
    "execution": {
     "iopub.execute_input": "2022-12-09T17:21:42.501882Z",
     "iopub.status.busy": "2022-12-09T17:21:42.501467Z",
     "iopub.status.idle": "2022-12-09T17:21:42.810040Z",
     "shell.execute_reply": "2022-12-09T17:21:42.808802Z"
    },
    "papermill": {
     "duration": 0.368757,
     "end_time": "2022-12-09T17:21:42.812697",
     "exception": false,
     "start_time": "2022-12-09T17:21:42.443940",
     "status": "completed"
    },
    "tags": []
   },
   "outputs": [
    {
     "name": "stderr",
     "output_type": "stream",
     "text": [
      "/opt/conda/lib/python3.7/site-packages/seaborn/_decorators.py:43: FutureWarning: Pass the following variable as a keyword arg: x. From version 0.12, the only valid positional argument will be `data`, and passing other arguments without an explicit keyword will result in an error or misinterpretation.\n",
      "  FutureWarning\n"
     ]
    },
    {
     "data": {
      "image/png": "[encoded data removed]",
      "text/plain": [
       "<Figure size 432x288 with 1 Axes>"
      ]
     },
     "metadata": {
      "needs_background": "light"
     },
     "output_type": "display_data"
    }
   ],
   "source": [
    "sns.countplot(df[\"Product line\"],hue=df[\"Gender\"]);\n",
    "plt.xticks(rotation=90);"
   ]
  },
  {
   "cell_type": "markdown",
   "id": "2b400ccd",
   "metadata": {
    "papermill": {
     "duration": 0.055217,
     "end_time": "2022-12-09T17:21:42.923694",
     "exception": false,
     "start_time": "2022-12-09T17:21:42.868477",
     "status": "completed"
    },
    "tags": []
   },
   "source": [
    "### Branch wise"
   ]
  },
  {
   "cell_type": "code",
   "execution_count": 70,
   "id": "33ab64b4",
   "metadata": {
    "execution": {
     "iopub.execute_input": "2022-12-09T17:21:43.036955Z",
     "iopub.status.busy": "2022-12-09T17:21:43.036547Z",
     "iopub.status.idle": "2022-12-09T17:21:43.051358Z",
     "shell.execute_reply": "2022-12-09T17:21:43.049818Z"
    },
    "papermill": {
     "duration": 0.076261,
     "end_time": "2022-12-09T17:21:43.053668",
     "exception": false,
     "start_time": "2022-12-09T17:21:42.977407",
     "status": "completed"
    },
    "tags": []
   },
   "outputs": [
    {
     "data": {
      "text/plain": [
       "Branch  Product line            Gender\n",
       "A       Electronic accessories  Male      32\n",
       "                                Female    28\n",
       "        Fashion accessories     Female    28\n",
       "                                Male      23\n",
       "        Food and beverages      Male      35\n",
       "                                Female    23\n",
       "        Health and beauty       Male      26\n",
       "                                Female    21\n",
       "        Home and lifestyle      Male      33\n",
       "                                Female    32\n",
       "        Sports and travel       Male      30\n",
       "                                Female    29\n",
       "B       Electronic accessories  Female    28\n",
       "                                Male      27\n",
       "        Fashion accessories     Female    33\n",
       "                                Male      29\n",
       "        Food and beverages      Female    29\n",
       "                                Male      21\n",
       "        Health and beauty       Male      33\n",
       "                                Female    20\n",
       "        Home and lifestyle      Male      28\n",
       "                                Female    22\n",
       "        Sports and travel       Male      32\n",
       "                                Female    30\n",
       "C       Electronic accessories  Female    28\n",
       "                                Male      27\n",
       "        Fashion accessories     Female    35\n",
       "                                Male      30\n",
       "        Food and beverages      Female    38\n",
       "                                Male      28\n",
       "        Health and beauty       Male      29\n",
       "                                Female    23\n",
       "        Home and lifestyle      Female    25\n",
       "                                Male      20\n",
       "        Sports and travel       Female    29\n",
       "                                Male      16\n",
       "Name: Gender, dtype: int64"
      ]
     },
     "execution_count": 70,
     "metadata": {},
     "output_type": "execute_result"
    }
   ],
   "source": [
    "df.groupby([\"Branch\",\"Product line\"])[\"Gender\"].value_counts()"
   ]
  },
  {
   "cell_type": "markdown",
   "id": "a20e8a69",
   "metadata": {
    "papermill": {
     "duration": 0.05611,
     "end_time": "2022-12-09T17:21:43.163834",
     "exception": false,
     "start_time": "2022-12-09T17:21:43.107724",
     "status": "completed"
    },
    "tags": []
   },
   "source": [
    "- who contributed most? male/female"
   ]
  },
  {
   "cell_type": "code",
   "execution_count": 71,
   "id": "31ec5d81",
   "metadata": {
    "execution": {
     "iopub.execute_input": "2022-12-09T17:21:43.275087Z",
     "iopub.status.busy": "2022-12-09T17:21:43.274629Z",
     "iopub.status.idle": "2022-12-09T17:21:43.287239Z",
     "shell.execute_reply": "2022-12-09T17:21:43.286345Z"
    },
    "papermill": {
     "duration": 0.071171,
     "end_time": "2022-12-09T17:21:43.290644",
     "exception": false,
     "start_time": "2022-12-09T17:21:43.219473",
     "status": "completed"
    },
    "tags": []
   },
   "outputs": [
    {
     "data": {
      "text/html": [
       "<div>\n",
       "<style scoped>\n",
       "    .dataframe tbody tr th:only-of-type {\n",
       "        vertical-align: middle;\n",
       "    }\n",
       "\n",
       "    .dataframe tbody tr th {\n",
       "        vertical-align: top;\n",
       "    }\n",
       "\n",
       "    .dataframe thead th {\n",
       "        text-align: right;\n",
       "    }\n",
       "</style>\n",
       "<table border=\"1\" class=\"dataframe\">\n",
       "  <thead>\n",
       "    <tr style=\"text-align: right;\">\n",
       "      <th></th>\n",
       "      <th>sum</th>\n",
       "      <th>mean</th>\n",
       "    </tr>\n",
       "    <tr>\n",
       "      <th>Gender</th>\n",
       "      <th></th>\n",
       "      <th></th>\n",
       "    </tr>\n",
       "  </thead>\n",
       "  <tbody>\n",
       "    <tr>\n",
       "      <th>Female</th>\n",
       "      <td>167882.925</td>\n",
       "      <td>335.095659</td>\n",
       "    </tr>\n",
       "    <tr>\n",
       "      <th>Male</th>\n",
       "      <td>155083.824</td>\n",
       "      <td>310.789226</td>\n",
       "    </tr>\n",
       "  </tbody>\n",
       "</table>\n",
       "</div>"
      ],
      "text/plain": [
       "               sum        mean\n",
       "Gender                        \n",
       "Female  167882.925  335.095659\n",
       "Male    155083.824  310.789226"
      ]
     },
     "execution_count": 71,
     "metadata": {},
     "output_type": "execute_result"
    }
   ],
   "source": [
    "df.groupby([\"Gender\"])[\"Total\"].agg([\"sum\",\"mean\"])"
   ]
  },
  {
   "cell_type": "markdown",
   "id": "1b66f4a2",
   "metadata": {
    "papermill": {
     "duration": 0.053793,
     "end_time": "2022-12-09T17:21:43.398189",
     "exception": false,
     "start_time": "2022-12-09T17:21:43.344396",
     "status": "completed"
    },
    "tags": []
   },
   "source": [
    "- find the total sale of each product by gender"
   ]
  },
  {
   "cell_type": "code",
   "execution_count": 72,
   "id": "bfb8e06c",
   "metadata": {
    "execution": {
     "iopub.execute_input": "2022-12-09T17:21:43.508431Z",
     "iopub.status.busy": "2022-12-09T17:21:43.506712Z",
     "iopub.status.idle": "2022-12-09T17:21:44.201334Z",
     "shell.execute_reply": "2022-12-09T17:21:44.199175Z"
    },
    "papermill": {
     "duration": 0.754009,
     "end_time": "2022-12-09T17:21:44.205285",
     "exception": false,
     "start_time": "2022-12-09T17:21:43.451276",
     "status": "completed"
    },
    "tags": []
   },
   "outputs": [
    {
     "data": {
      "text/plain": [
       "<AxesSubplot:xlabel='Gender', ylabel='Total'>"
      ]
     },
     "execution_count": 72,
     "metadata": {},
     "output_type": "execute_result"
    },
    {
     "data": {
      "image/png": "[encoded data removed]",
      "text/plain": [
       "<Figure size 864x360 with 1 Axes>"
      ]
     },
     "metadata": {
      "needs_background": "light"
     },
     "output_type": "display_data"
    }
   ],
   "source": [
    "plt.figure(figsize=(12,5))\n",
    "sns.barplot(x=\"Gender\",y=\"Total\",data=df,hue=\"Product line\",estimator=sum)"
   ]
  },
  {
   "cell_type": "markdown",
   "id": "9ca8fc3d",
   "metadata": {
    "papermill": {
     "duration": 0.058241,
     "end_time": "2022-12-09T17:21:44.320946",
     "exception": false,
     "start_time": "2022-12-09T17:21:44.262705",
     "status": "completed"
    },
    "tags": []
   },
   "source": [
    "- which branch has highest customers"
   ]
  },
  {
   "cell_type": "code",
   "execution_count": 73,
   "id": "742028b4",
   "metadata": {
    "execution": {
     "iopub.execute_input": "2022-12-09T17:21:44.438596Z",
     "iopub.status.busy": "2022-12-09T17:21:44.437940Z",
     "iopub.status.idle": "2022-12-09T17:21:44.448836Z",
     "shell.execute_reply": "2022-12-09T17:21:44.447902Z"
    },
    "papermill": {
     "duration": 0.072632,
     "end_time": "2022-12-09T17:21:44.451422",
     "exception": false,
     "start_time": "2022-12-09T17:21:44.378790",
     "status": "completed"
    },
    "tags": []
   },
   "outputs": [
    {
     "data": {
      "text/plain": [
       "Branch\n",
       "A    340\n",
       "B    332\n",
       "C    328\n",
       "Name: Customer type, dtype: int64"
      ]
     },
     "execution_count": 73,
     "metadata": {},
     "output_type": "execute_result"
    }
   ],
   "source": [
    "df.groupby([\"Branch\"])[\"Customer type\"].count()"
   ]
  },
  {
   "cell_type": "markdown",
   "id": "eb8fb8ad",
   "metadata": {
    "execution": {
     "iopub.execute_input": "2022-12-07T06:27:16.669706Z",
     "iopub.status.busy": "2022-12-07T06:27:16.669249Z",
     "iopub.status.idle": "2022-12-07T06:27:16.678819Z",
     "shell.execute_reply": "2022-12-07T06:27:16.677426Z",
     "shell.execute_reply.started": "2022-12-07T06:27:16.669670Z"
    },
    "papermill": {
     "duration": 0.054855,
     "end_time": "2022-12-09T17:21:44.563951",
     "exception": false,
     "start_time": "2022-12-09T17:21:44.509096",
     "status": "completed"
    },
    "tags": []
   },
   "source": [
    "#### How many Customers were normal or Member of the company?"
   ]
  },
  {
   "cell_type": "code",
   "execution_count": 74,
   "id": "75e1b7b6",
   "metadata": {
    "execution": {
     "iopub.execute_input": "2022-12-09T17:21:44.689316Z",
     "iopub.status.busy": "2022-12-09T17:21:44.688598Z",
     "iopub.status.idle": "2022-12-09T17:21:44.699041Z",
     "shell.execute_reply": "2022-12-09T17:21:44.697810Z"
    },
    "papermill": {
     "duration": 0.077162,
     "end_time": "2022-12-09T17:21:44.701692",
     "exception": false,
     "start_time": "2022-12-09T17:21:44.624530",
     "status": "completed"
    },
    "tags": []
   },
   "outputs": [
    {
     "data": {
      "text/plain": [
       "Customer type\n",
       "Member    164223.444\n",
       "Normal    158743.305\n",
       "Name: Total, dtype: float64"
      ]
     },
     "execution_count": 74,
     "metadata": {},
     "output_type": "execute_result"
    }
   ],
   "source": [
    "\n",
    "### classify TOTAL income based on customer type?\n",
    "df.groupby([\"Customer type\"])[\"Total\"].sum()\n"
   ]
  },
  {
   "cell_type": "markdown",
   "id": "9daf75d8",
   "metadata": {
    "papermill": {
     "duration": 0.054942,
     "end_time": "2022-12-09T17:21:44.812700",
     "exception": false,
     "start_time": "2022-12-09T17:21:44.757758",
     "status": "completed"
    },
    "tags": []
   },
   "source": [
    "#### Find Customers type count of each branch"
   ]
  },
  {
   "cell_type": "code",
   "execution_count": 75,
   "id": "c72a941f",
   "metadata": {
    "execution": {
     "iopub.execute_input": "2022-12-09T17:21:44.926797Z",
     "iopub.status.busy": "2022-12-09T17:21:44.926364Z",
     "iopub.status.idle": "2022-12-09T17:21:44.940378Z",
     "shell.execute_reply": "2022-12-09T17:21:44.938962Z"
    },
    "papermill": {
     "duration": 0.074599,
     "end_time": "2022-12-09T17:21:44.943094",
     "exception": false,
     "start_time": "2022-12-09T17:21:44.868495",
     "status": "completed"
    },
    "tags": []
   },
   "outputs": [
    {
     "data": {
      "text/plain": [
       "Branch  Customer type\n",
       "A       Normal           173\n",
       "        Member           167\n",
       "B       Normal           167\n",
       "        Member           165\n",
       "C       Member           169\n",
       "        Normal           159\n",
       "Name: Customer type, dtype: int64"
      ]
     },
     "execution_count": 75,
     "metadata": {},
     "output_type": "execute_result"
    }
   ],
   "source": [
    "df.groupby([\"Branch\"])[\"Customer type\"].value_counts()\n"
   ]
  },
  {
   "cell_type": "code",
   "execution_count": 76,
   "id": "e4cdb832",
   "metadata": {
    "execution": {
     "iopub.execute_input": "2022-12-09T17:21:45.061717Z",
     "iopub.status.busy": "2022-12-09T17:21:45.060935Z",
     "iopub.status.idle": "2022-12-09T17:21:45.345107Z",
     "shell.execute_reply": "2022-12-09T17:21:45.344078Z"
    },
    "papermill": {
     "duration": 0.347237,
     "end_time": "2022-12-09T17:21:45.348478",
     "exception": false,
     "start_time": "2022-12-09T17:21:45.001241",
     "status": "completed"
    },
    "tags": []
   },
   "outputs": [
    {
     "name": "stderr",
     "output_type": "stream",
     "text": [
      "/opt/conda/lib/python3.7/site-packages/seaborn/_decorators.py:43: FutureWarning: Pass the following variable as a keyword arg: x. From version 0.12, the only valid positional argument will be `data`, and passing other arguments without an explicit keyword will result in an error or misinterpretation.\n",
      "  FutureWarning\n"
     ]
    },
    {
     "data": {
      "image/png": "[encoded data removed]",
      "text/plain": [
       "<Figure size 432x288 with 1 Axes>"
      ]
     },
     "metadata": {
      "needs_background": "light"
     },
     "output_type": "display_data"
    }
   ],
   "source": [
    "sns.countplot(df[\"Branch\"],hue=df[\"Customer type\"]);"
   ]
  },
  {
   "cell_type": "markdown",
   "id": "bede0520",
   "metadata": {
    "papermill": {
     "duration": 0.073286,
     "end_time": "2022-12-09T17:21:45.488885",
     "exception": false,
     "start_time": "2022-12-09T17:21:45.415599",
     "status": "completed"
    },
    "tags": []
   },
   "source": [
    "### Time"
   ]
  },
  {
   "cell_type": "markdown",
   "id": "6efec941",
   "metadata": {
    "papermill": {
     "duration": 0.07211,
     "end_time": "2022-12-09T17:21:45.622970",
     "exception": false,
     "start_time": "2022-12-09T17:21:45.550860",
     "status": "completed"
    },
    "tags": []
   },
   "source": [
    "- find the peak time of customers visit at supermarket"
   ]
  },
  {
   "cell_type": "code",
   "execution_count": 77,
   "id": "11fbf009",
   "metadata": {
    "execution": {
     "iopub.execute_input": "2022-12-09T17:21:45.750404Z",
     "iopub.status.busy": "2022-12-09T17:21:45.749447Z",
     "iopub.status.idle": "2022-12-09T17:21:45.759633Z",
     "shell.execute_reply": "2022-12-09T17:21:45.758507Z"
    },
    "papermill": {
     "duration": 0.074543,
     "end_time": "2022-12-09T17:21:45.762082",
     "exception": false,
     "start_time": "2022-12-09T17:21:45.687539",
     "status": "completed"
    },
    "tags": []
   },
   "outputs": [
    {
     "data": {
      "text/plain": [
       "0   2022-12-09 14:42:00\n",
       "1   2022-12-09 19:48:00\n",
       "dtype: datetime64[ns]"
      ]
     },
     "execution_count": 77,
     "metadata": {},
     "output_type": "execute_result"
    }
   ],
   "source": [
    "df[\"Time\"].mode()"
   ]
  },
  {
   "cell_type": "code",
   "execution_count": 78,
   "id": "90eb3a91",
   "metadata": {
    "execution": {
     "iopub.execute_input": "2022-12-09T17:21:45.885865Z",
     "iopub.status.busy": "2022-12-09T17:21:45.884670Z",
     "iopub.status.idle": "2022-12-09T17:21:45.899790Z",
     "shell.execute_reply": "2022-12-09T17:21:45.898499Z"
    },
    "papermill": {
     "duration": 0.079545,
     "end_time": "2022-12-09T17:21:45.902355",
     "exception": false,
     "start_time": "2022-12-09T17:21:45.822810",
     "status": "completed"
    },
    "tags": []
   },
   "outputs": [
    {
     "data": {
      "text/plain": [
       "Branch  Time               \n",
       "A       2022-12-09 11:51:00    3\n",
       "        2022-12-09 12:43:00    3\n",
       "        2022-12-09 13:34:00    3\n",
       "        2022-12-09 15:48:00    3\n",
       "        2022-12-09 19:44:00    3\n",
       "                              ..\n",
       "C       2022-12-09 20:47:00    1\n",
       "        2022-12-09 20:50:00    1\n",
       "        2022-12-09 20:51:00    1\n",
       "        2022-12-09 20:54:00    1\n",
       "        2022-12-09 20:59:00    1\n",
       "Name: Time, Length: 788, dtype: int64"
      ]
     },
     "execution_count": 78,
     "metadata": {},
     "output_type": "execute_result"
    }
   ],
   "source": [
    "df.groupby([\"Branch\"])[\"Time\"].value_counts()"
   ]
  },
  {
   "cell_type": "markdown",
   "id": "6bd28a99",
   "metadata": {
    "papermill": {
     "duration": 0.060317,
     "end_time": "2022-12-09T17:21:46.023235",
     "exception": false,
     "start_time": "2022-12-09T17:21:45.962918",
     "status": "completed"
    },
    "tags": []
   },
   "source": [
    "#### can not analyse so we will make a hour column for better analyization"
   ]
  },
  {
   "cell_type": "code",
   "execution_count": 79,
   "id": "debaf903",
   "metadata": {
    "execution": {
     "iopub.execute_input": "2022-12-09T17:21:46.146907Z",
     "iopub.status.busy": "2022-12-09T17:21:46.146148Z",
     "iopub.status.idle": "2022-12-09T17:21:46.153051Z",
     "shell.execute_reply": "2022-12-09T17:21:46.152084Z"
    },
    "papermill": {
     "duration": 0.071749,
     "end_time": "2022-12-09T17:21:46.155624",
     "exception": false,
     "start_time": "2022-12-09T17:21:46.083875",
     "status": "completed"
    },
    "tags": []
   },
   "outputs": [],
   "source": [
    "df[\"Hour\"]=df[\"Time\"].dt.hour\n"
   ]
  },
  {
   "cell_type": "code",
   "execution_count": 80,
   "id": "907064e1",
   "metadata": {
    "execution": {
     "iopub.execute_input": "2022-12-09T17:21:46.280215Z",
     "iopub.status.busy": "2022-12-09T17:21:46.279784Z",
     "iopub.status.idle": "2022-12-09T17:21:46.302206Z",
     "shell.execute_reply": "2022-12-09T17:21:46.300953Z"
    },
    "papermill": {
     "duration": 0.086108,
     "end_time": "2022-12-09T17:21:46.304614",
     "exception": false,
     "start_time": "2022-12-09T17:21:46.218506",
     "status": "completed"
    },
    "tags": []
   },
   "outputs": [
    {
     "data": {
      "text/html": [
       "<div>\n",
       "<style scoped>\n",
       "    .dataframe tbody tr th:only-of-type {\n",
       "        vertical-align: middle;\n",
       "    }\n",
       "\n",
       "    .dataframe tbody tr th {\n",
       "        vertical-align: top;\n",
       "    }\n",
       "\n",
       "    .dataframe thead th {\n",
       "        text-align: right;\n",
       "    }\n",
       "</style>\n",
       "<table border=\"1\" class=\"dataframe\">\n",
       "  <thead>\n",
       "    <tr style=\"text-align: right;\">\n",
       "      <th></th>\n",
       "      <th>Branch</th>\n",
       "      <th>Customer type</th>\n",
       "      <th>Gender</th>\n",
       "      <th>Product line</th>\n",
       "      <th>Unit price</th>\n",
       "      <th>Quantity</th>\n",
       "      <th>Tax 5%</th>\n",
       "      <th>Total</th>\n",
       "      <th>Date</th>\n",
       "      <th>Time</th>\n",
       "      <th>Payment</th>\n",
       "      <th>cogs</th>\n",
       "      <th>gross margin percentage</th>\n",
       "      <th>gross income</th>\n",
       "      <th>Rating</th>\n",
       "      <th>Days</th>\n",
       "      <th>Month</th>\n",
       "      <th>weekday</th>\n",
       "      <th>Hour</th>\n",
       "    </tr>\n",
       "  </thead>\n",
       "  <tbody>\n",
       "    <tr>\n",
       "      <th>0</th>\n",
       "      <td>A</td>\n",
       "      <td>Member</td>\n",
       "      <td>Female</td>\n",
       "      <td>Health and beauty</td>\n",
       "      <td>74.69</td>\n",
       "      <td>7</td>\n",
       "      <td>26.1415</td>\n",
       "      <td>548.9715</td>\n",
       "      <td>2019-01-05</td>\n",
       "      <td>2022-12-09 13:08:00</td>\n",
       "      <td>Ewallet</td>\n",
       "      <td>522.83</td>\n",
       "      <td>4.761905</td>\n",
       "      <td>26.1415</td>\n",
       "      <td>9.1</td>\n",
       "      <td>Saturday</td>\n",
       "      <td>January</td>\n",
       "      <td>5</td>\n",
       "      <td>13</td>\n",
       "    </tr>\n",
       "  </tbody>\n",
       "</table>\n",
       "</div>"
      ],
      "text/plain": [
       "  Branch Customer type  Gender       Product line  Unit price  Quantity  \\\n",
       "0      A        Member  Female  Health and beauty       74.69         7   \n",
       "\n",
       "    Tax 5%     Total       Date                Time  Payment    cogs  \\\n",
       "0  26.1415  548.9715 2019-01-05 2022-12-09 13:08:00  Ewallet  522.83   \n",
       "\n",
       "   gross margin percentage  gross income  Rating      Days    Month  weekday  \\\n",
       "0                 4.761905       26.1415     9.1  Saturday  January        5   \n",
       "\n",
       "   Hour  \n",
       "0    13  "
      ]
     },
     "execution_count": 80,
     "metadata": {},
     "output_type": "execute_result"
    }
   ],
   "source": [
    "df.head(1)"
   ]
  },
  {
   "cell_type": "code",
   "execution_count": 81,
   "id": "f2acdab5",
   "metadata": {
    "execution": {
     "iopub.execute_input": "2022-12-09T17:21:46.421373Z",
     "iopub.status.busy": "2022-12-09T17:21:46.420689Z",
     "iopub.status.idle": "2022-12-09T17:21:46.682743Z",
     "shell.execute_reply": "2022-12-09T17:21:46.681263Z"
    },
    "papermill": {
     "duration": 0.322917,
     "end_time": "2022-12-09T17:21:46.685528",
     "exception": false,
     "start_time": "2022-12-09T17:21:46.362611",
     "status": "completed"
    },
    "tags": []
   },
   "outputs": [
    {
     "data": {
      "text/plain": [
       "<AxesSubplot:xlabel='Hour', ylabel='count'>"
      ]
     },
     "execution_count": 81,
     "metadata": {},
     "output_type": "execute_result"
    },
    {
     "data": {
      "image/png": "[encoded data removed]",
      "text/plain": [
       "<Figure size 432x288 with 1 Axes>"
      ]
     },
     "metadata": {
      "needs_background": "light"
     },
     "output_type": "display_data"
    }
   ],
   "source": [
    "sns.countplot(x=\"Hour\",data=df)"
   ]
  },
  {
   "cell_type": "code",
   "execution_count": 82,
   "id": "41d01406",
   "metadata": {
    "execution": {
     "iopub.execute_input": "2022-12-09T17:21:46.809248Z",
     "iopub.status.busy": "2022-12-09T17:21:46.808803Z",
     "iopub.status.idle": "2022-12-09T17:21:47.097612Z",
     "shell.execute_reply": "2022-12-09T17:21:47.096354Z"
    },
    "papermill": {
     "duration": 0.358324,
     "end_time": "2022-12-09T17:21:47.100418",
     "exception": false,
     "start_time": "2022-12-09T17:21:46.742094",
     "status": "completed"
    },
    "tags": []
   },
   "outputs": [
    {
     "data": {
      "text/plain": [
       "Text(0, 0.5, 'Quantity')"
      ]
     },
     "execution_count": 82,
     "metadata": {},
     "output_type": "execute_result"
    },
    {
     "data": {
      "image/png": "[encoded data removed]",
      "text/plain": [
       "<Figure size 864x576 with 1 Axes>"
      ]
     },
     "metadata": {
      "needs_background": "light"
     },
     "output_type": "display_data"
    }
   ],
   "source": [
    "plt.figure(figsize=(12,8))\n",
    "sns.lineplot(x='Hour',y='Quantity',data=df,ci=None)\n",
    "plt.title('Product sales per hour', fontsize=20)\n",
    "plt.xlabel('Time of the day', fontsize=15)\n",
    "plt.xticks(df['Hour'].unique())\n",
    "# plt.yticks(df['Quantity'].unique())\n",
    "plt.ylabel('Quantity', fontsize=15)\n",
    "\n"
   ]
  },
  {
   "cell_type": "markdown",
   "id": "8d869a8f",
   "metadata": {
    "papermill": {
     "duration": 0.060129,
     "end_time": "2022-12-09T17:21:47.224259",
     "exception": false,
     "start_time": "2022-12-09T17:21:47.164130",
     "status": "completed"
    },
    "tags": []
   },
   "source": [
    "## Find hot selling item of each hour"
   ]
  },
  {
   "cell_type": "code",
   "execution_count": 83,
   "id": "2a803a9f",
   "metadata": {
    "execution": {
     "iopub.execute_input": "2022-12-09T17:21:47.348319Z",
     "iopub.status.busy": "2022-12-09T17:21:47.347561Z",
     "iopub.status.idle": "2022-12-09T17:21:47.807493Z",
     "shell.execute_reply": "2022-12-09T17:21:47.806184Z"
    },
    "papermill": {
     "duration": 0.524538,
     "end_time": "2022-12-09T17:21:47.811350",
     "exception": false,
     "start_time": "2022-12-09T17:21:47.286812",
     "status": "completed"
    },
    "tags": []
   },
   "outputs": [
    {
     "data": {
      "text/plain": [
       "Text(0, 0.5, 'Quantity')"
      ]
     },
     "execution_count": 83,
     "metadata": {},
     "output_type": "execute_result"
    },
    {
     "data": {
      "image/png": "[encoded data removed]",
      "text/plain": [
       "<Figure size 864x576 with 1 Axes>"
      ]
     },
     "metadata": {
      "needs_background": "light"
     },
     "output_type": "display_data"
    }
   ],
   "source": [
    "plt.figure(figsize=(12,8))\n",
    "sns.lineplot(x='Hour',y='Quantity',data=df,hue=\"Product line\",ci=None)\n",
    "plt.title('Product sales per hour', fontsize=20)\n",
    "plt.xlabel('Time of the day', fontsize=15)\n",
    "plt.xticks(df['Hour'].unique())\n",
    "plt.ylabel('Quantity', fontsize=15)\n"
   ]
  },
  {
   "cell_type": "markdown",
   "id": "318a4703",
   "metadata": {
    "papermill": {
     "duration": 0.064143,
     "end_time": "2022-12-09T17:21:47.940764",
     "exception": false,
     "start_time": "2022-12-09T17:21:47.876621",
     "status": "completed"
    },
    "tags": []
   },
   "source": [
    "- food and beverages are seem to be purchased around 10-11 am\n",
    "- fashion and accessiores are seem to be purchased around 4 pm, which can be an ideal time not only for adults but also for teenagers.\n",
    "- home and lifestyle item recorded highest sale around 5 pm, which can be the ideal time for homemakers to make some purchases \n",
    "- electronic sales are seen around 7 pm \n",
    "- health and beauty : we cannot see high peak time for this product"
   ]
  },
  {
   "cell_type": "markdown",
   "id": "60f263bf",
   "metadata": {
    "papermill": {
     "duration": 0.068111,
     "end_time": "2022-12-09T17:21:48.078080",
     "exception": false,
     "start_time": "2022-12-09T17:21:48.009969",
     "status": "completed"
    },
    "tags": []
   },
   "source": [
    "## Rating"
   ]
  },
  {
   "cell_type": "markdown",
   "id": "2c8b0d69",
   "metadata": {
    "papermill": {
     "duration": 0.0627,
     "end_time": "2022-12-09T17:21:48.205713",
     "exception": false,
     "start_time": "2022-12-09T17:21:48.143013",
     "status": "completed"
    },
    "tags": []
   },
   "source": [
    "- find highest, lowest and average rating of the company"
   ]
  },
  {
   "cell_type": "code",
   "execution_count": 84,
   "id": "a2dad9fe",
   "metadata": {
    "execution": {
     "iopub.execute_input": "2022-12-09T17:21:48.328295Z",
     "iopub.status.busy": "2022-12-09T17:21:48.326955Z",
     "iopub.status.idle": "2022-12-09T17:21:48.339100Z",
     "shell.execute_reply": "2022-12-09T17:21:48.338038Z"
    },
    "papermill": {
     "duration": 0.076536,
     "end_time": "2022-12-09T17:21:48.341607",
     "exception": false,
     "start_time": "2022-12-09T17:21:48.265071",
     "status": "completed"
    },
    "tags": []
   },
   "outputs": [
    {
     "data": {
      "text/plain": [
       "max     10.0000\n",
       "min      4.0000\n",
       "mean     6.9727\n",
       "Name: Rating, dtype: float64"
      ]
     },
     "execution_count": 84,
     "metadata": {},
     "output_type": "execute_result"
    }
   ],
   "source": [
    "df[\"Rating\"].agg([\"max\",\"min\",\"mean\"])"
   ]
  },
  {
   "cell_type": "code",
   "execution_count": 85,
   "id": "312cd21a",
   "metadata": {
    "execution": {
     "iopub.execute_input": "2022-12-09T17:21:48.464766Z",
     "iopub.status.busy": "2022-12-09T17:21:48.463887Z",
     "iopub.status.idle": "2022-12-09T17:21:48.668180Z",
     "shell.execute_reply": "2022-12-09T17:21:48.666843Z"
    },
    "papermill": {
     "duration": 0.269632,
     "end_time": "2022-12-09T17:21:48.671163",
     "exception": false,
     "start_time": "2022-12-09T17:21:48.401531",
     "status": "completed"
    },
    "tags": []
   },
   "outputs": [
    {
     "data": {
      "text/plain": [
       "Text(0.5, 1.0, 'Company min, max and avg rating')"
      ]
     },
     "execution_count": 85,
     "metadata": {},
     "output_type": "execute_result"
    },
    {
     "data": {
      "image/png": "[encoded data removed]",
      "text/plain": [
       "<Figure size 432x288 with 1 Axes>"
      ]
     },
     "metadata": {
      "needs_background": "light"
     },
     "output_type": "display_data"
    }
   ],
   "source": [
    "plt.bar(df[\"Rating\"].agg([\"max\",\"min\",\"mean\"]).index,df[\"Rating\"].agg([\"max\",\"min\",\"mean\"]).values)\n",
    "plt.title('Company min, max and avg rating', fontsize=20)"
   ]
  },
  {
   "cell_type": "code",
   "execution_count": 86,
   "id": "88ba90c0",
   "metadata": {
    "execution": {
     "iopub.execute_input": "2022-12-09T17:21:48.797796Z",
     "iopub.status.busy": "2022-12-09T17:21:48.796660Z",
     "iopub.status.idle": "2022-12-09T17:21:48.807429Z",
     "shell.execute_reply": "2022-12-09T17:21:48.805559Z"
    },
    "papermill": {
     "duration": 0.078722,
     "end_time": "2022-12-09T17:21:48.814417",
     "exception": false,
     "start_time": "2022-12-09T17:21:48.735695",
     "status": "completed"
    },
    "tags": []
   },
   "outputs": [
    {
     "name": "stdout",
     "output_type": "stream",
     "text": [
      "5 customers had given 10 rating\n",
      "0.5 % customers had given 10 rating\n"
     ]
    }
   ],
   "source": [
    "print(len(df[df[\"Rating\"]==10.0]), \"customers had given 10 rating\")\n",
    "print((len(df[df[\"Rating\"]==10.0])*100)/df[\"Rating\"].count(),\"% customers had given 10 rating\")"
   ]
  },
  {
   "cell_type": "markdown",
   "id": "20029661",
   "metadata": {
    "papermill": {
     "duration": 0.063366,
     "end_time": "2022-12-09T17:21:48.945922",
     "exception": false,
     "start_time": "2022-12-09T17:21:48.882556",
     "status": "completed"
    },
    "tags": []
   },
   "source": [
    "#### find avg rating of customers\n",
    "#### make countplot of ratings- give bins"
   ]
  },
  {
   "cell_type": "code",
   "execution_count": 87,
   "id": "0d8ad4e9",
   "metadata": {
    "execution": {
     "iopub.execute_input": "2022-12-09T17:21:49.069724Z",
     "iopub.status.busy": "2022-12-09T17:21:49.069075Z",
     "iopub.status.idle": "2022-12-09T17:21:49.079958Z",
     "shell.execute_reply": "2022-12-09T17:21:49.078969Z"
    },
    "papermill": {
     "duration": 0.075889,
     "end_time": "2022-12-09T17:21:49.082962",
     "exception": false,
     "start_time": "2022-12-09T17:21:49.007073",
     "status": "completed"
    },
    "tags": []
   },
   "outputs": [
    {
     "data": {
      "text/plain": [
       "Customer type\n",
       "Member    6.940319\n",
       "Normal    7.005210\n",
       "Name: Rating, dtype: float64"
      ]
     },
     "execution_count": 87,
     "metadata": {},
     "output_type": "execute_result"
    }
   ],
   "source": [
    "df.groupby([\"Customer type\"])[\"Rating\"].mean()"
   ]
  },
  {
   "cell_type": "code",
   "execution_count": 88,
   "id": "93149ae8",
   "metadata": {
    "execution": {
     "iopub.execute_input": "2022-12-09T17:21:49.211518Z",
     "iopub.status.busy": "2022-12-09T17:21:49.210670Z",
     "iopub.status.idle": "2022-12-09T17:21:50.529941Z",
     "shell.execute_reply": "2022-12-09T17:21:50.528281Z"
    },
    "papermill": {
     "duration": 1.386557,
     "end_time": "2022-12-09T17:21:50.533176",
     "exception": false,
     "start_time": "2022-12-09T17:21:49.146619",
     "status": "completed"
    },
    "tags": []
   },
   "outputs": [
    {
     "data": {
      "image/png": "[encoded data removed]",
      "text/plain": [
       "<Figure size 1080x360 with 1 Axes>"
      ]
     },
     "metadata": {
      "needs_background": "light"
     },
     "output_type": "display_data"
    }
   ],
   "source": [
    "plt.figure(figsize=(15,5))\n",
    "sns.countplot(x=\"Rating\",data=df,hue=\"Customer type\");\n",
    "plt.xticks(rotation=90);"
   ]
  },
  {
   "cell_type": "code",
   "execution_count": 89,
   "id": "c63b71b0",
   "metadata": {
    "execution": {
     "iopub.execute_input": "2022-12-09T17:21:50.673143Z",
     "iopub.status.busy": "2022-12-09T17:21:50.671588Z",
     "iopub.status.idle": "2022-12-09T17:21:50.916300Z",
     "shell.execute_reply": "2022-12-09T17:21:50.915360Z"
    },
    "papermill": {
     "duration": 0.317535,
     "end_time": "2022-12-09T17:21:50.918876",
     "exception": false,
     "start_time": "2022-12-09T17:21:50.601341",
     "status": "completed"
    },
    "tags": []
   },
   "outputs": [
    {
     "data": {
      "text/plain": [
       "(array([102.,  93.,  89., 107., 108., 101., 105.,  99.,  91., 105.]),\n",
       " array([ 4. ,  4.6,  5.2,  5.8,  6.4,  7. ,  7.6,  8.2,  8.8,  9.4, 10. ]),\n",
       " <BarContainer object of 10 artists>)"
      ]
     },
     "execution_count": 89,
     "metadata": {},
     "output_type": "execute_result"
    },
    {
     "data": {
      "image/png": "[encoded data removed]",
      "text/plain": [
       "<Figure size 432x288 with 1 Axes>"
      ]
     },
     "metadata": {
      "needs_background": "light"
     },
     "output_type": "display_data"
    }
   ],
   "source": [
    "plt.hist(df[\"Rating\"],edgecolor=\"red\")"
   ]
  },
  {
   "cell_type": "code",
   "execution_count": 90,
   "id": "2cbd7e23",
   "metadata": {
    "execution": {
     "iopub.execute_input": "2022-12-09T17:21:51.057789Z",
     "iopub.status.busy": "2022-12-09T17:21:51.056655Z",
     "iopub.status.idle": "2022-12-09T17:21:51.066083Z",
     "shell.execute_reply": "2022-12-09T17:21:51.064756Z"
    },
    "papermill": {
     "duration": 0.080442,
     "end_time": "2022-12-09T17:21:51.068732",
     "exception": false,
     "start_time": "2022-12-09T17:21:50.988290",
     "status": "completed"
    },
    "tags": []
   },
   "outputs": [
    {
     "data": {
      "text/plain": [
       "166"
      ]
     },
     "execution_count": 90,
     "metadata": {},
     "output_type": "execute_result"
    }
   ],
   "source": [
    "len(df[df[\"Rating\"]>=9.0])"
   ]
  },
  {
   "cell_type": "code",
   "execution_count": 91,
   "id": "df0b4381",
   "metadata": {
    "execution": {
     "iopub.execute_input": "2022-12-09T17:21:51.198353Z",
     "iopub.status.busy": "2022-12-09T17:21:51.197106Z",
     "iopub.status.idle": "2022-12-09T17:21:51.439422Z",
     "shell.execute_reply": "2022-12-09T17:21:51.437730Z"
    },
    "papermill": {
     "duration": 0.311745,
     "end_time": "2022-12-09T17:21:51.442331",
     "exception": false,
     "start_time": "2022-12-09T17:21:51.130586",
     "status": "completed"
    },
    "tags": []
   },
   "outputs": [
    {
     "data": {
      "image/png": "[encoded data removed]",
      "text/plain": [
       "<Figure size 432x288 with 1 Axes>"
      ]
     },
     "metadata": {
      "needs_background": "light"
     },
     "output_type": "display_data"
    }
   ],
   "source": [
    "plt.hist(df[\"Rating\"],edgecolor=\"red\",bins=[0,2,4,6,8,10]);"
   ]
  },
  {
   "cell_type": "markdown",
   "id": "b5e379b1",
   "metadata": {
    "papermill": {
     "duration": 0.063601,
     "end_time": "2022-12-09T17:21:51.572018",
     "exception": false,
     "start_time": "2022-12-09T17:21:51.508417",
     "status": "completed"
    },
    "tags": []
   },
   "source": [
    "-find highest, lowest and average rating at each branch"
   ]
  },
  {
   "cell_type": "code",
   "execution_count": 92,
   "id": "8c7e4ba4",
   "metadata": {
    "execution": {
     "iopub.execute_input": "2022-12-09T17:21:51.703024Z",
     "iopub.status.busy": "2022-12-09T17:21:51.702189Z",
     "iopub.status.idle": "2022-12-09T17:21:51.721123Z",
     "shell.execute_reply": "2022-12-09T17:21:51.719825Z"
    },
    "papermill": {
     "duration": 0.088104,
     "end_time": "2022-12-09T17:21:51.724892",
     "exception": false,
     "start_time": "2022-12-09T17:21:51.636788",
     "status": "completed"
    },
    "tags": []
   },
   "outputs": [
    {
     "data": {
      "text/html": [
       "<div>\n",
       "<style scoped>\n",
       "    .dataframe tbody tr th:only-of-type {\n",
       "        vertical-align: middle;\n",
       "    }\n",
       "\n",
       "    .dataframe tbody tr th {\n",
       "        vertical-align: top;\n",
       "    }\n",
       "\n",
       "    .dataframe thead th {\n",
       "        text-align: right;\n",
       "    }\n",
       "</style>\n",
       "<table border=\"1\" class=\"dataframe\">\n",
       "  <thead>\n",
       "    <tr style=\"text-align: right;\">\n",
       "      <th></th>\n",
       "      <th>Branch</th>\n",
       "      <th>max</th>\n",
       "      <th>min</th>\n",
       "      <th>mean</th>\n",
       "    </tr>\n",
       "  </thead>\n",
       "  <tbody>\n",
       "    <tr>\n",
       "      <th>0</th>\n",
       "      <td>A</td>\n",
       "      <td>10.0</td>\n",
       "      <td>4.0</td>\n",
       "      <td>7.027059</td>\n",
       "    </tr>\n",
       "    <tr>\n",
       "      <th>1</th>\n",
       "      <td>B</td>\n",
       "      <td>10.0</td>\n",
       "      <td>4.0</td>\n",
       "      <td>6.818072</td>\n",
       "    </tr>\n",
       "    <tr>\n",
       "      <th>2</th>\n",
       "      <td>C</td>\n",
       "      <td>10.0</td>\n",
       "      <td>4.0</td>\n",
       "      <td>7.072866</td>\n",
       "    </tr>\n",
       "  </tbody>\n",
       "</table>\n",
       "</div>"
      ],
      "text/plain": [
       "  Branch   max  min      mean\n",
       "0      A  10.0  4.0  7.027059\n",
       "1      B  10.0  4.0  6.818072\n",
       "2      C  10.0  4.0  7.072866"
      ]
     },
     "execution_count": 92,
     "metadata": {},
     "output_type": "execute_result"
    }
   ],
   "source": [
    "x=df.groupby([\"Branch\"])[\"Rating\"].agg([\"max\",\"min\",\"mean\"])\n",
    "x.reset_index()"
   ]
  },
  {
   "cell_type": "markdown",
   "id": "da0bc538",
   "metadata": {
    "papermill": {
     "duration": 0.076397,
     "end_time": "2022-12-09T17:21:51.866490",
     "exception": false,
     "start_time": "2022-12-09T17:21:51.790093",
     "status": "completed"
    },
    "tags": []
   },
   "source": [
    "#### using subplot, make 3 subplots-branch ,max,min, mean"
   ]
  },
  {
   "cell_type": "markdown",
   "id": "63cb6d3e",
   "metadata": {
    "papermill": {
     "duration": 0.062852,
     "end_time": "2022-12-09T17:21:51.996201",
     "exception": false,
     "start_time": "2022-12-09T17:21:51.933349",
     "status": "completed"
    },
    "tags": []
   },
   "source": [
    "- which product category is most liked by customer"
   ]
  },
  {
   "cell_type": "code",
   "execution_count": 93,
   "id": "b7dc3c5a",
   "metadata": {
    "execution": {
     "iopub.execute_input": "2022-12-09T17:21:52.133601Z",
     "iopub.status.busy": "2022-12-09T17:21:52.133161Z",
     "iopub.status.idle": "2022-12-09T17:21:52.152714Z",
     "shell.execute_reply": "2022-12-09T17:21:52.150935Z"
    },
    "papermill": {
     "duration": 0.091894,
     "end_time": "2022-12-09T17:21:52.155912",
     "exception": false,
     "start_time": "2022-12-09T17:21:52.064018",
     "status": "completed"
    },
    "tags": []
   },
   "outputs": [
    {
     "data": {
      "text/html": [
       "<div>\n",
       "<style scoped>\n",
       "    .dataframe tbody tr th:only-of-type {\n",
       "        vertical-align: middle;\n",
       "    }\n",
       "\n",
       "    .dataframe tbody tr th {\n",
       "        vertical-align: top;\n",
       "    }\n",
       "\n",
       "    .dataframe thead th {\n",
       "        text-align: right;\n",
       "    }\n",
       "</style>\n",
       "<table border=\"1\" class=\"dataframe\">\n",
       "  <thead>\n",
       "    <tr style=\"text-align: right;\">\n",
       "      <th></th>\n",
       "      <th>max</th>\n",
       "      <th>min</th>\n",
       "      <th>mean</th>\n",
       "    </tr>\n",
       "    <tr>\n",
       "      <th>Product line</th>\n",
       "      <th></th>\n",
       "      <th></th>\n",
       "      <th></th>\n",
       "    </tr>\n",
       "  </thead>\n",
       "  <tbody>\n",
       "    <tr>\n",
       "      <th>Home and lifestyle</th>\n",
       "      <td>9.9</td>\n",
       "      <td>4.1</td>\n",
       "      <td>6.837500</td>\n",
       "    </tr>\n",
       "    <tr>\n",
       "      <th>Sports and travel</th>\n",
       "      <td>10.0</td>\n",
       "      <td>4.0</td>\n",
       "      <td>6.916265</td>\n",
       "    </tr>\n",
       "    <tr>\n",
       "      <th>Electronic accessories</th>\n",
       "      <td>10.0</td>\n",
       "      <td>4.0</td>\n",
       "      <td>6.924706</td>\n",
       "    </tr>\n",
       "    <tr>\n",
       "      <th>Health and beauty</th>\n",
       "      <td>10.0</td>\n",
       "      <td>4.0</td>\n",
       "      <td>7.003289</td>\n",
       "    </tr>\n",
       "    <tr>\n",
       "      <th>Fashion accessories</th>\n",
       "      <td>9.9</td>\n",
       "      <td>4.0</td>\n",
       "      <td>7.029213</td>\n",
       "    </tr>\n",
       "    <tr>\n",
       "      <th>Food and beverages</th>\n",
       "      <td>9.9</td>\n",
       "      <td>4.0</td>\n",
       "      <td>7.113218</td>\n",
       "    </tr>\n",
       "  </tbody>\n",
       "</table>\n",
       "</div>"
      ],
      "text/plain": [
       "                         max  min      mean\n",
       "Product line                               \n",
       "Home and lifestyle       9.9  4.1  6.837500\n",
       "Sports and travel       10.0  4.0  6.916265\n",
       "Electronic accessories  10.0  4.0  6.924706\n",
       "Health and beauty       10.0  4.0  7.003289\n",
       "Fashion accessories      9.9  4.0  7.029213\n",
       "Food and beverages       9.9  4.0  7.113218"
      ]
     },
     "execution_count": 93,
     "metadata": {},
     "output_type": "execute_result"
    }
   ],
   "source": [
    "df.groupby([\"Product line\"])[\"Rating\"].agg([\"max\",\"min\",\"mean\"]).sort_values(by=\"mean\")"
   ]
  },
  {
   "cell_type": "markdown",
   "id": "7f09cf24",
   "metadata": {
    "papermill": {
     "duration": 0.066216,
     "end_time": "2022-12-09T17:21:52.288777",
     "exception": false,
     "start_time": "2022-12-09T17:21:52.222561",
     "status": "completed"
    },
    "tags": []
   },
   "source": [
    "- find max,min and avg product rating of each branch"
   ]
  },
  {
   "cell_type": "code",
   "execution_count": 94,
   "id": "d2c4ee65",
   "metadata": {
    "execution": {
     "iopub.execute_input": "2022-12-09T17:21:52.416001Z",
     "iopub.status.busy": "2022-12-09T17:21:52.415220Z",
     "iopub.status.idle": "2022-12-09T17:21:52.437163Z",
     "shell.execute_reply": "2022-12-09T17:21:52.435915Z"
    },
    "papermill": {
     "duration": 0.088208,
     "end_time": "2022-12-09T17:21:52.439883",
     "exception": false,
     "start_time": "2022-12-09T17:21:52.351675",
     "status": "completed"
    },
    "tags": []
   },
   "outputs": [
    {
     "data": {
      "text/html": [
       "<div>\n",
       "<style scoped>\n",
       "    .dataframe tbody tr th:only-of-type {\n",
       "        vertical-align: middle;\n",
       "    }\n",
       "\n",
       "    .dataframe tbody tr th {\n",
       "        vertical-align: top;\n",
       "    }\n",
       "\n",
       "    .dataframe thead th {\n",
       "        text-align: right;\n",
       "    }\n",
       "</style>\n",
       "<table border=\"1\" class=\"dataframe\">\n",
       "  <thead>\n",
       "    <tr style=\"text-align: right;\">\n",
       "      <th></th>\n",
       "      <th></th>\n",
       "      <th>max</th>\n",
       "      <th>mean</th>\n",
       "      <th>min</th>\n",
       "    </tr>\n",
       "    <tr>\n",
       "      <th>Branch</th>\n",
       "      <th>Product line</th>\n",
       "      <th></th>\n",
       "      <th></th>\n",
       "      <th></th>\n",
       "    </tr>\n",
       "  </thead>\n",
       "  <tbody>\n",
       "    <tr>\n",
       "      <th rowspan=\"6\" valign=\"top\">A</th>\n",
       "      <th>Electronic accessories</th>\n",
       "      <td>9.9</td>\n",
       "      <td>6.911667</td>\n",
       "      <td>4.3</td>\n",
       "    </tr>\n",
       "    <tr>\n",
       "      <th>Fashion accessories</th>\n",
       "      <td>9.9</td>\n",
       "      <td>6.878431</td>\n",
       "      <td>4.0</td>\n",
       "    </tr>\n",
       "    <tr>\n",
       "      <th>Food and beverages</th>\n",
       "      <td>9.9</td>\n",
       "      <td>7.253448</td>\n",
       "      <td>4.0</td>\n",
       "    </tr>\n",
       "    <tr>\n",
       "      <th>Health and beauty</th>\n",
       "      <td>10.0</td>\n",
       "      <td>6.900000</td>\n",
       "      <td>4.2</td>\n",
       "    </tr>\n",
       "    <tr>\n",
       "      <th>Home and lifestyle</th>\n",
       "      <td>9.9</td>\n",
       "      <td>6.930769</td>\n",
       "      <td>4.1</td>\n",
       "    </tr>\n",
       "    <tr>\n",
       "      <th>Sports and travel</th>\n",
       "      <td>9.9</td>\n",
       "      <td>7.257627</td>\n",
       "      <td>4.1</td>\n",
       "    </tr>\n",
       "    <tr>\n",
       "      <th rowspan=\"6\" valign=\"top\">B</th>\n",
       "      <th>Electronic accessories</th>\n",
       "      <td>10.0</td>\n",
       "      <td>7.116364</td>\n",
       "      <td>4.0</td>\n",
       "    </tr>\n",
       "    <tr>\n",
       "      <th>Fashion accessories</th>\n",
       "      <td>9.9</td>\n",
       "      <td>6.722581</td>\n",
       "      <td>4.1</td>\n",
       "    </tr>\n",
       "    <tr>\n",
       "      <th>Food and beverages</th>\n",
       "      <td>9.9</td>\n",
       "      <td>6.994000</td>\n",
       "      <td>4.0</td>\n",
       "    </tr>\n",
       "    <tr>\n",
       "      <th>Health and beauty</th>\n",
       "      <td>9.9</td>\n",
       "      <td>7.100000</td>\n",
       "      <td>4.0</td>\n",
       "    </tr>\n",
       "    <tr>\n",
       "      <th>Home and lifestyle</th>\n",
       "      <td>9.8</td>\n",
       "      <td>6.516000</td>\n",
       "      <td>4.1</td>\n",
       "    </tr>\n",
       "    <tr>\n",
       "      <th>Sports and travel</th>\n",
       "      <td>10.0</td>\n",
       "      <td>6.509677</td>\n",
       "      <td>4.1</td>\n",
       "    </tr>\n",
       "    <tr>\n",
       "      <th rowspan=\"6\" valign=\"top\">C</th>\n",
       "      <th>Electronic accessories</th>\n",
       "      <td>9.8</td>\n",
       "      <td>6.747273</td>\n",
       "      <td>4.1</td>\n",
       "    </tr>\n",
       "    <tr>\n",
       "      <th>Fashion accessories</th>\n",
       "      <td>9.9</td>\n",
       "      <td>7.440000</td>\n",
       "      <td>4.0</td>\n",
       "    </tr>\n",
       "    <tr>\n",
       "      <th>Food and beverages</th>\n",
       "      <td>9.9</td>\n",
       "      <td>7.080303</td>\n",
       "      <td>4.0</td>\n",
       "    </tr>\n",
       "    <tr>\n",
       "      <th>Health and beauty</th>\n",
       "      <td>9.9</td>\n",
       "      <td>6.998077</td>\n",
       "      <td>4.1</td>\n",
       "    </tr>\n",
       "    <tr>\n",
       "      <th>Home and lifestyle</th>\n",
       "      <td>9.8</td>\n",
       "      <td>7.060000</td>\n",
       "      <td>4.3</td>\n",
       "    </tr>\n",
       "    <tr>\n",
       "      <th>Sports and travel</th>\n",
       "      <td>10.0</td>\n",
       "      <td>7.028889</td>\n",
       "      <td>4.0</td>\n",
       "    </tr>\n",
       "  </tbody>\n",
       "</table>\n",
       "</div>"
      ],
      "text/plain": [
       "                                max      mean  min\n",
       "Branch Product line                               \n",
       "A      Electronic accessories   9.9  6.911667  4.3\n",
       "       Fashion accessories      9.9  6.878431  4.0\n",
       "       Food and beverages       9.9  7.253448  4.0\n",
       "       Health and beauty       10.0  6.900000  4.2\n",
       "       Home and lifestyle       9.9  6.930769  4.1\n",
       "       Sports and travel        9.9  7.257627  4.1\n",
       "B      Electronic accessories  10.0  7.116364  4.0\n",
       "       Fashion accessories      9.9  6.722581  4.1\n",
       "       Food and beverages       9.9  6.994000  4.0\n",
       "       Health and beauty        9.9  7.100000  4.0\n",
       "       Home and lifestyle       9.8  6.516000  4.1\n",
       "       Sports and travel       10.0  6.509677  4.1\n",
       "C      Electronic accessories   9.8  6.747273  4.1\n",
       "       Fashion accessories      9.9  7.440000  4.0\n",
       "       Food and beverages       9.9  7.080303  4.0\n",
       "       Health and beauty        9.9  6.998077  4.1\n",
       "       Home and lifestyle       9.8  7.060000  4.3\n",
       "       Sports and travel       10.0  7.028889  4.0"
      ]
     },
     "execution_count": 94,
     "metadata": {},
     "output_type": "execute_result"
    }
   ],
   "source": [
    "df.groupby([\"Branch\",\"Product line\"])[\"Rating\"].agg([\"max\",\"mean\",\"min\"])\n"
   ]
  },
  {
   "cell_type": "markdown",
   "id": "3bcd18a9",
   "metadata": {
    "papermill": {
     "duration": 0.063984,
     "end_time": "2022-12-09T17:21:52.568108",
     "exception": false,
     "start_time": "2022-12-09T17:21:52.504124",
     "status": "completed"
    },
    "tags": []
   },
   "source": [
    "## Payment"
   ]
  },
  {
   "cell_type": "markdown",
   "id": "b1876e1c",
   "metadata": {
    "papermill": {
     "duration": 0.071192,
     "end_time": "2022-12-09T17:21:52.704618",
     "exception": false,
     "start_time": "2022-12-09T17:21:52.633426",
     "status": "completed"
    },
    "tags": []
   },
   "source": [
    "- find the no of e-wallet, credit card and cash paying customers"
   ]
  },
  {
   "cell_type": "code",
   "execution_count": 95,
   "id": "cfba5655",
   "metadata": {
    "execution": {
     "iopub.execute_input": "2022-12-09T17:21:52.836381Z",
     "iopub.status.busy": "2022-12-09T17:21:52.835625Z",
     "iopub.status.idle": "2022-12-09T17:21:52.844945Z",
     "shell.execute_reply": "2022-12-09T17:21:52.843174Z"
    },
    "papermill": {
     "duration": 0.079121,
     "end_time": "2022-12-09T17:21:52.847807",
     "exception": false,
     "start_time": "2022-12-09T17:21:52.768686",
     "status": "completed"
    },
    "tags": []
   },
   "outputs": [
    {
     "data": {
      "text/plain": [
       "Ewallet        345\n",
       "Cash           344\n",
       "Credit card    311\n",
       "Name: Payment, dtype: int64"
      ]
     },
     "execution_count": 95,
     "metadata": {},
     "output_type": "execute_result"
    }
   ],
   "source": [
    "df[\"Payment\"].value_counts()"
   ]
  },
  {
   "cell_type": "code",
   "execution_count": 96,
   "id": "a2d47279",
   "metadata": {
    "execution": {
     "iopub.execute_input": "2022-12-09T17:21:52.977014Z",
     "iopub.status.busy": "2022-12-09T17:21:52.976244Z",
     "iopub.status.idle": "2022-12-09T17:21:53.199373Z",
     "shell.execute_reply": "2022-12-09T17:21:53.198071Z"
    },
    "papermill": {
     "duration": 0.288824,
     "end_time": "2022-12-09T17:21:53.202138",
     "exception": false,
     "start_time": "2022-12-09T17:21:52.913314",
     "status": "completed"
    },
    "tags": []
   },
   "outputs": [
    {
     "data": {
      "text/plain": [
       "Text(0.5, 1.0, 'Payment Channel')"
      ]
     },
     "execution_count": 96,
     "metadata": {},
     "output_type": "execute_result"
    },
    {
     "data": {
      "image/png": "[encoded data removed]",
      "text/plain": [
       "<Figure size 432x288 with 1 Axes>"
      ]
     },
     "metadata": {
      "needs_background": "light"
     },
     "output_type": "display_data"
    }
   ],
   "source": [
    "sns.countplot(x=\"Payment\",data=df).set_title(\"Payment Channel\") "
   ]
  },
  {
   "cell_type": "markdown",
   "id": "9b2b638c",
   "metadata": {
    "papermill": {
     "duration": 0.064379,
     "end_time": "2022-12-09T17:21:53.332539",
     "exception": false,
     "start_time": "2022-12-09T17:21:53.268160",
     "status": "completed"
    },
    "tags": []
   },
   "source": [
    "- find the no of e-wallet, credit card and cash paying customers of each branch"
   ]
  },
  {
   "cell_type": "code",
   "execution_count": 97,
   "id": "df0b9d7c",
   "metadata": {
    "execution": {
     "iopub.execute_input": "2022-12-09T17:21:53.459843Z",
     "iopub.status.busy": "2022-12-09T17:21:53.459416Z",
     "iopub.status.idle": "2022-12-09T17:21:53.471364Z",
     "shell.execute_reply": "2022-12-09T17:21:53.470039Z"
    },
    "papermill": {
     "duration": 0.080632,
     "end_time": "2022-12-09T17:21:53.474199",
     "exception": false,
     "start_time": "2022-12-09T17:21:53.393567",
     "status": "completed"
    },
    "tags": []
   },
   "outputs": [
    {
     "data": {
      "text/plain": [
       "Branch  Payment    \n",
       "A       Ewallet        126\n",
       "        Cash           110\n",
       "        Credit card    104\n",
       "B       Ewallet        113\n",
       "        Cash           110\n",
       "        Credit card    109\n",
       "C       Cash           124\n",
       "        Ewallet        106\n",
       "        Credit card     98\n",
       "Name: Payment, dtype: int64"
      ]
     },
     "execution_count": 97,
     "metadata": {},
     "output_type": "execute_result"
    }
   ],
   "source": [
    "df.groupby([\"Branch\"])[\"Payment\"].value_counts()"
   ]
  },
  {
   "cell_type": "code",
   "execution_count": 98,
   "id": "37ac5467",
   "metadata": {
    "execution": {
     "iopub.execute_input": "2022-12-09T17:21:53.603088Z",
     "iopub.status.busy": "2022-12-09T17:21:53.602646Z",
     "iopub.status.idle": "2022-12-09T17:21:53.891318Z",
     "shell.execute_reply": "2022-12-09T17:21:53.890046Z"
    },
    "papermill": {
     "duration": 0.355249,
     "end_time": "2022-12-09T17:21:53.894213",
     "exception": false,
     "start_time": "2022-12-09T17:21:53.538964",
     "status": "completed"
    },
    "tags": []
   },
   "outputs": [
    {
     "data": {
      "text/plain": [
       "Text(0.5, 1.0, 'Payment Channel Branch wise')"
      ]
     },
     "execution_count": 98,
     "metadata": {},
     "output_type": "execute_result"
    },
    {
     "data": {
      "image/png": "[encoded data removed]",
      "text/plain": [
       "<Figure size 432x288 with 1 Axes>"
      ]
     },
     "metadata": {
      "needs_background": "light"
     },
     "output_type": "display_data"
    }
   ],
   "source": [
    "sns.countplot(x=\"Payment\",data=df,hue=\"Branch\").set_title(\"Payment Channel Branch wise\") "
   ]
  },
  {
   "cell_type": "markdown",
   "id": "062a7ecf",
   "metadata": {
    "papermill": {
     "duration": 0.123301,
     "end_time": "2022-12-09T17:21:54.079364",
     "exception": false,
     "start_time": "2022-12-09T17:21:53.956063",
     "status": "completed"
    },
    "tags": []
   },
   "source": [
    "- which type of payers leads to more sale"
   ]
  },
  {
   "cell_type": "code",
   "execution_count": 99,
   "id": "8a8f4c2b",
   "metadata": {
    "execution": {
     "iopub.execute_input": "2022-12-09T17:21:54.213149Z",
     "iopub.status.busy": "2022-12-09T17:21:54.212411Z",
     "iopub.status.idle": "2022-12-09T17:21:54.223455Z",
     "shell.execute_reply": "2022-12-09T17:21:54.222548Z"
    },
    "papermill": {
     "duration": 0.082044,
     "end_time": "2022-12-09T17:21:54.226144",
     "exception": false,
     "start_time": "2022-12-09T17:21:54.144100",
     "status": "completed"
    },
    "tags": []
   },
   "outputs": [
    {
     "data": {
      "text/plain": [
       "Branch  Payment    \n",
       "A       Cash           33781.2510\n",
       "        Credit card    33094.7505\n",
       "        Ewallet        39324.3690\n",
       "B       Cash           35339.4615\n",
       "        Credit card    37344.8565\n",
       "        Ewallet        33513.3540\n",
       "C       Cash           43085.8575\n",
       "        Credit card    30327.4650\n",
       "        Ewallet        37155.3840\n",
       "Name: Total, dtype: float64"
      ]
     },
     "execution_count": 99,
     "metadata": {},
     "output_type": "execute_result"
    }
   ],
   "source": [
    "df.groupby([\"Branch\",\"Payment\"])[\"Total\"].sum()"
   ]
  },
  {
   "cell_type": "code",
   "execution_count": 100,
   "id": "84c2a542",
   "metadata": {
    "execution": {
     "iopub.execute_input": "2022-12-09T17:21:54.358302Z",
     "iopub.status.busy": "2022-12-09T17:21:54.357522Z",
     "iopub.status.idle": "2022-12-09T17:21:54.943761Z",
     "shell.execute_reply": "2022-12-09T17:21:54.942456Z"
    },
    "papermill": {
     "duration": 0.654878,
     "end_time": "2022-12-09T17:21:54.946344",
     "exception": false,
     "start_time": "2022-12-09T17:21:54.291466",
     "status": "completed"
    },
    "tags": []
   },
   "outputs": [
    {
     "name": "stderr",
     "output_type": "stream",
     "text": [
      "/opt/conda/lib/python3.7/site-packages/seaborn/_decorators.py:43: FutureWarning: Pass the following variables as keyword args: x, y. From version 0.12, the only valid positional argument will be `data`, and passing other arguments without an explicit keyword will result in an error or misinterpretation.\n",
      "  FutureWarning\n"
     ]
    },
    {
     "data": {
      "image/png": "[encoded data removed]",
      "text/plain": [
       "<Figure size 432x288 with 1 Axes>"
      ]
     },
     "metadata": {
      "needs_background": "light"
     },
     "output_type": "display_data"
    }
   ],
   "source": [
    "sns.barplot(df[\"Branch\"],df[\"Total\"],data=df,hue=\"Payment\",estimator=sum).set_title(\"Customer wise Payment\");"
   ]
  },
  {
   "cell_type": "code",
   "execution_count": null,
   "id": "f01f5a4b",
   "metadata": {
    "papermill": {
     "duration": 0.061509,
     "end_time": "2022-12-09T17:21:55.073155",
     "exception": false,
     "start_time": "2022-12-09T17:21:55.011646",
     "status": "completed"
    },
    "tags": []
   },
   "outputs": [],
   "source": []
  },
  {
   "cell_type": "code",
   "execution_count": null,
   "id": "8271351b",
   "metadata": {
    "papermill": {
     "duration": 0.063687,
     "end_time": "2022-12-09T17:21:55.202733",
     "exception": false,
     "start_time": "2022-12-09T17:21:55.139046",
     "status": "completed"
    },
    "tags": []
   },
   "outputs": [],
   "source": []
  }
 ],
 "metadata": {
  "kernelspec": {
   "display_name": "Python 3",
   "language": "python",
   "name": "python3"
  },
  "language_info": {
   "codemirror_mode": {
    "name": "ipython",
    "version": 3
   },
   "file_extension": ".py",
   "mimetype": "text/x-python",
   "name": "python",
   "nbconvert_exporter": "python",
   "pygments_lexer": "ipython3",
   "version": "3.7.12"
  },
  "papermill": {
   "default_parameters": {},
   "duration": 51.569376,
   "end_time": "2022-12-09T17:21:56.296669",
   "environment_variables": {},
   "exception": null,
   "input_path": "__notebook__.ipynb",
   "output_path": "__notebook__.ipynb",
   "parameters": {},
   "start_time": "2022-12-09T17:21:04.727293",
   "version": "2.3.4"
  }
 },
 "nbformat": 4,
 "nbformat_minor": 5
}
